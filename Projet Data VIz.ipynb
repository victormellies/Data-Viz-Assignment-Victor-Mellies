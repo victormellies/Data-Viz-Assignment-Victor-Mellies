{
 "cells": [
  {
   "cell_type": "code",
   "execution_count": 1,
   "id": "afe9d4cc",
   "metadata": {},
   "outputs": [],
   "source": [
    "import pandas as pd\n",
    "import numpy as np\n",
    "from pandas_datareader import data as pdr\n",
    "import matplotlib.pyplot as plt\n",
    "import seaborn as sns\n",
    "import random\n",
    "from datetime import datetime as dt"
   ]
  },
  {
   "cell_type": "code",
   "execution_count": 2,
   "id": "a7e83131",
   "metadata": {},
   "outputs": [
    {
     "data": {
      "text/html": [
       "<div>\n",
       "<style scoped>\n",
       "    .dataframe tbody tr th:only-of-type {\n",
       "        vertical-align: middle;\n",
       "    }\n",
       "\n",
       "    .dataframe tbody tr th {\n",
       "        vertical-align: top;\n",
       "    }\n",
       "\n",
       "    .dataframe thead th {\n",
       "        text-align: right;\n",
       "    }\n",
       "</style>\n",
       "<table border=\"1\" class=\"dataframe\">\n",
       "  <thead>\n",
       "    <tr style=\"text-align: right;\">\n",
       "      <th></th>\n",
       "      <th>Unnamed: 0</th>\n",
       "      <th>Div</th>\n",
       "      <th>Date</th>\n",
       "      <th>HomeTeam</th>\n",
       "      <th>AwayTeam</th>\n",
       "      <th>FTHG</th>\n",
       "      <th>FTAG</th>\n",
       "      <th>FTR</th>\n",
       "      <th>HTHG</th>\n",
       "      <th>HTAG</th>\n",
       "      <th>...</th>\n",
       "      <th>BbMxAHH</th>\n",
       "      <th>BbAvAHH</th>\n",
       "      <th>BbMxAHA</th>\n",
       "      <th>BbAvAHA</th>\n",
       "      <th>PSH</th>\n",
       "      <th>PSD</th>\n",
       "      <th>PSA</th>\n",
       "      <th>PSCH</th>\n",
       "      <th>PSCD</th>\n",
       "      <th>PSCA</th>\n",
       "    </tr>\n",
       "  </thead>\n",
       "  <tbody>\n",
       "    <tr>\n",
       "      <th>0</th>\n",
       "      <td>0</td>\n",
       "      <td>E0</td>\n",
       "      <td>19/08/00</td>\n",
       "      <td>Charlton</td>\n",
       "      <td>Man City</td>\n",
       "      <td>4</td>\n",
       "      <td>0</td>\n",
       "      <td>H</td>\n",
       "      <td>2</td>\n",
       "      <td>0</td>\n",
       "      <td>...</td>\n",
       "      <td>NaN</td>\n",
       "      <td>NaN</td>\n",
       "      <td>NaN</td>\n",
       "      <td>NaN</td>\n",
       "      <td>NaN</td>\n",
       "      <td>NaN</td>\n",
       "      <td>NaN</td>\n",
       "      <td>NaN</td>\n",
       "      <td>NaN</td>\n",
       "      <td>NaN</td>\n",
       "    </tr>\n",
       "    <tr>\n",
       "      <th>1</th>\n",
       "      <td>1</td>\n",
       "      <td>E0</td>\n",
       "      <td>19/08/00</td>\n",
       "      <td>Chelsea</td>\n",
       "      <td>West Ham</td>\n",
       "      <td>4</td>\n",
       "      <td>2</td>\n",
       "      <td>H</td>\n",
       "      <td>1</td>\n",
       "      <td>0</td>\n",
       "      <td>...</td>\n",
       "      <td>NaN</td>\n",
       "      <td>NaN</td>\n",
       "      <td>NaN</td>\n",
       "      <td>NaN</td>\n",
       "      <td>NaN</td>\n",
       "      <td>NaN</td>\n",
       "      <td>NaN</td>\n",
       "      <td>NaN</td>\n",
       "      <td>NaN</td>\n",
       "      <td>NaN</td>\n",
       "    </tr>\n",
       "    <tr>\n",
       "      <th>2</th>\n",
       "      <td>2</td>\n",
       "      <td>E0</td>\n",
       "      <td>19/08/00</td>\n",
       "      <td>Coventry</td>\n",
       "      <td>Middlesbrough</td>\n",
       "      <td>1</td>\n",
       "      <td>3</td>\n",
       "      <td>A</td>\n",
       "      <td>1</td>\n",
       "      <td>1</td>\n",
       "      <td>...</td>\n",
       "      <td>NaN</td>\n",
       "      <td>NaN</td>\n",
       "      <td>NaN</td>\n",
       "      <td>NaN</td>\n",
       "      <td>NaN</td>\n",
       "      <td>NaN</td>\n",
       "      <td>NaN</td>\n",
       "      <td>NaN</td>\n",
       "      <td>NaN</td>\n",
       "      <td>NaN</td>\n",
       "    </tr>\n",
       "    <tr>\n",
       "      <th>3</th>\n",
       "      <td>3</td>\n",
       "      <td>E0</td>\n",
       "      <td>19/08/00</td>\n",
       "      <td>Derby</td>\n",
       "      <td>Southampton</td>\n",
       "      <td>2</td>\n",
       "      <td>2</td>\n",
       "      <td>D</td>\n",
       "      <td>1</td>\n",
       "      <td>2</td>\n",
       "      <td>...</td>\n",
       "      <td>NaN</td>\n",
       "      <td>NaN</td>\n",
       "      <td>NaN</td>\n",
       "      <td>NaN</td>\n",
       "      <td>NaN</td>\n",
       "      <td>NaN</td>\n",
       "      <td>NaN</td>\n",
       "      <td>NaN</td>\n",
       "      <td>NaN</td>\n",
       "      <td>NaN</td>\n",
       "    </tr>\n",
       "    <tr>\n",
       "      <th>4</th>\n",
       "      <td>4</td>\n",
       "      <td>E0</td>\n",
       "      <td>19/08/00</td>\n",
       "      <td>Leeds</td>\n",
       "      <td>Everton</td>\n",
       "      <td>2</td>\n",
       "      <td>0</td>\n",
       "      <td>H</td>\n",
       "      <td>2</td>\n",
       "      <td>0</td>\n",
       "      <td>...</td>\n",
       "      <td>NaN</td>\n",
       "      <td>NaN</td>\n",
       "      <td>NaN</td>\n",
       "      <td>NaN</td>\n",
       "      <td>NaN</td>\n",
       "      <td>NaN</td>\n",
       "      <td>NaN</td>\n",
       "      <td>NaN</td>\n",
       "      <td>NaN</td>\n",
       "      <td>NaN</td>\n",
       "    </tr>\n",
       "    <tr>\n",
       "      <th>...</th>\n",
       "      <td>...</td>\n",
       "      <td>...</td>\n",
       "      <td>...</td>\n",
       "      <td>...</td>\n",
       "      <td>...</td>\n",
       "      <td>...</td>\n",
       "      <td>...</td>\n",
       "      <td>...</td>\n",
       "      <td>...</td>\n",
       "      <td>...</td>\n",
       "      <td>...</td>\n",
       "      <td>...</td>\n",
       "      <td>...</td>\n",
       "      <td>...</td>\n",
       "      <td>...</td>\n",
       "      <td>...</td>\n",
       "      <td>...</td>\n",
       "      <td>...</td>\n",
       "      <td>...</td>\n",
       "      <td>...</td>\n",
       "      <td>...</td>\n",
       "    </tr>\n",
       "    <tr>\n",
       "      <th>6835</th>\n",
       "      <td>375</td>\n",
       "      <td>E0</td>\n",
       "      <td>13/05/18</td>\n",
       "      <td>Newcastle</td>\n",
       "      <td>Chelsea</td>\n",
       "      <td>3</td>\n",
       "      <td>0</td>\n",
       "      <td>H</td>\n",
       "      <td>1</td>\n",
       "      <td>0</td>\n",
       "      <td>...</td>\n",
       "      <td>1.90</td>\n",
       "      <td>1.83</td>\n",
       "      <td>2.11</td>\n",
       "      <td>2.03</td>\n",
       "      <td>5.96</td>\n",
       "      <td>4.22</td>\n",
       "      <td>1.61</td>\n",
       "      <td>4.85</td>\n",
       "      <td>3.72</td>\n",
       "      <td>1.80</td>\n",
       "    </tr>\n",
       "    <tr>\n",
       "      <th>6836</th>\n",
       "      <td>376</td>\n",
       "      <td>E0</td>\n",
       "      <td>13/05/18</td>\n",
       "      <td>Southampton</td>\n",
       "      <td>Man City</td>\n",
       "      <td>0</td>\n",
       "      <td>1</td>\n",
       "      <td>A</td>\n",
       "      <td>0</td>\n",
       "      <td>0</td>\n",
       "      <td>...</td>\n",
       "      <td>2.01</td>\n",
       "      <td>1.95</td>\n",
       "      <td>1.97</td>\n",
       "      <td>1.91</td>\n",
       "      <td>8.06</td>\n",
       "      <td>5.11</td>\n",
       "      <td>1.42</td>\n",
       "      <td>6.32</td>\n",
       "      <td>4.78</td>\n",
       "      <td>1.51</td>\n",
       "    </tr>\n",
       "    <tr>\n",
       "      <th>6837</th>\n",
       "      <td>377</td>\n",
       "      <td>E0</td>\n",
       "      <td>13/05/18</td>\n",
       "      <td>Swansea</td>\n",
       "      <td>Stoke</td>\n",
       "      <td>1</td>\n",
       "      <td>2</td>\n",
       "      <td>A</td>\n",
       "      <td>1</td>\n",
       "      <td>2</td>\n",
       "      <td>...</td>\n",
       "      <td>1.94</td>\n",
       "      <td>1.88</td>\n",
       "      <td>2.03</td>\n",
       "      <td>1.98</td>\n",
       "      <td>1.91</td>\n",
       "      <td>3.72</td>\n",
       "      <td>4.29</td>\n",
       "      <td>2.08</td>\n",
       "      <td>3.56</td>\n",
       "      <td>3.82</td>\n",
       "    </tr>\n",
       "    <tr>\n",
       "      <th>6838</th>\n",
       "      <td>378</td>\n",
       "      <td>E0</td>\n",
       "      <td>13/05/18</td>\n",
       "      <td>Tottenham</td>\n",
       "      <td>Leicester</td>\n",
       "      <td>5</td>\n",
       "      <td>4</td>\n",
       "      <td>H</td>\n",
       "      <td>1</td>\n",
       "      <td>2</td>\n",
       "      <td>...</td>\n",
       "      <td>1.96</td>\n",
       "      <td>1.86</td>\n",
       "      <td>2.05</td>\n",
       "      <td>2.00</td>\n",
       "      <td>1.33</td>\n",
       "      <td>5.95</td>\n",
       "      <td>9.56</td>\n",
       "      <td>1.38</td>\n",
       "      <td>5.50</td>\n",
       "      <td>8.15</td>\n",
       "    </tr>\n",
       "    <tr>\n",
       "      <th>6839</th>\n",
       "      <td>379</td>\n",
       "      <td>E0</td>\n",
       "      <td>13/05/18</td>\n",
       "      <td>West Ham</td>\n",
       "      <td>Everton</td>\n",
       "      <td>3</td>\n",
       "      <td>1</td>\n",
       "      <td>H</td>\n",
       "      <td>1</td>\n",
       "      <td>0</td>\n",
       "      <td>...</td>\n",
       "      <td>2.09</td>\n",
       "      <td>2.03</td>\n",
       "      <td>1.88</td>\n",
       "      <td>1.84</td>\n",
       "      <td>2.36</td>\n",
       "      <td>3.51</td>\n",
       "      <td>3.17</td>\n",
       "      <td>2.35</td>\n",
       "      <td>3.40</td>\n",
       "      <td>3.28</td>\n",
       "    </tr>\n",
       "  </tbody>\n",
       "</table>\n",
       "<p>6840 rows × 84 columns</p>\n",
       "</div>"
      ],
      "text/plain": [
       "      Unnamed: 0 Div      Date     HomeTeam       AwayTeam  FTHG  FTAG FTR  \\\n",
       "0              0  E0  19/08/00     Charlton       Man City     4     0   H   \n",
       "1              1  E0  19/08/00      Chelsea       West Ham     4     2   H   \n",
       "2              2  E0  19/08/00     Coventry  Middlesbrough     1     3   A   \n",
       "3              3  E0  19/08/00        Derby    Southampton     2     2   D   \n",
       "4              4  E0  19/08/00        Leeds        Everton     2     0   H   \n",
       "...          ...  ..       ...          ...            ...   ...   ...  ..   \n",
       "6835         375  E0  13/05/18    Newcastle        Chelsea     3     0   H   \n",
       "6836         376  E0  13/05/18  Southampton       Man City     0     1   A   \n",
       "6837         377  E0  13/05/18      Swansea          Stoke     1     2   A   \n",
       "6838         378  E0  13/05/18    Tottenham      Leicester     5     4   H   \n",
       "6839         379  E0  13/05/18     West Ham        Everton     3     1   H   \n",
       "\n",
       "      HTHG  HTAG  ... BbMxAHH  BbAvAHH BbMxAHA  BbAvAHA   PSH   PSD   PSA  \\\n",
       "0        2     0  ...     NaN      NaN     NaN      NaN   NaN   NaN   NaN   \n",
       "1        1     0  ...     NaN      NaN     NaN      NaN   NaN   NaN   NaN   \n",
       "2        1     1  ...     NaN      NaN     NaN      NaN   NaN   NaN   NaN   \n",
       "3        1     2  ...     NaN      NaN     NaN      NaN   NaN   NaN   NaN   \n",
       "4        2     0  ...     NaN      NaN     NaN      NaN   NaN   NaN   NaN   \n",
       "...    ...   ...  ...     ...      ...     ...      ...   ...   ...   ...   \n",
       "6835     1     0  ...    1.90     1.83    2.11     2.03  5.96  4.22  1.61   \n",
       "6836     0     0  ...    2.01     1.95    1.97     1.91  8.06  5.11  1.42   \n",
       "6837     1     2  ...    1.94     1.88    2.03     1.98  1.91  3.72  4.29   \n",
       "6838     1     2  ...    1.96     1.86    2.05     2.00  1.33  5.95  9.56   \n",
       "6839     1     0  ...    2.09     2.03    1.88     1.84  2.36  3.51  3.17   \n",
       "\n",
       "      PSCH  PSCD  PSCA  \n",
       "0      NaN   NaN   NaN  \n",
       "1      NaN   NaN   NaN  \n",
       "2      NaN   NaN   NaN  \n",
       "3      NaN   NaN   NaN  \n",
       "4      NaN   NaN   NaN  \n",
       "...    ...   ...   ...  \n",
       "6835  4.85  3.72  1.80  \n",
       "6836  6.32  4.78  1.51  \n",
       "6837  2.08  3.56  3.82  \n",
       "6838  1.38  5.50  8.15  \n",
       "6839  2.35  3.40  3.28  \n",
       "\n",
       "[6840 rows x 84 columns]"
      ]
     },
     "execution_count": 2,
     "metadata": {},
     "output_type": "execute_result"
    }
   ],
   "source": [
    "df = pd.read_csv('allezlefoot.csv')\n",
    "df"
   ]
  },
  {
   "cell_type": "code",
   "execution_count": 25,
   "id": "ebae334b",
   "metadata": {
    "scrolled": true
   },
   "outputs": [],
   "source": [
    "df1 = df[['Date', 'HomeTeam','AwayTeam', 'FTHG', 'FTAG', 'FTR', 'season']]"
   ]
  },
  {
   "cell_type": "code",
   "execution_count": 26,
   "id": "4890387e",
   "metadata": {},
   "outputs": [
    {
     "data": {
      "text/plain": [
       "H    3176\n",
       "A    1913\n",
       "D    1751\n",
       "Name: FTR, dtype: int64"
      ]
     },
     "execution_count": 26,
     "metadata": {},
     "output_type": "execute_result"
    }
   ],
   "source": [
    "df1['FTR'].value_counts()"
   ]
  },
  {
   "cell_type": "code",
   "execution_count": 27,
   "id": "c8844a7b",
   "metadata": {},
   "outputs": [
    {
     "data": {
      "text/plain": [
       "HomeTeam\n",
       "Arsenal             342\n",
       "Tottenham           342\n",
       "Man United          342\n",
       "Everton             342\n",
       "Chelsea             342\n",
       "Liverpool           342\n",
       "Man City            323\n",
       "Aston Villa         304\n",
       "Newcastle           304\n",
       "West Ham            285\n",
       "Sunderland          266\n",
       "Fulham              247\n",
       "West Brom           228\n",
       "Bolton              209\n",
       "Southampton         209\n",
       "Blackburn           209\n",
       "Stoke               190\n",
       "Middlesbrough       171\n",
       "Wigan               152\n",
       "Swansea             133\n",
       "Portsmouth          133\n",
       "Leicester           133\n",
       "Charlton            133\n",
       "Birmingham          133\n",
       "Crystal Palace      114\n",
       "Hull                 95\n",
       "Norwich              95\n",
       "Leeds                76\n",
       "Watford              76\n",
       "Burnley              76\n",
       "Wolves               76\n",
       "QPR                  57\n",
       "Reading              57\n",
       "Derby                57\n",
       "Bournemouth          57\n",
       "Ipswich              38\n",
       "Coventry             19\n",
       "Cardiff              19\n",
       "Brighton             19\n",
       "Bradford             19\n",
       "Middlesboro          19\n",
       "Blackpool            19\n",
       "Huddersfield         19\n",
       "Sheffield United     19\n",
       "Name: FTR, dtype: int64"
      ]
     },
     "execution_count": 27,
     "metadata": {},
     "output_type": "execute_result"
    }
   ],
   "source": [
    "df1.groupby('HomeTeam')['FTR'].count().sort_values(ascending=False)"
   ]
  },
  {
   "cell_type": "code",
   "execution_count": 28,
   "id": "552941a4",
   "metadata": {},
   "outputs": [],
   "source": [
    "dic = {}"
   ]
  },
  {
   "cell_type": "code",
   "execution_count": 29,
   "id": "97144026",
   "metadata": {},
   "outputs": [],
   "source": [
    "dic['Crystal Palace'] = 'London'\n",
    "dic['Arsenal'] = 'London'\n",
    "dic['Tottenham'] = 'London'\n",
    "dic['Man United'] = 'Manchester'\n",
    "dic['Everton'] = 'London'\n",
    "dic['Chelsea'] = 'London'\n",
    "dic['Liverpool'] = 'Liverpool'\n",
    "dic['Man City'] = 'Manchester'\n",
    "dic['Aston Villa'] = 'Birmingham'\n",
    "dic['Newcastle'] = 'Newcastle upon Tyne'\n",
    "dic['West Ham'] = 'London'\n",
    "dic['Sunderland'] = 'Sunderland'\n",
    "dic['Fulham'] = 'London'\n",
    "dic['West Brom'] = 'West Bromwich'\n",
    "dic['Bolton'] = 'Bolton'\n",
    "dic['Southampton'] = 'Southampton'\n",
    "dic['Blackburn'] = 'Blackburn'\n",
    "dic['Stoke'] = 'Stoke-on-Trent'\n",
    "dic['Middlesbrough'] = 'Middlesbrough'\n",
    "dic['Swansea'] = 'Swansea'\n",
    "dic['Wigan'] = 'Wigan'\n",
    "dic['Portsmouth'] = 'Portsmouth'\n",
    "dic['Leicester'] = 'Leicester'\n",
    "dic['Charlton'] = 'London'\n",
    "dic['Birmingham'] = 'Birmingham'\n",
    "dic['Hull'] = 'Hull'\n",
    "dic['Norwich'] = 'Norwich'\n",
    "dic['Watford'] = 'Watford'\n",
    "dic['Burnley'] = 'London'\n",
    "dic['Wolves'] = 'Wolverhampton'\n",
    "dic['QPR'] = 'London'\n",
    "dic['Reading'] = 'Reading'\n",
    "dic['Derby'] = 'Derby'\n",
    "dic['Ipswich'] = 'Suffolk'\n",
    "dic['Coventry'] = 'Birmingham'\n",
    "dic['Cardiff'] = 'Cardiff'\n",
    "dic['Brighton'] = 'Brighton'\n",
    "dic['Bradford'] = 'Bradford'\n",
    "dic['Middlesboro'] = 'Middlesbrough'\n",
    "dic['Blackpool'] = 'Blackpool'\n",
    "dic['Huddersfield'] = 'Huddersfield'\n",
    "dic['Sheffield United'] = 'Sheffield'\n",
    "dic['Leeds'] = 'Leeds'\n",
    "dic['Bournemouth'] = 'Bournemouth'"
   ]
  },
  {
   "cell_type": "code",
   "execution_count": 30,
   "id": "e645bb61",
   "metadata": {},
   "outputs": [
    {
     "data": {
      "text/plain": [
       "{'Crystal Palace': 'London',\n",
       " 'Arsenal': 'London',\n",
       " 'Tottenham': 'London',\n",
       " 'Man United': 'Manchester',\n",
       " 'Everton': 'London',\n",
       " 'Chelsea': 'London',\n",
       " 'Liverpool': 'Liverpool',\n",
       " 'Man City': 'Manchester',\n",
       " 'Aston Villa': 'Birmingham',\n",
       " 'Newcastle': 'Newcastle upon Tyne',\n",
       " 'West Ham': 'London',\n",
       " 'Sunderland': 'Sunderland',\n",
       " 'Fulham': 'London',\n",
       " 'West Brom': 'West Bromwich',\n",
       " 'Bolton': 'Bolton',\n",
       " 'Southampton': 'Southampton',\n",
       " 'Blackburn': 'Blackburn',\n",
       " 'Stoke': 'Stoke-on-Trent',\n",
       " 'Middlesbrough': 'Middlesbrough',\n",
       " 'Swansea': 'Swansea',\n",
       " 'Wigan': 'Wigan',\n",
       " 'Portsmouth': 'Portsmouth',\n",
       " 'Leicester': 'Leicester',\n",
       " 'Charlton': 'London',\n",
       " 'Birmingham': 'Birmingham',\n",
       " 'Hull': 'Hull',\n",
       " 'Norwich': 'Norwich',\n",
       " 'Watford': 'Watford',\n",
       " 'Burnley': 'London',\n",
       " 'Wolves': 'Wolverhampton',\n",
       " 'QPR': 'London',\n",
       " 'Reading': 'Reading',\n",
       " 'Derby': 'Derby',\n",
       " 'Ipswich': 'Suffolk',\n",
       " 'Coventry': 'Birmingham',\n",
       " 'Cardiff': 'Cardiff',\n",
       " 'Brighton': 'Brighton',\n",
       " 'Bradford': 'Bradford',\n",
       " 'Middlesboro': 'Middlesbrough',\n",
       " 'Blackpool': 'Blackpool',\n",
       " 'Huddersfield': 'Huddersfield',\n",
       " 'Sheffield United': 'Sheffield',\n",
       " 'Leeds': 'Leeds',\n",
       " 'Bournemouth': 'Bournemouth'}"
      ]
     },
     "execution_count": 30,
     "metadata": {},
     "output_type": "execute_result"
    }
   ],
   "source": [
    "dic"
   ]
  },
  {
   "cell_type": "code",
   "execution_count": 31,
   "id": "aaaa7c87",
   "metadata": {},
   "outputs": [],
   "source": [
    "def fonction_location(x) : \n",
    "    return dic[x]"
   ]
  },
  {
   "cell_type": "code",
   "execution_count": 32,
   "id": "bedc8ea2",
   "metadata": {},
   "outputs": [
    {
     "name": "stderr",
     "output_type": "stream",
     "text": [
      "<ipython-input-32-955b5bdae0f6>:1: SettingWithCopyWarning:\n",
      "\n",
      "\n",
      "A value is trying to be set on a copy of a slice from a DataFrame.\n",
      "Try using .loc[row_indexer,col_indexer] = value instead\n",
      "\n",
      "See the caveats in the documentation: https://pandas.pydata.org/pandas-docs/stable/user_guide/indexing.html#returning-a-view-versus-a-copy\n",
      "\n"
     ]
    }
   ],
   "source": [
    "df1['location'] = df1['HomeTeam'].apply(fonction_location)"
   ]
  },
  {
   "cell_type": "code",
   "execution_count": 33,
   "id": "1079455b",
   "metadata": {},
   "outputs": [
    {
     "data": {
      "text/plain": [
       "'London'"
      ]
     },
     "execution_count": 33,
     "metadata": {},
     "output_type": "execute_result"
    }
   ],
   "source": [
    "fonction_location('Chelsea')"
   ]
  },
  {
   "cell_type": "code",
   "execution_count": 34,
   "id": "9b3b6e4a",
   "metadata": {},
   "outputs": [
    {
     "data": {
      "text/plain": [
       "0                    London\n",
       "1                    London\n",
       "2                Birmingham\n",
       "3                     Derby\n",
       "4                     Leeds\n",
       "               ...         \n",
       "6835    Newcastle upon Tyne\n",
       "6836            Southampton\n",
       "6837                Swansea\n",
       "6838                 London\n",
       "6839                 London\n",
       "Name: location, Length: 6840, dtype: object"
      ]
     },
     "execution_count": 34,
     "metadata": {},
     "output_type": "execute_result"
    }
   ],
   "source": [
    "df1['location']"
   ]
  },
  {
   "cell_type": "code",
   "execution_count": 35,
   "id": "fe88605a",
   "metadata": {},
   "outputs": [
    {
     "data": {
      "text/plain": [
       "London                 2280\n",
       "Manchester              665\n",
       "Birmingham              456\n",
       "Liverpool               342\n",
       "Newcastle upon Tyne     304\n",
       "Sunderland              266\n",
       "West Bromwich           228\n",
       "Bolton                  209\n",
       "Blackburn               209\n",
       "Southampton             209\n",
       "Stoke-on-Trent          190\n",
       "Middlesbrough           190\n",
       "Wigan                   152\n",
       "Swansea                 133\n",
       "Leicester               133\n",
       "Portsmouth              133\n",
       "Hull                     95\n",
       "Norwich                  95\n",
       "Wolverhampton            76\n",
       "Watford                  76\n",
       "Leeds                    76\n",
       "Derby                    57\n",
       "Bournemouth              57\n",
       "Reading                  57\n",
       "Suffolk                  38\n",
       "Cardiff                  19\n",
       "Brighton                 19\n",
       "Huddersfield             19\n",
       "Sheffield                19\n",
       "Bradford                 19\n",
       "Blackpool                19\n",
       "Name: location, dtype: int64"
      ]
     },
     "execution_count": 35,
     "metadata": {},
     "output_type": "execute_result"
    }
   ],
   "source": [
    "df1['location'].value_counts()"
   ]
  },
  {
   "cell_type": "code",
   "execution_count": 36,
   "id": "c165733e",
   "metadata": {},
   "outputs": [],
   "source": [
    "dic_latlong = {}"
   ]
  },
  {
   "cell_type": "code",
   "execution_count": 37,
   "id": "9338c461",
   "metadata": {},
   "outputs": [
    {
     "name": "stdout",
     "output_type": "stream",
     "text": [
      "latitude is :- 51.5073219 \n",
      "longtitude is:- -0.1276474\n"
     ]
    }
   ],
   "source": [
    "from geopy.geocoders import Nominatim\n",
    "geolocator = Nominatim(user_agent=\"my_user_agent\")\n",
    "city =\"London\"\n",
    "country =\"Uk\"\n",
    "loc = geolocator.geocode(city+','+ country)\n",
    "print(\"latitude is :-\" ,loc.latitude,\"\\nlongtitude is:-\" ,loc.longitude)"
   ]
  },
  {
   "cell_type": "code",
   "execution_count": 38,
   "id": "bee37439",
   "metadata": {},
   "outputs": [
    {
     "data": {
      "text/plain": [
       "array(['London', 'Birmingham', 'Derby', 'Leeds', 'Leicester', 'Liverpool',\n",
       "       'Sunderland', 'Manchester', 'Bradford', 'Suffolk', 'Middlesbrough',\n",
       "       'Newcastle upon Tyne', 'Southampton', 'Bolton', 'Blackburn',\n",
       "       'West Bromwich', 'Portsmouth', 'Wolverhampton', 'Norwich', 'Wigan',\n",
       "       'Reading', 'Sheffield', 'Watford', 'Hull', 'Stoke-on-Trent',\n",
       "       'Blackpool', 'Swansea', 'Cardiff', 'Bournemouth', 'Brighton',\n",
       "       'Huddersfield'], dtype=object)"
      ]
     },
     "execution_count": 38,
     "metadata": {},
     "output_type": "execute_result"
    }
   ],
   "source": [
    "df1['location'].unique()"
   ]
  },
  {
   "cell_type": "code",
   "execution_count": 39,
   "id": "be5a0b99",
   "metadata": {},
   "outputs": [],
   "source": [
    "geolocator = Nominatim(user_agent=\"my_user_agent\")\n",
    "for elem in df1['location'].unique() : \n",
    "    city = elem\n",
    "    country =\"Uk\"\n",
    "    loc = geolocator.geocode(city+','+ country)\n",
    "    dic_latlong[city] = [loc.latitude, loc.longitude]\n",
    "\n",
    "\n",
    "    \n",
    "    "
   ]
  },
  {
   "cell_type": "code",
   "execution_count": 40,
   "id": "9ea67f5b",
   "metadata": {},
   "outputs": [
    {
     "name": "stdout",
     "output_type": "stream",
     "text": [
      "<class 'geopy.location.Location'>\n"
     ]
    }
   ],
   "source": [
    "print(type(loc))"
   ]
  },
  {
   "cell_type": "code",
   "execution_count": 41,
   "id": "50be37e3",
   "metadata": {},
   "outputs": [
    {
     "data": {
      "text/plain": [
       "{'London': [51.5073219, -0.1276474],\n",
       " 'Birmingham': [52.4796992, -1.9026911],\n",
       " 'Derby': [52.9212617, -1.4761491],\n",
       " 'Leeds': [53.7974185, -1.5437941],\n",
       " 'Leicester': [52.6361398, -1.1330789],\n",
       " 'Liverpool': [53.4071991, -2.99168],\n",
       " 'Sunderland': [54.9058512, -1.3828727],\n",
       " 'Manchester': [53.4794892, -2.2451148],\n",
       " 'Bradford': [53.7944229, -1.7519186],\n",
       " 'Suffolk': [52.241001350000005, 1.0466830312565236],\n",
       " 'Middlesbrough': [54.5760419, -1.2344047],\n",
       " 'Newcastle upon Tyne': [54.9738474, -1.6131572],\n",
       " 'Southampton': [50.9025349, -1.404189],\n",
       " 'Bolton': [53.5782863, -2.4300367],\n",
       " 'Blackburn': [53.749326, -2.4840566],\n",
       " 'West Bromwich': [52.5186579, -1.9923114],\n",
       " 'Portsmouth': [50.8036831, -1.075614],\n",
       " 'Wolverhampton': [52.5847651, -2.127567],\n",
       " 'Norwich': [52.628606, 1.29227],\n",
       " 'Wigan': [53.5457188, -2.6264624],\n",
       " 'Reading': [51.456659, -0.9696512],\n",
       " 'Sheffield': [53.3806626, -1.4702278],\n",
       " 'Watford': [51.6553875, -0.3957425],\n",
       " 'Hull': [53.7435722, -0.3394758],\n",
       " 'Stoke-on-Trent': [53.0162014, -2.1812607],\n",
       " 'Blackpool': [53.8182212, -3.0564845],\n",
       " 'Swansea': [51.6195955, -3.9459248],\n",
       " 'Cardiff': [51.4816546, -3.1791934],\n",
       " 'Bournemouth': [50.7194784, -1.8767712],\n",
       " 'Brighton': [50.8214626, -0.1400561],\n",
       " 'Huddersfield': [53.6466645, -1.7822482]}"
      ]
     },
     "execution_count": 41,
     "metadata": {},
     "output_type": "execute_result"
    }
   ],
   "source": [
    "dic_latlong"
   ]
  },
  {
   "cell_type": "code",
   "execution_count": 42,
   "id": "9cecf7a2",
   "metadata": {},
   "outputs": [],
   "source": [
    "nbmatches = df1['location'].value_counts() \n"
   ]
  },
  {
   "cell_type": "code",
   "execution_count": 43,
   "id": "af0283bc",
   "metadata": {
    "scrolled": false
   },
   "outputs": [
    {
     "data": {
      "text/html": [
       "<div>\n",
       "<style scoped>\n",
       "    .dataframe tbody tr th:only-of-type {\n",
       "        vertical-align: middle;\n",
       "    }\n",
       "\n",
       "    .dataframe tbody tr th {\n",
       "        vertical-align: top;\n",
       "    }\n",
       "\n",
       "    .dataframe thead th {\n",
       "        text-align: right;\n",
       "    }\n",
       "</style>\n",
       "<table border=\"1\" class=\"dataframe\">\n",
       "  <thead>\n",
       "    <tr style=\"text-align: right;\">\n",
       "      <th></th>\n",
       "      <th>nbmatches</th>\n",
       "      <th>city</th>\n",
       "      <th>latitude</th>\n",
       "      <th>longitude</th>\n",
       "    </tr>\n",
       "  </thead>\n",
       "  <tbody>\n",
       "    <tr>\n",
       "      <th>0</th>\n",
       "      <td>2280</td>\n",
       "      <td>London</td>\n",
       "      <td>51.507322</td>\n",
       "      <td>-0.127647</td>\n",
       "    </tr>\n",
       "    <tr>\n",
       "      <th>1</th>\n",
       "      <td>665</td>\n",
       "      <td>Manchester</td>\n",
       "      <td>53.479489</td>\n",
       "      <td>-2.245115</td>\n",
       "    </tr>\n",
       "    <tr>\n",
       "      <th>2</th>\n",
       "      <td>456</td>\n",
       "      <td>Birmingham</td>\n",
       "      <td>52.479699</td>\n",
       "      <td>-1.902691</td>\n",
       "    </tr>\n",
       "    <tr>\n",
       "      <th>3</th>\n",
       "      <td>342</td>\n",
       "      <td>Liverpool</td>\n",
       "      <td>53.407199</td>\n",
       "      <td>-2.991680</td>\n",
       "    </tr>\n",
       "    <tr>\n",
       "      <th>4</th>\n",
       "      <td>304</td>\n",
       "      <td>Newcastle upon Tyne</td>\n",
       "      <td>54.973847</td>\n",
       "      <td>-1.613157</td>\n",
       "    </tr>\n",
       "    <tr>\n",
       "      <th>5</th>\n",
       "      <td>266</td>\n",
       "      <td>Sunderland</td>\n",
       "      <td>54.905851</td>\n",
       "      <td>-1.382873</td>\n",
       "    </tr>\n",
       "    <tr>\n",
       "      <th>6</th>\n",
       "      <td>228</td>\n",
       "      <td>West Bromwich</td>\n",
       "      <td>52.518658</td>\n",
       "      <td>-1.992311</td>\n",
       "    </tr>\n",
       "    <tr>\n",
       "      <th>7</th>\n",
       "      <td>209</td>\n",
       "      <td>Bolton</td>\n",
       "      <td>53.578286</td>\n",
       "      <td>-2.430037</td>\n",
       "    </tr>\n",
       "    <tr>\n",
       "      <th>8</th>\n",
       "      <td>209</td>\n",
       "      <td>Blackburn</td>\n",
       "      <td>53.749326</td>\n",
       "      <td>-2.484057</td>\n",
       "    </tr>\n",
       "    <tr>\n",
       "      <th>9</th>\n",
       "      <td>209</td>\n",
       "      <td>Southampton</td>\n",
       "      <td>50.902535</td>\n",
       "      <td>-1.404189</td>\n",
       "    </tr>\n",
       "    <tr>\n",
       "      <th>10</th>\n",
       "      <td>190</td>\n",
       "      <td>Stoke-on-Trent</td>\n",
       "      <td>53.016201</td>\n",
       "      <td>-2.181261</td>\n",
       "    </tr>\n",
       "    <tr>\n",
       "      <th>11</th>\n",
       "      <td>190</td>\n",
       "      <td>Middlesbrough</td>\n",
       "      <td>54.576042</td>\n",
       "      <td>-1.234405</td>\n",
       "    </tr>\n",
       "    <tr>\n",
       "      <th>12</th>\n",
       "      <td>152</td>\n",
       "      <td>Wigan</td>\n",
       "      <td>53.545719</td>\n",
       "      <td>-2.626462</td>\n",
       "    </tr>\n",
       "    <tr>\n",
       "      <th>13</th>\n",
       "      <td>133</td>\n",
       "      <td>Swansea</td>\n",
       "      <td>51.619596</td>\n",
       "      <td>-3.945925</td>\n",
       "    </tr>\n",
       "    <tr>\n",
       "      <th>14</th>\n",
       "      <td>133</td>\n",
       "      <td>Leicester</td>\n",
       "      <td>52.636140</td>\n",
       "      <td>-1.133079</td>\n",
       "    </tr>\n",
       "    <tr>\n",
       "      <th>15</th>\n",
       "      <td>133</td>\n",
       "      <td>Portsmouth</td>\n",
       "      <td>50.803683</td>\n",
       "      <td>-1.075614</td>\n",
       "    </tr>\n",
       "    <tr>\n",
       "      <th>16</th>\n",
       "      <td>95</td>\n",
       "      <td>Hull</td>\n",
       "      <td>53.743572</td>\n",
       "      <td>-0.339476</td>\n",
       "    </tr>\n",
       "    <tr>\n",
       "      <th>17</th>\n",
       "      <td>95</td>\n",
       "      <td>Norwich</td>\n",
       "      <td>52.628606</td>\n",
       "      <td>1.292270</td>\n",
       "    </tr>\n",
       "    <tr>\n",
       "      <th>18</th>\n",
       "      <td>76</td>\n",
       "      <td>Wolverhampton</td>\n",
       "      <td>52.584765</td>\n",
       "      <td>-2.127567</td>\n",
       "    </tr>\n",
       "    <tr>\n",
       "      <th>19</th>\n",
       "      <td>76</td>\n",
       "      <td>Watford</td>\n",
       "      <td>51.655388</td>\n",
       "      <td>-0.395742</td>\n",
       "    </tr>\n",
       "    <tr>\n",
       "      <th>20</th>\n",
       "      <td>76</td>\n",
       "      <td>Leeds</td>\n",
       "      <td>53.797418</td>\n",
       "      <td>-1.543794</td>\n",
       "    </tr>\n",
       "    <tr>\n",
       "      <th>21</th>\n",
       "      <td>57</td>\n",
       "      <td>Derby</td>\n",
       "      <td>52.921262</td>\n",
       "      <td>-1.476149</td>\n",
       "    </tr>\n",
       "    <tr>\n",
       "      <th>22</th>\n",
       "      <td>57</td>\n",
       "      <td>Bournemouth</td>\n",
       "      <td>50.719478</td>\n",
       "      <td>-1.876771</td>\n",
       "    </tr>\n",
       "    <tr>\n",
       "      <th>23</th>\n",
       "      <td>57</td>\n",
       "      <td>Reading</td>\n",
       "      <td>51.456659</td>\n",
       "      <td>-0.969651</td>\n",
       "    </tr>\n",
       "    <tr>\n",
       "      <th>24</th>\n",
       "      <td>38</td>\n",
       "      <td>Suffolk</td>\n",
       "      <td>52.241001</td>\n",
       "      <td>1.046683</td>\n",
       "    </tr>\n",
       "    <tr>\n",
       "      <th>25</th>\n",
       "      <td>19</td>\n",
       "      <td>Cardiff</td>\n",
       "      <td>51.481655</td>\n",
       "      <td>-3.179193</td>\n",
       "    </tr>\n",
       "    <tr>\n",
       "      <th>26</th>\n",
       "      <td>19</td>\n",
       "      <td>Brighton</td>\n",
       "      <td>50.821463</td>\n",
       "      <td>-0.140056</td>\n",
       "    </tr>\n",
       "    <tr>\n",
       "      <th>27</th>\n",
       "      <td>19</td>\n",
       "      <td>Huddersfield</td>\n",
       "      <td>53.646664</td>\n",
       "      <td>-1.782248</td>\n",
       "    </tr>\n",
       "    <tr>\n",
       "      <th>28</th>\n",
       "      <td>19</td>\n",
       "      <td>Sheffield</td>\n",
       "      <td>53.380663</td>\n",
       "      <td>-1.470228</td>\n",
       "    </tr>\n",
       "    <tr>\n",
       "      <th>29</th>\n",
       "      <td>19</td>\n",
       "      <td>Bradford</td>\n",
       "      <td>53.794423</td>\n",
       "      <td>-1.751919</td>\n",
       "    </tr>\n",
       "    <tr>\n",
       "      <th>30</th>\n",
       "      <td>19</td>\n",
       "      <td>Blackpool</td>\n",
       "      <td>53.818221</td>\n",
       "      <td>-3.056484</td>\n",
       "    </tr>\n",
       "  </tbody>\n",
       "</table>\n",
       "</div>"
      ],
      "text/plain": [
       "    nbmatches                 city   latitude  longitude\n",
       "0        2280               London  51.507322  -0.127647\n",
       "1         665           Manchester  53.479489  -2.245115\n",
       "2         456           Birmingham  52.479699  -1.902691\n",
       "3         342            Liverpool  53.407199  -2.991680\n",
       "4         304  Newcastle upon Tyne  54.973847  -1.613157\n",
       "5         266           Sunderland  54.905851  -1.382873\n",
       "6         228        West Bromwich  52.518658  -1.992311\n",
       "7         209               Bolton  53.578286  -2.430037\n",
       "8         209            Blackburn  53.749326  -2.484057\n",
       "9         209          Southampton  50.902535  -1.404189\n",
       "10        190       Stoke-on-Trent  53.016201  -2.181261\n",
       "11        190        Middlesbrough  54.576042  -1.234405\n",
       "12        152                Wigan  53.545719  -2.626462\n",
       "13        133              Swansea  51.619596  -3.945925\n",
       "14        133            Leicester  52.636140  -1.133079\n",
       "15        133           Portsmouth  50.803683  -1.075614\n",
       "16         95                 Hull  53.743572  -0.339476\n",
       "17         95              Norwich  52.628606   1.292270\n",
       "18         76        Wolverhampton  52.584765  -2.127567\n",
       "19         76              Watford  51.655388  -0.395742\n",
       "20         76                Leeds  53.797418  -1.543794\n",
       "21         57                Derby  52.921262  -1.476149\n",
       "22         57          Bournemouth  50.719478  -1.876771\n",
       "23         57              Reading  51.456659  -0.969651\n",
       "24         38              Suffolk  52.241001   1.046683\n",
       "25         19              Cardiff  51.481655  -3.179193\n",
       "26         19             Brighton  50.821463  -0.140056\n",
       "27         19         Huddersfield  53.646664  -1.782248\n",
       "28         19            Sheffield  53.380663  -1.470228\n",
       "29         19             Bradford  53.794423  -1.751919\n",
       "30         19            Blackpool  53.818221  -3.056484"
      ]
     },
     "execution_count": 43,
     "metadata": {},
     "output_type": "execute_result"
    }
   ],
   "source": [
    "import plotly.graph_objects as go\n",
    "import plotly.express as px\n",
    "\n",
    "dffinalnbmatches = pd.DataFrame(nbmatches) \n",
    "dffinalnbmatches.columns = ['nbmatches']\n",
    "dffinallatlong = pd.DataFrame(dic_latlong).transpose()\n",
    "dffinallatlong\n",
    "dffinallatlong.columns = ['latitude', 'longitude']\n",
    "dffinalnbmatches['city'] = dffinalnbmatches.index\n",
    "dffinallatlong['city'] = dffinallatlong.index\n",
    "dffinal = pd.merge(dffinalnbmatches, dffinallatlong, on = 'city')\n",
    "dffinal\n",
    "\n"
   ]
  },
  {
   "cell_type": "code",
   "execution_count": 24,
   "id": "14689b12",
   "metadata": {
    "scrolled": false
   },
   "outputs": [
    {
     "data": {
      "application/vnd.plotly.v1+json": {
       "config": {
        "plotlyServerURL": "https://plot.ly"
       },
       "data": [
        {
         "geo": "geo",
         "hovertemplate": "<b>%{hovertext}</b><br><br>nbmatches=%{marker.size}<br>latitude=%{lat}<br>longitude=%{lon}<extra></extra>",
         "hovertext": [
          "London",
          "Manchester",
          "Birmingham",
          "Liverpool",
          "Newcastle upon Tyne",
          "Sunderland",
          "West Bromwich",
          "Bolton",
          "Blackburn",
          "Southampton",
          "Stoke-on-Trent",
          "Middlesbrough",
          "Wigan",
          "Swansea",
          "Leicester",
          "Portsmouth",
          "Hull",
          "Norwich",
          "Wolverhampton",
          "Watford",
          "Leeds",
          "Derby",
          "Bournemouth",
          "Reading",
          "Suffolk",
          "Cardiff",
          "Brighton",
          "Huddersfield",
          "Sheffield",
          "Bradford",
          "Blackpool"
         ],
         "lat": [
          51.5073219,
          53.4794892,
          52.4796992,
          53.4071991,
          54.9738474,
          54.9058512,
          52.5186579,
          53.5782863,
          53.749326,
          50.9025349,
          53.0162014,
          54.5760419,
          53.5457188,
          51.6195955,
          52.6361398,
          50.8036831,
          53.7435722,
          52.628606,
          52.5847651,
          51.6553875,
          53.7974185,
          52.9212617,
          50.7194784,
          51.456659,
          52.241001350000005,
          51.4816546,
          50.8214626,
          53.6466645,
          53.3806626,
          53.7944229,
          53.8182212
         ],
         "legendgroup": "",
         "lon": [
          -0.1276474,
          -2.2451148,
          -1.9026911,
          -2.99168,
          -1.6131572,
          -1.3828727,
          -1.9923114,
          -2.4300367,
          -2.4840566,
          -1.404189,
          -2.1812607,
          -1.2344047,
          -2.6264624,
          -3.9459248,
          -1.1330789,
          -1.075614,
          -0.3394758,
          1.29227,
          -2.127567,
          -0.3957425,
          -1.5437941,
          -1.4761491,
          -1.8767712,
          -0.9696512,
          1.0466830312565236,
          -3.1791934,
          -0.1400561,
          -1.7822482,
          -1.4702278,
          -1.7519186,
          -3.0564845
         ],
         "marker": {
          "color": "#636efa",
          "size": [
           2280,
           665,
           456,
           342,
           304,
           266,
           228,
           209,
           209,
           209,
           190,
           190,
           152,
           133,
           133,
           133,
           95,
           95,
           76,
           76,
           76,
           57,
           57,
           57,
           38,
           19,
           19,
           19,
           19,
           19,
           19
          ],
          "sizemode": "area",
          "sizeref": 5.7,
          "symbol": "circle"
         },
         "mode": "markers",
         "name": "",
         "showlegend": false,
         "type": "scattergeo"
        }
       ],
       "layout": {
        "geo": {
         "center": {},
         "domain": {
          "x": [
           0,
           1
          ],
          "y": [
           0,
           1
          ]
         },
         "scope": "europe"
        },
        "legend": {
         "itemsizing": "constant",
         "tracegroupgap": 0
        },
        "margin": {
         "t": 60
        },
        "template": {
         "data": {
          "bar": [
           {
            "error_x": {
             "color": "#2a3f5f"
            },
            "error_y": {
             "color": "#2a3f5f"
            },
            "marker": {
             "line": {
              "color": "#E5ECF6",
              "width": 0.5
             },
             "pattern": {
              "fillmode": "overlay",
              "size": 10,
              "solidity": 0.2
             }
            },
            "type": "bar"
           }
          ],
          "barpolar": [
           {
            "marker": {
             "line": {
              "color": "#E5ECF6",
              "width": 0.5
             },
             "pattern": {
              "fillmode": "overlay",
              "size": 10,
              "solidity": 0.2
             }
            },
            "type": "barpolar"
           }
          ],
          "carpet": [
           {
            "aaxis": {
             "endlinecolor": "#2a3f5f",
             "gridcolor": "white",
             "linecolor": "white",
             "minorgridcolor": "white",
             "startlinecolor": "#2a3f5f"
            },
            "baxis": {
             "endlinecolor": "#2a3f5f",
             "gridcolor": "white",
             "linecolor": "white",
             "minorgridcolor": "white",
             "startlinecolor": "#2a3f5f"
            },
            "type": "carpet"
           }
          ],
          "choropleth": [
           {
            "colorbar": {
             "outlinewidth": 0,
             "ticks": ""
            },
            "type": "choropleth"
           }
          ],
          "contour": [
           {
            "colorbar": {
             "outlinewidth": 0,
             "ticks": ""
            },
            "colorscale": [
             [
              0,
              "#0d0887"
             ],
             [
              0.1111111111111111,
              "#46039f"
             ],
             [
              0.2222222222222222,
              "#7201a8"
             ],
             [
              0.3333333333333333,
              "#9c179e"
             ],
             [
              0.4444444444444444,
              "#bd3786"
             ],
             [
              0.5555555555555556,
              "#d8576b"
             ],
             [
              0.6666666666666666,
              "#ed7953"
             ],
             [
              0.7777777777777778,
              "#fb9f3a"
             ],
             [
              0.8888888888888888,
              "#fdca26"
             ],
             [
              1,
              "#f0f921"
             ]
            ],
            "type": "contour"
           }
          ],
          "contourcarpet": [
           {
            "colorbar": {
             "outlinewidth": 0,
             "ticks": ""
            },
            "type": "contourcarpet"
           }
          ],
          "heatmap": [
           {
            "colorbar": {
             "outlinewidth": 0,
             "ticks": ""
            },
            "colorscale": [
             [
              0,
              "#0d0887"
             ],
             [
              0.1111111111111111,
              "#46039f"
             ],
             [
              0.2222222222222222,
              "#7201a8"
             ],
             [
              0.3333333333333333,
              "#9c179e"
             ],
             [
              0.4444444444444444,
              "#bd3786"
             ],
             [
              0.5555555555555556,
              "#d8576b"
             ],
             [
              0.6666666666666666,
              "#ed7953"
             ],
             [
              0.7777777777777778,
              "#fb9f3a"
             ],
             [
              0.8888888888888888,
              "#fdca26"
             ],
             [
              1,
              "#f0f921"
             ]
            ],
            "type": "heatmap"
           }
          ],
          "heatmapgl": [
           {
            "colorbar": {
             "outlinewidth": 0,
             "ticks": ""
            },
            "colorscale": [
             [
              0,
              "#0d0887"
             ],
             [
              0.1111111111111111,
              "#46039f"
             ],
             [
              0.2222222222222222,
              "#7201a8"
             ],
             [
              0.3333333333333333,
              "#9c179e"
             ],
             [
              0.4444444444444444,
              "#bd3786"
             ],
             [
              0.5555555555555556,
              "#d8576b"
             ],
             [
              0.6666666666666666,
              "#ed7953"
             ],
             [
              0.7777777777777778,
              "#fb9f3a"
             ],
             [
              0.8888888888888888,
              "#fdca26"
             ],
             [
              1,
              "#f0f921"
             ]
            ],
            "type": "heatmapgl"
           }
          ],
          "histogram": [
           {
            "marker": {
             "pattern": {
              "fillmode": "overlay",
              "size": 10,
              "solidity": 0.2
             }
            },
            "type": "histogram"
           }
          ],
          "histogram2d": [
           {
            "colorbar": {
             "outlinewidth": 0,
             "ticks": ""
            },
            "colorscale": [
             [
              0,
              "#0d0887"
             ],
             [
              0.1111111111111111,
              "#46039f"
             ],
             [
              0.2222222222222222,
              "#7201a8"
             ],
             [
              0.3333333333333333,
              "#9c179e"
             ],
             [
              0.4444444444444444,
              "#bd3786"
             ],
             [
              0.5555555555555556,
              "#d8576b"
             ],
             [
              0.6666666666666666,
              "#ed7953"
             ],
             [
              0.7777777777777778,
              "#fb9f3a"
             ],
             [
              0.8888888888888888,
              "#fdca26"
             ],
             [
              1,
              "#f0f921"
             ]
            ],
            "type": "histogram2d"
           }
          ],
          "histogram2dcontour": [
           {
            "colorbar": {
             "outlinewidth": 0,
             "ticks": ""
            },
            "colorscale": [
             [
              0,
              "#0d0887"
             ],
             [
              0.1111111111111111,
              "#46039f"
             ],
             [
              0.2222222222222222,
              "#7201a8"
             ],
             [
              0.3333333333333333,
              "#9c179e"
             ],
             [
              0.4444444444444444,
              "#bd3786"
             ],
             [
              0.5555555555555556,
              "#d8576b"
             ],
             [
              0.6666666666666666,
              "#ed7953"
             ],
             [
              0.7777777777777778,
              "#fb9f3a"
             ],
             [
              0.8888888888888888,
              "#fdca26"
             ],
             [
              1,
              "#f0f921"
             ]
            ],
            "type": "histogram2dcontour"
           }
          ],
          "mesh3d": [
           {
            "colorbar": {
             "outlinewidth": 0,
             "ticks": ""
            },
            "type": "mesh3d"
           }
          ],
          "parcoords": [
           {
            "line": {
             "colorbar": {
              "outlinewidth": 0,
              "ticks": ""
             }
            },
            "type": "parcoords"
           }
          ],
          "pie": [
           {
            "automargin": true,
            "type": "pie"
           }
          ],
          "scatter": [
           {
            "marker": {
             "colorbar": {
              "outlinewidth": 0,
              "ticks": ""
             }
            },
            "type": "scatter"
           }
          ],
          "scatter3d": [
           {
            "line": {
             "colorbar": {
              "outlinewidth": 0,
              "ticks": ""
             }
            },
            "marker": {
             "colorbar": {
              "outlinewidth": 0,
              "ticks": ""
             }
            },
            "type": "scatter3d"
           }
          ],
          "scattercarpet": [
           {
            "marker": {
             "colorbar": {
              "outlinewidth": 0,
              "ticks": ""
             }
            },
            "type": "scattercarpet"
           }
          ],
          "scattergeo": [
           {
            "marker": {
             "colorbar": {
              "outlinewidth": 0,
              "ticks": ""
             }
            },
            "type": "scattergeo"
           }
          ],
          "scattergl": [
           {
            "marker": {
             "colorbar": {
              "outlinewidth": 0,
              "ticks": ""
             }
            },
            "type": "scattergl"
           }
          ],
          "scattermapbox": [
           {
            "marker": {
             "colorbar": {
              "outlinewidth": 0,
              "ticks": ""
             }
            },
            "type": "scattermapbox"
           }
          ],
          "scatterpolar": [
           {
            "marker": {
             "colorbar": {
              "outlinewidth": 0,
              "ticks": ""
             }
            },
            "type": "scatterpolar"
           }
          ],
          "scatterpolargl": [
           {
            "marker": {
             "colorbar": {
              "outlinewidth": 0,
              "ticks": ""
             }
            },
            "type": "scatterpolargl"
           }
          ],
          "scatterternary": [
           {
            "marker": {
             "colorbar": {
              "outlinewidth": 0,
              "ticks": ""
             }
            },
            "type": "scatterternary"
           }
          ],
          "surface": [
           {
            "colorbar": {
             "outlinewidth": 0,
             "ticks": ""
            },
            "colorscale": [
             [
              0,
              "#0d0887"
             ],
             [
              0.1111111111111111,
              "#46039f"
             ],
             [
              0.2222222222222222,
              "#7201a8"
             ],
             [
              0.3333333333333333,
              "#9c179e"
             ],
             [
              0.4444444444444444,
              "#bd3786"
             ],
             [
              0.5555555555555556,
              "#d8576b"
             ],
             [
              0.6666666666666666,
              "#ed7953"
             ],
             [
              0.7777777777777778,
              "#fb9f3a"
             ],
             [
              0.8888888888888888,
              "#fdca26"
             ],
             [
              1,
              "#f0f921"
             ]
            ],
            "type": "surface"
           }
          ],
          "table": [
           {
            "cells": {
             "fill": {
              "color": "#EBF0F8"
             },
             "line": {
              "color": "white"
             }
            },
            "header": {
             "fill": {
              "color": "#C8D4E3"
             },
             "line": {
              "color": "white"
             }
            },
            "type": "table"
           }
          ]
         },
         "layout": {
          "annotationdefaults": {
           "arrowcolor": "#2a3f5f",
           "arrowhead": 0,
           "arrowwidth": 1
          },
          "autotypenumbers": "strict",
          "coloraxis": {
           "colorbar": {
            "outlinewidth": 0,
            "ticks": ""
           }
          },
          "colorscale": {
           "diverging": [
            [
             0,
             "#8e0152"
            ],
            [
             0.1,
             "#c51b7d"
            ],
            [
             0.2,
             "#de77ae"
            ],
            [
             0.3,
             "#f1b6da"
            ],
            [
             0.4,
             "#fde0ef"
            ],
            [
             0.5,
             "#f7f7f7"
            ],
            [
             0.6,
             "#e6f5d0"
            ],
            [
             0.7,
             "#b8e186"
            ],
            [
             0.8,
             "#7fbc41"
            ],
            [
             0.9,
             "#4d9221"
            ],
            [
             1,
             "#276419"
            ]
           ],
           "sequential": [
            [
             0,
             "#0d0887"
            ],
            [
             0.1111111111111111,
             "#46039f"
            ],
            [
             0.2222222222222222,
             "#7201a8"
            ],
            [
             0.3333333333333333,
             "#9c179e"
            ],
            [
             0.4444444444444444,
             "#bd3786"
            ],
            [
             0.5555555555555556,
             "#d8576b"
            ],
            [
             0.6666666666666666,
             "#ed7953"
            ],
            [
             0.7777777777777778,
             "#fb9f3a"
            ],
            [
             0.8888888888888888,
             "#fdca26"
            ],
            [
             1,
             "#f0f921"
            ]
           ],
           "sequentialminus": [
            [
             0,
             "#0d0887"
            ],
            [
             0.1111111111111111,
             "#46039f"
            ],
            [
             0.2222222222222222,
             "#7201a8"
            ],
            [
             0.3333333333333333,
             "#9c179e"
            ],
            [
             0.4444444444444444,
             "#bd3786"
            ],
            [
             0.5555555555555556,
             "#d8576b"
            ],
            [
             0.6666666666666666,
             "#ed7953"
            ],
            [
             0.7777777777777778,
             "#fb9f3a"
            ],
            [
             0.8888888888888888,
             "#fdca26"
            ],
            [
             1,
             "#f0f921"
            ]
           ]
          },
          "colorway": [
           "#636efa",
           "#EF553B",
           "#00cc96",
           "#ab63fa",
           "#FFA15A",
           "#19d3f3",
           "#FF6692",
           "#B6E880",
           "#FF97FF",
           "#FECB52"
          ],
          "font": {
           "color": "#2a3f5f"
          },
          "geo": {
           "bgcolor": "white",
           "lakecolor": "white",
           "landcolor": "#E5ECF6",
           "showlakes": true,
           "showland": true,
           "subunitcolor": "white"
          },
          "hoverlabel": {
           "align": "left"
          },
          "hovermode": "closest",
          "mapbox": {
           "style": "light"
          },
          "paper_bgcolor": "white",
          "plot_bgcolor": "#E5ECF6",
          "polar": {
           "angularaxis": {
            "gridcolor": "white",
            "linecolor": "white",
            "ticks": ""
           },
           "bgcolor": "#E5ECF6",
           "radialaxis": {
            "gridcolor": "white",
            "linecolor": "white",
            "ticks": ""
           }
          },
          "scene": {
           "xaxis": {
            "backgroundcolor": "#E5ECF6",
            "gridcolor": "white",
            "gridwidth": 2,
            "linecolor": "white",
            "showbackground": true,
            "ticks": "",
            "zerolinecolor": "white"
           },
           "yaxis": {
            "backgroundcolor": "#E5ECF6",
            "gridcolor": "white",
            "gridwidth": 2,
            "linecolor": "white",
            "showbackground": true,
            "ticks": "",
            "zerolinecolor": "white"
           },
           "zaxis": {
            "backgroundcolor": "#E5ECF6",
            "gridcolor": "white",
            "gridwidth": 2,
            "linecolor": "white",
            "showbackground": true,
            "ticks": "",
            "zerolinecolor": "white"
           }
          },
          "shapedefaults": {
           "line": {
            "color": "#2a3f5f"
           }
          },
          "ternary": {
           "aaxis": {
            "gridcolor": "white",
            "linecolor": "white",
            "ticks": ""
           },
           "baxis": {
            "gridcolor": "white",
            "linecolor": "white",
            "ticks": ""
           },
           "bgcolor": "#E5ECF6",
           "caxis": {
            "gridcolor": "white",
            "linecolor": "white",
            "ticks": ""
           }
          },
          "title": {
           "x": 0.05
          },
          "xaxis": {
           "automargin": true,
           "gridcolor": "white",
           "linecolor": "white",
           "ticks": "",
           "title": {
            "standoff": 15
           },
           "zerolinecolor": "white",
           "zerolinewidth": 2
          },
          "yaxis": {
           "automargin": true,
           "gridcolor": "white",
           "linecolor": "white",
           "ticks": "",
           "title": {
            "standoff": 15
           },
           "zerolinecolor": "white",
           "zerolinewidth": 2
          }
         }
        }
       }
      },
      "text/html": [
       "<div>                            <div id=\"1812112e-96fa-41c6-b477-1848070c0201\" class=\"plotly-graph-div\" style=\"height:525px; width:100%;\"></div>            <script type=\"text/javascript\">                require([\"plotly\"], function(Plotly) {                    window.PLOTLYENV=window.PLOTLYENV || {};                                    if (document.getElementById(\"1812112e-96fa-41c6-b477-1848070c0201\")) {                    Plotly.newPlot(                        \"1812112e-96fa-41c6-b477-1848070c0201\",                        [{\"geo\":\"geo\",\"hovertemplate\":\"<b>%{hovertext}</b><br><br>nbmatches=%{marker.size}<br>latitude=%{lat}<br>longitude=%{lon}<extra></extra>\",\"hovertext\":[\"London\",\"Manchester\",\"Birmingham\",\"Liverpool\",\"Newcastle upon Tyne\",\"Sunderland\",\"West Bromwich\",\"Bolton\",\"Blackburn\",\"Southampton\",\"Stoke-on-Trent\",\"Middlesbrough\",\"Wigan\",\"Swansea\",\"Leicester\",\"Portsmouth\",\"Hull\",\"Norwich\",\"Wolverhampton\",\"Watford\",\"Leeds\",\"Derby\",\"Bournemouth\",\"Reading\",\"Suffolk\",\"Cardiff\",\"Brighton\",\"Huddersfield\",\"Sheffield\",\"Bradford\",\"Blackpool\"],\"lat\":[51.5073219,53.4794892,52.4796992,53.4071991,54.9738474,54.9058512,52.5186579,53.5782863,53.749326,50.9025349,53.0162014,54.5760419,53.5457188,51.6195955,52.6361398,50.8036831,53.7435722,52.628606,52.5847651,51.6553875,53.7974185,52.9212617,50.7194784,51.456659,52.241001350000005,51.4816546,50.8214626,53.6466645,53.3806626,53.7944229,53.8182212],\"legendgroup\":\"\",\"lon\":[-0.1276474,-2.2451148,-1.9026911,-2.99168,-1.6131572,-1.3828727,-1.9923114,-2.4300367,-2.4840566,-1.404189,-2.1812607,-1.2344047,-2.6264624,-3.9459248,-1.1330789,-1.075614,-0.3394758,1.29227,-2.127567,-0.3957425,-1.5437941,-1.4761491,-1.8767712,-0.9696512,1.0466830312565236,-3.1791934,-0.1400561,-1.7822482,-1.4702278,-1.7519186,-3.0564845],\"marker\":{\"color\":\"#636efa\",\"size\":[2280,665,456,342,304,266,228,209,209,209,190,190,152,133,133,133,95,95,76,76,76,57,57,57,38,19,19,19,19,19,19],\"sizemode\":\"area\",\"sizeref\":5.7,\"symbol\":\"circle\"},\"mode\":\"markers\",\"name\":\"\",\"showlegend\":false,\"type\":\"scattergeo\"}],                        {\"template\":{\"data\":{\"bar\":[{\"error_x\":{\"color\":\"#2a3f5f\"},\"error_y\":{\"color\":\"#2a3f5f\"},\"marker\":{\"line\":{\"color\":\"#E5ECF6\",\"width\":0.5},\"pattern\":{\"fillmode\":\"overlay\",\"size\":10,\"solidity\":0.2}},\"type\":\"bar\"}],\"barpolar\":[{\"marker\":{\"line\":{\"color\":\"#E5ECF6\",\"width\":0.5},\"pattern\":{\"fillmode\":\"overlay\",\"size\":10,\"solidity\":0.2}},\"type\":\"barpolar\"}],\"carpet\":[{\"aaxis\":{\"endlinecolor\":\"#2a3f5f\",\"gridcolor\":\"white\",\"linecolor\":\"white\",\"minorgridcolor\":\"white\",\"startlinecolor\":\"#2a3f5f\"},\"baxis\":{\"endlinecolor\":\"#2a3f5f\",\"gridcolor\":\"white\",\"linecolor\":\"white\",\"minorgridcolor\":\"white\",\"startlinecolor\":\"#2a3f5f\"},\"type\":\"carpet\"}],\"choropleth\":[{\"colorbar\":{\"outlinewidth\":0,\"ticks\":\"\"},\"type\":\"choropleth\"}],\"contour\":[{\"colorbar\":{\"outlinewidth\":0,\"ticks\":\"\"},\"colorscale\":[[0.0,\"#0d0887\"],[0.1111111111111111,\"#46039f\"],[0.2222222222222222,\"#7201a8\"],[0.3333333333333333,\"#9c179e\"],[0.4444444444444444,\"#bd3786\"],[0.5555555555555556,\"#d8576b\"],[0.6666666666666666,\"#ed7953\"],[0.7777777777777778,\"#fb9f3a\"],[0.8888888888888888,\"#fdca26\"],[1.0,\"#f0f921\"]],\"type\":\"contour\"}],\"contourcarpet\":[{\"colorbar\":{\"outlinewidth\":0,\"ticks\":\"\"},\"type\":\"contourcarpet\"}],\"heatmap\":[{\"colorbar\":{\"outlinewidth\":0,\"ticks\":\"\"},\"colorscale\":[[0.0,\"#0d0887\"],[0.1111111111111111,\"#46039f\"],[0.2222222222222222,\"#7201a8\"],[0.3333333333333333,\"#9c179e\"],[0.4444444444444444,\"#bd3786\"],[0.5555555555555556,\"#d8576b\"],[0.6666666666666666,\"#ed7953\"],[0.7777777777777778,\"#fb9f3a\"],[0.8888888888888888,\"#fdca26\"],[1.0,\"#f0f921\"]],\"type\":\"heatmap\"}],\"heatmapgl\":[{\"colorbar\":{\"outlinewidth\":0,\"ticks\":\"\"},\"colorscale\":[[0.0,\"#0d0887\"],[0.1111111111111111,\"#46039f\"],[0.2222222222222222,\"#7201a8\"],[0.3333333333333333,\"#9c179e\"],[0.4444444444444444,\"#bd3786\"],[0.5555555555555556,\"#d8576b\"],[0.6666666666666666,\"#ed7953\"],[0.7777777777777778,\"#fb9f3a\"],[0.8888888888888888,\"#fdca26\"],[1.0,\"#f0f921\"]],\"type\":\"heatmapgl\"}],\"histogram\":[{\"marker\":{\"pattern\":{\"fillmode\":\"overlay\",\"size\":10,\"solidity\":0.2}},\"type\":\"histogram\"}],\"histogram2d\":[{\"colorbar\":{\"outlinewidth\":0,\"ticks\":\"\"},\"colorscale\":[[0.0,\"#0d0887\"],[0.1111111111111111,\"#46039f\"],[0.2222222222222222,\"#7201a8\"],[0.3333333333333333,\"#9c179e\"],[0.4444444444444444,\"#bd3786\"],[0.5555555555555556,\"#d8576b\"],[0.6666666666666666,\"#ed7953\"],[0.7777777777777778,\"#fb9f3a\"],[0.8888888888888888,\"#fdca26\"],[1.0,\"#f0f921\"]],\"type\":\"histogram2d\"}],\"histogram2dcontour\":[{\"colorbar\":{\"outlinewidth\":0,\"ticks\":\"\"},\"colorscale\":[[0.0,\"#0d0887\"],[0.1111111111111111,\"#46039f\"],[0.2222222222222222,\"#7201a8\"],[0.3333333333333333,\"#9c179e\"],[0.4444444444444444,\"#bd3786\"],[0.5555555555555556,\"#d8576b\"],[0.6666666666666666,\"#ed7953\"],[0.7777777777777778,\"#fb9f3a\"],[0.8888888888888888,\"#fdca26\"],[1.0,\"#f0f921\"]],\"type\":\"histogram2dcontour\"}],\"mesh3d\":[{\"colorbar\":{\"outlinewidth\":0,\"ticks\":\"\"},\"type\":\"mesh3d\"}],\"parcoords\":[{\"line\":{\"colorbar\":{\"outlinewidth\":0,\"ticks\":\"\"}},\"type\":\"parcoords\"}],\"pie\":[{\"automargin\":true,\"type\":\"pie\"}],\"scatter\":[{\"marker\":{\"colorbar\":{\"outlinewidth\":0,\"ticks\":\"\"}},\"type\":\"scatter\"}],\"scatter3d\":[{\"line\":{\"colorbar\":{\"outlinewidth\":0,\"ticks\":\"\"}},\"marker\":{\"colorbar\":{\"outlinewidth\":0,\"ticks\":\"\"}},\"type\":\"scatter3d\"}],\"scattercarpet\":[{\"marker\":{\"colorbar\":{\"outlinewidth\":0,\"ticks\":\"\"}},\"type\":\"scattercarpet\"}],\"scattergeo\":[{\"marker\":{\"colorbar\":{\"outlinewidth\":0,\"ticks\":\"\"}},\"type\":\"scattergeo\"}],\"scattergl\":[{\"marker\":{\"colorbar\":{\"outlinewidth\":0,\"ticks\":\"\"}},\"type\":\"scattergl\"}],\"scattermapbox\":[{\"marker\":{\"colorbar\":{\"outlinewidth\":0,\"ticks\":\"\"}},\"type\":\"scattermapbox\"}],\"scatterpolar\":[{\"marker\":{\"colorbar\":{\"outlinewidth\":0,\"ticks\":\"\"}},\"type\":\"scatterpolar\"}],\"scatterpolargl\":[{\"marker\":{\"colorbar\":{\"outlinewidth\":0,\"ticks\":\"\"}},\"type\":\"scatterpolargl\"}],\"scatterternary\":[{\"marker\":{\"colorbar\":{\"outlinewidth\":0,\"ticks\":\"\"}},\"type\":\"scatterternary\"}],\"surface\":[{\"colorbar\":{\"outlinewidth\":0,\"ticks\":\"\"},\"colorscale\":[[0.0,\"#0d0887\"],[0.1111111111111111,\"#46039f\"],[0.2222222222222222,\"#7201a8\"],[0.3333333333333333,\"#9c179e\"],[0.4444444444444444,\"#bd3786\"],[0.5555555555555556,\"#d8576b\"],[0.6666666666666666,\"#ed7953\"],[0.7777777777777778,\"#fb9f3a\"],[0.8888888888888888,\"#fdca26\"],[1.0,\"#f0f921\"]],\"type\":\"surface\"}],\"table\":[{\"cells\":{\"fill\":{\"color\":\"#EBF0F8\"},\"line\":{\"color\":\"white\"}},\"header\":{\"fill\":{\"color\":\"#C8D4E3\"},\"line\":{\"color\":\"white\"}},\"type\":\"table\"}]},\"layout\":{\"annotationdefaults\":{\"arrowcolor\":\"#2a3f5f\",\"arrowhead\":0,\"arrowwidth\":1},\"autotypenumbers\":\"strict\",\"coloraxis\":{\"colorbar\":{\"outlinewidth\":0,\"ticks\":\"\"}},\"colorscale\":{\"diverging\":[[0,\"#8e0152\"],[0.1,\"#c51b7d\"],[0.2,\"#de77ae\"],[0.3,\"#f1b6da\"],[0.4,\"#fde0ef\"],[0.5,\"#f7f7f7\"],[0.6,\"#e6f5d0\"],[0.7,\"#b8e186\"],[0.8,\"#7fbc41\"],[0.9,\"#4d9221\"],[1,\"#276419\"]],\"sequential\":[[0.0,\"#0d0887\"],[0.1111111111111111,\"#46039f\"],[0.2222222222222222,\"#7201a8\"],[0.3333333333333333,\"#9c179e\"],[0.4444444444444444,\"#bd3786\"],[0.5555555555555556,\"#d8576b\"],[0.6666666666666666,\"#ed7953\"],[0.7777777777777778,\"#fb9f3a\"],[0.8888888888888888,\"#fdca26\"],[1.0,\"#f0f921\"]],\"sequentialminus\":[[0.0,\"#0d0887\"],[0.1111111111111111,\"#46039f\"],[0.2222222222222222,\"#7201a8\"],[0.3333333333333333,\"#9c179e\"],[0.4444444444444444,\"#bd3786\"],[0.5555555555555556,\"#d8576b\"],[0.6666666666666666,\"#ed7953\"],[0.7777777777777778,\"#fb9f3a\"],[0.8888888888888888,\"#fdca26\"],[1.0,\"#f0f921\"]]},\"colorway\":[\"#636efa\",\"#EF553B\",\"#00cc96\",\"#ab63fa\",\"#FFA15A\",\"#19d3f3\",\"#FF6692\",\"#B6E880\",\"#FF97FF\",\"#FECB52\"],\"font\":{\"color\":\"#2a3f5f\"},\"geo\":{\"bgcolor\":\"white\",\"lakecolor\":\"white\",\"landcolor\":\"#E5ECF6\",\"showlakes\":true,\"showland\":true,\"subunitcolor\":\"white\"},\"hoverlabel\":{\"align\":\"left\"},\"hovermode\":\"closest\",\"mapbox\":{\"style\":\"light\"},\"paper_bgcolor\":\"white\",\"plot_bgcolor\":\"#E5ECF6\",\"polar\":{\"angularaxis\":{\"gridcolor\":\"white\",\"linecolor\":\"white\",\"ticks\":\"\"},\"bgcolor\":\"#E5ECF6\",\"radialaxis\":{\"gridcolor\":\"white\",\"linecolor\":\"white\",\"ticks\":\"\"}},\"scene\":{\"xaxis\":{\"backgroundcolor\":\"#E5ECF6\",\"gridcolor\":\"white\",\"gridwidth\":2,\"linecolor\":\"white\",\"showbackground\":true,\"ticks\":\"\",\"zerolinecolor\":\"white\"},\"yaxis\":{\"backgroundcolor\":\"#E5ECF6\",\"gridcolor\":\"white\",\"gridwidth\":2,\"linecolor\":\"white\",\"showbackground\":true,\"ticks\":\"\",\"zerolinecolor\":\"white\"},\"zaxis\":{\"backgroundcolor\":\"#E5ECF6\",\"gridcolor\":\"white\",\"gridwidth\":2,\"linecolor\":\"white\",\"showbackground\":true,\"ticks\":\"\",\"zerolinecolor\":\"white\"}},\"shapedefaults\":{\"line\":{\"color\":\"#2a3f5f\"}},\"ternary\":{\"aaxis\":{\"gridcolor\":\"white\",\"linecolor\":\"white\",\"ticks\":\"\"},\"baxis\":{\"gridcolor\":\"white\",\"linecolor\":\"white\",\"ticks\":\"\"},\"bgcolor\":\"#E5ECF6\",\"caxis\":{\"gridcolor\":\"white\",\"linecolor\":\"white\",\"ticks\":\"\"}},\"title\":{\"x\":0.05},\"xaxis\":{\"automargin\":true,\"gridcolor\":\"white\",\"linecolor\":\"white\",\"ticks\":\"\",\"title\":{\"standoff\":15},\"zerolinecolor\":\"white\",\"zerolinewidth\":2},\"yaxis\":{\"automargin\":true,\"gridcolor\":\"white\",\"linecolor\":\"white\",\"ticks\":\"\",\"title\":{\"standoff\":15},\"zerolinecolor\":\"white\",\"zerolinewidth\":2}}},\"geo\":{\"domain\":{\"x\":[0.0,1.0],\"y\":[0.0,1.0]},\"center\":{},\"scope\":\"europe\"},\"legend\":{\"tracegroupgap\":0,\"itemsizing\":\"constant\"},\"margin\":{\"t\":60}},                        {\"responsive\": true}                    ).then(function(){\n",
       "                            \n",
       "var gd = document.getElementById('1812112e-96fa-41c6-b477-1848070c0201');\n",
       "var x = new MutationObserver(function (mutations, observer) {{\n",
       "        var display = window.getComputedStyle(gd).display;\n",
       "        if (!display || display === 'none') {{\n",
       "            console.log([gd, 'removed!']);\n",
       "            Plotly.purge(gd);\n",
       "            observer.disconnect();\n",
       "        }}\n",
       "}});\n",
       "\n",
       "// Listen for the removal of the full notebook cells\n",
       "var notebookContainer = gd.closest('#notebook-container');\n",
       "if (notebookContainer) {{\n",
       "    x.observe(notebookContainer, {childList: true});\n",
       "}}\n",
       "\n",
       "// Listen for the clearing of the current output cell\n",
       "var outputEl = gd.closest('.output');\n",
       "if (outputEl) {{\n",
       "    x.observe(outputEl, {childList: true});\n",
       "}}\n",
       "\n",
       "                        })                };                });            </script>        </div>"
      ]
     },
     "metadata": {},
     "output_type": "display_data"
    }
   ],
   "source": [
    "px.scatter_geo(dffinal, lat = 'latitude', lon = 'longitude', size = 'nbmatches', scope = 'europe', hover_name = 'city')"
   ]
  },
  {
   "cell_type": "code",
   "execution_count": 79,
   "id": "c1822a2f",
   "metadata": {},
   "outputs": [
    {
     "data": {
      "text/plain": [
       "{'London': ['Charlton',\n",
       "  'Chelsea',\n",
       "  'Tottenham',\n",
       "  'Arsenal',\n",
       "  'Everton',\n",
       "  'West Ham'],\n",
       " 'Birmingham': ['Coventry', 'Aston Villa'],\n",
       " 'Derby': ['Derby'],\n",
       " 'Leeds': ['Leeds'],\n",
       " 'Leicester': ['Leicester'],\n",
       " 'Liverpool': ['Liverpool'],\n",
       " 'Sunderland': ['Sunderland'],\n",
       " 'Manchester': ['Man United', 'Man City'],\n",
       " 'Bradford': ['Bradford'],\n",
       " 'Suffolk': ['Ipswich'],\n",
       " 'Middlesbrough': ['Middlesbrough'],\n",
       " 'Newcastle upon Tyne': ['Newcastle'],\n",
       " 'Southampton': ['Southampton']}"
      ]
     },
     "execution_count": 79,
     "metadata": {},
     "output_type": "execute_result"
    }
   ],
   "source": [
    "season = '2000-01'\n",
    "matchseason = df[df['season'] == season]\n",
    "Team = matchseason['HomeTeam'].unique()\n",
    "dicoseason = {}\n",
    "for t in Team :\n",
    "    city = fonction_location(t)\n",
    "    if city in dicoseason.keys() : \n",
    "        dicoseason[city].append(t)\n",
    "    else : \n",
    "        dicoseason[city] = [t]\n",
    "dicoseason\n",
    "        \n",
    "        \n",
    "    "
   ]
  },
  {
   "cell_type": "code",
   "execution_count": 80,
   "id": "4ef60893",
   "metadata": {},
   "outputs": [
    {
     "data": {
      "text/html": [
       "<div>\n",
       "<style scoped>\n",
       "    .dataframe tbody tr th:only-of-type {\n",
       "        vertical-align: middle;\n",
       "    }\n",
       "\n",
       "    .dataframe tbody tr th {\n",
       "        vertical-align: top;\n",
       "    }\n",
       "\n",
       "    .dataframe thead th {\n",
       "        text-align: right;\n",
       "    }\n",
       "</style>\n",
       "<table border=\"1\" class=\"dataframe\">\n",
       "  <thead>\n",
       "    <tr style=\"text-align: right;\">\n",
       "      <th></th>\n",
       "      <th>Season</th>\n",
       "      <th>City</th>\n",
       "      <th>Latitude</th>\n",
       "      <th>Longitude</th>\n",
       "      <th>Clubs</th>\n",
       "      <th>NbClubs</th>\n",
       "    </tr>\n",
       "  </thead>\n",
       "  <tbody>\n",
       "    <tr>\n",
       "      <th>0</th>\n",
       "      <td>2000-01</td>\n",
       "      <td>London</td>\n",
       "      <td>51.507322</td>\n",
       "      <td>-0.127647</td>\n",
       "      <td>[Charlton, Chelsea, Tottenham, Arsenal, Everto...</td>\n",
       "      <td>6</td>\n",
       "    </tr>\n",
       "    <tr>\n",
       "      <th>1</th>\n",
       "      <td>2000-01</td>\n",
       "      <td>Birmingham</td>\n",
       "      <td>52.479699</td>\n",
       "      <td>-1.902691</td>\n",
       "      <td>[Coventry, Aston Villa]</td>\n",
       "      <td>2</td>\n",
       "    </tr>\n",
       "    <tr>\n",
       "      <th>2</th>\n",
       "      <td>2000-01</td>\n",
       "      <td>Derby</td>\n",
       "      <td>52.921262</td>\n",
       "      <td>-1.476149</td>\n",
       "      <td>[Derby]</td>\n",
       "      <td>1</td>\n",
       "    </tr>\n",
       "    <tr>\n",
       "      <th>3</th>\n",
       "      <td>2000-01</td>\n",
       "      <td>Leeds</td>\n",
       "      <td>53.797418</td>\n",
       "      <td>-1.543794</td>\n",
       "      <td>[Leeds]</td>\n",
       "      <td>1</td>\n",
       "    </tr>\n",
       "    <tr>\n",
       "      <th>4</th>\n",
       "      <td>2000-01</td>\n",
       "      <td>Leicester</td>\n",
       "      <td>52.636140</td>\n",
       "      <td>-1.133079</td>\n",
       "      <td>[Leicester]</td>\n",
       "      <td>1</td>\n",
       "    </tr>\n",
       "    <tr>\n",
       "      <th>5</th>\n",
       "      <td>2000-01</td>\n",
       "      <td>Liverpool</td>\n",
       "      <td>53.407199</td>\n",
       "      <td>-2.991680</td>\n",
       "      <td>[Liverpool]</td>\n",
       "      <td>1</td>\n",
       "    </tr>\n",
       "    <tr>\n",
       "      <th>6</th>\n",
       "      <td>2000-01</td>\n",
       "      <td>Sunderland</td>\n",
       "      <td>54.905851</td>\n",
       "      <td>-1.382873</td>\n",
       "      <td>[Sunderland]</td>\n",
       "      <td>1</td>\n",
       "    </tr>\n",
       "    <tr>\n",
       "      <th>7</th>\n",
       "      <td>2000-01</td>\n",
       "      <td>Manchester</td>\n",
       "      <td>53.479489</td>\n",
       "      <td>-2.245115</td>\n",
       "      <td>[Man United, Man City]</td>\n",
       "      <td>2</td>\n",
       "    </tr>\n",
       "    <tr>\n",
       "      <th>8</th>\n",
       "      <td>2000-01</td>\n",
       "      <td>Bradford</td>\n",
       "      <td>53.794423</td>\n",
       "      <td>-1.751919</td>\n",
       "      <td>[Bradford]</td>\n",
       "      <td>1</td>\n",
       "    </tr>\n",
       "    <tr>\n",
       "      <th>9</th>\n",
       "      <td>2000-01</td>\n",
       "      <td>Suffolk</td>\n",
       "      <td>52.241001</td>\n",
       "      <td>1.046683</td>\n",
       "      <td>[Ipswich]</td>\n",
       "      <td>1</td>\n",
       "    </tr>\n",
       "    <tr>\n",
       "      <th>10</th>\n",
       "      <td>2000-01</td>\n",
       "      <td>Middlesbrough</td>\n",
       "      <td>54.576042</td>\n",
       "      <td>-1.234405</td>\n",
       "      <td>[Middlesbrough]</td>\n",
       "      <td>1</td>\n",
       "    </tr>\n",
       "    <tr>\n",
       "      <th>11</th>\n",
       "      <td>2000-01</td>\n",
       "      <td>Newcastle upon Tyne</td>\n",
       "      <td>54.973847</td>\n",
       "      <td>-1.613157</td>\n",
       "      <td>[Newcastle]</td>\n",
       "      <td>1</td>\n",
       "    </tr>\n",
       "    <tr>\n",
       "      <th>12</th>\n",
       "      <td>2000-01</td>\n",
       "      <td>Southampton</td>\n",
       "      <td>50.902535</td>\n",
       "      <td>-1.404189</td>\n",
       "      <td>[Southampton]</td>\n",
       "      <td>1</td>\n",
       "    </tr>\n",
       "  </tbody>\n",
       "</table>\n",
       "</div>"
      ],
      "text/plain": [
       "     Season                 City   Latitude  Longitude  \\\n",
       "0   2000-01               London  51.507322  -0.127647   \n",
       "1   2000-01           Birmingham  52.479699  -1.902691   \n",
       "2   2000-01                Derby  52.921262  -1.476149   \n",
       "3   2000-01                Leeds  53.797418  -1.543794   \n",
       "4   2000-01            Leicester  52.636140  -1.133079   \n",
       "5   2000-01            Liverpool  53.407199  -2.991680   \n",
       "6   2000-01           Sunderland  54.905851  -1.382873   \n",
       "7   2000-01           Manchester  53.479489  -2.245115   \n",
       "8   2000-01             Bradford  53.794423  -1.751919   \n",
       "9   2000-01              Suffolk  52.241001   1.046683   \n",
       "10  2000-01        Middlesbrough  54.576042  -1.234405   \n",
       "11  2000-01  Newcastle upon Tyne  54.973847  -1.613157   \n",
       "12  2000-01          Southampton  50.902535  -1.404189   \n",
       "\n",
       "                                                Clubs  NbClubs  \n",
       "0   [Charlton, Chelsea, Tottenham, Arsenal, Everto...        6  \n",
       "1                             [Coventry, Aston Villa]        2  \n",
       "2                                             [Derby]        1  \n",
       "3                                             [Leeds]        1  \n",
       "4                                         [Leicester]        1  \n",
       "5                                         [Liverpool]        1  \n",
       "6                                        [Sunderland]        1  \n",
       "7                              [Man United, Man City]        2  \n",
       "8                                          [Bradford]        1  \n",
       "9                                           [Ipswich]        1  \n",
       "10                                    [Middlesbrough]        1  \n",
       "11                                        [Newcastle]        1  \n",
       "12                                      [Southampton]        1  "
      ]
     },
     "execution_count": 80,
     "metadata": {},
     "output_type": "execute_result"
    }
   ],
   "source": [
    "df2 = pd.DataFrame(np.nan, columns = ['Season', 'City', 'Latitude', 'Longitude', 'Clubs', 'NbClubs'], index = range(len(dicoseason)))\n",
    "df2['Season'] = season\n",
    "df2['Clubs'] = [dicoseason[k] for k in dicoseason.keys()]\n",
    "df2['City'] = dicoseason.keys()\n",
    "df2['Latitude'] = df2['City'].apply(lambda x : geolocator.geocode(x+','+ country).latitude)\n",
    "df2['Longitude'] = df2['City'].apply(lambda x : geolocator.geocode(x+','+ country).longitude)\n",
    "df2['NbClubs'] = df2['Clubs'].apply(len)\n",
    "df2"
   ]
  },
  {
   "cell_type": "code",
   "execution_count": 81,
   "id": "4ce1d334",
   "metadata": {},
   "outputs": [],
   "source": [
    "from tqdm import tqdm "
   ]
  },
  {
   "cell_type": "code",
   "execution_count": 82,
   "id": "e41b544f",
   "metadata": {},
   "outputs": [
    {
     "name": "stderr",
     "output_type": "stream",
     "text": [
      "100%|██████████| 17/17 [03:39<00:00, 12.94s/it]\n"
     ]
    },
    {
     "data": {
      "text/html": [
       "<div>\n",
       "<style scoped>\n",
       "    .dataframe tbody tr th:only-of-type {\n",
       "        vertical-align: middle;\n",
       "    }\n",
       "\n",
       "    .dataframe tbody tr th {\n",
       "        vertical-align: top;\n",
       "    }\n",
       "\n",
       "    .dataframe thead th {\n",
       "        text-align: right;\n",
       "    }\n",
       "</style>\n",
       "<table border=\"1\" class=\"dataframe\">\n",
       "  <thead>\n",
       "    <tr style=\"text-align: right;\">\n",
       "      <th></th>\n",
       "      <th>Season</th>\n",
       "      <th>City</th>\n",
       "      <th>Latitude</th>\n",
       "      <th>Longitude</th>\n",
       "      <th>Clubs</th>\n",
       "      <th>NbClubs</th>\n",
       "    </tr>\n",
       "  </thead>\n",
       "  <tbody>\n",
       "    <tr>\n",
       "      <th>0</th>\n",
       "      <td>2000-01</td>\n",
       "      <td>London</td>\n",
       "      <td>51.507322</td>\n",
       "      <td>-0.127647</td>\n",
       "      <td>[Charlton, Chelsea, Tottenham, Arsenal, Everto...</td>\n",
       "      <td>6</td>\n",
       "    </tr>\n",
       "    <tr>\n",
       "      <th>1</th>\n",
       "      <td>2000-01</td>\n",
       "      <td>Birmingham</td>\n",
       "      <td>52.479699</td>\n",
       "      <td>-1.902691</td>\n",
       "      <td>[Coventry, Aston Villa]</td>\n",
       "      <td>2</td>\n",
       "    </tr>\n",
       "    <tr>\n",
       "      <th>2</th>\n",
       "      <td>2000-01</td>\n",
       "      <td>Derby</td>\n",
       "      <td>52.921262</td>\n",
       "      <td>-1.476149</td>\n",
       "      <td>[Derby]</td>\n",
       "      <td>1</td>\n",
       "    </tr>\n",
       "    <tr>\n",
       "      <th>3</th>\n",
       "      <td>2000-01</td>\n",
       "      <td>Leeds</td>\n",
       "      <td>53.797418</td>\n",
       "      <td>-1.543794</td>\n",
       "      <td>[Leeds]</td>\n",
       "      <td>1</td>\n",
       "    </tr>\n",
       "    <tr>\n",
       "      <th>4</th>\n",
       "      <td>2000-01</td>\n",
       "      <td>Leicester</td>\n",
       "      <td>52.636140</td>\n",
       "      <td>-1.133079</td>\n",
       "      <td>[Leicester]</td>\n",
       "      <td>1</td>\n",
       "    </tr>\n",
       "    <tr>\n",
       "      <th>...</th>\n",
       "      <td>...</td>\n",
       "      <td>...</td>\n",
       "      <td>...</td>\n",
       "      <td>...</td>\n",
       "      <td>...</td>\n",
       "      <td>...</td>\n",
       "    </tr>\n",
       "    <tr>\n",
       "      <th>8</th>\n",
       "      <td>2017-18</td>\n",
       "      <td>Leicester</td>\n",
       "      <td>52.636140</td>\n",
       "      <td>-1.133079</td>\n",
       "      <td>[Leicester]</td>\n",
       "      <td>1</td>\n",
       "    </tr>\n",
       "    <tr>\n",
       "      <th>9</th>\n",
       "      <td>2017-18</td>\n",
       "      <td>Liverpool</td>\n",
       "      <td>53.407199</td>\n",
       "      <td>-2.991680</td>\n",
       "      <td>[Liverpool]</td>\n",
       "      <td>1</td>\n",
       "    </tr>\n",
       "    <tr>\n",
       "      <th>10</th>\n",
       "      <td>2017-18</td>\n",
       "      <td>Stoke-on-Trent</td>\n",
       "      <td>53.016201</td>\n",
       "      <td>-2.181261</td>\n",
       "      <td>[Stoke]</td>\n",
       "      <td>1</td>\n",
       "    </tr>\n",
       "    <tr>\n",
       "      <th>11</th>\n",
       "      <td>2017-18</td>\n",
       "      <td>Swansea</td>\n",
       "      <td>51.619596</td>\n",
       "      <td>-3.945925</td>\n",
       "      <td>[Swansea]</td>\n",
       "      <td>1</td>\n",
       "    </tr>\n",
       "    <tr>\n",
       "      <th>12</th>\n",
       "      <td>2017-18</td>\n",
       "      <td>Huddersfield</td>\n",
       "      <td>53.646664</td>\n",
       "      <td>-1.782248</td>\n",
       "      <td>[Huddersfield]</td>\n",
       "      <td>1</td>\n",
       "    </tr>\n",
       "  </tbody>\n",
       "</table>\n",
       "<p>233 rows × 6 columns</p>\n",
       "</div>"
      ],
      "text/plain": [
       "     Season            City   Latitude  Longitude  \\\n",
       "0   2000-01          London  51.507322  -0.127647   \n",
       "1   2000-01      Birmingham  52.479699  -1.902691   \n",
       "2   2000-01           Derby  52.921262  -1.476149   \n",
       "3   2000-01           Leeds  53.797418  -1.543794   \n",
       "4   2000-01       Leicester  52.636140  -1.133079   \n",
       "..      ...             ...        ...        ...   \n",
       "8   2017-18       Leicester  52.636140  -1.133079   \n",
       "9   2017-18       Liverpool  53.407199  -2.991680   \n",
       "10  2017-18  Stoke-on-Trent  53.016201  -2.181261   \n",
       "11  2017-18         Swansea  51.619596  -3.945925   \n",
       "12  2017-18    Huddersfield  53.646664  -1.782248   \n",
       "\n",
       "                                                Clubs  NbClubs  \n",
       "0   [Charlton, Chelsea, Tottenham, Arsenal, Everto...        6  \n",
       "1                             [Coventry, Aston Villa]        2  \n",
       "2                                             [Derby]        1  \n",
       "3                                             [Leeds]        1  \n",
       "4                                         [Leicester]        1  \n",
       "..                                                ...      ...  \n",
       "8                                         [Leicester]        1  \n",
       "9                                         [Liverpool]        1  \n",
       "10                                            [Stoke]        1  \n",
       "11                                          [Swansea]        1  \n",
       "12                                     [Huddersfield]        1  \n",
       "\n",
       "[233 rows x 6 columns]"
      ]
     },
     "execution_count": 82,
     "metadata": {},
     "output_type": "execute_result"
    }
   ],
   "source": [
    "for season in tqdm(df['season'].unique()[1:]) :  \n",
    "    matchseason = df[df['season'] == season]\n",
    "    Team = matchseason['HomeTeam'].unique()\n",
    "    dicoseason = {}\n",
    "    for t in Team :\n",
    "        city = fonction_location(t)\n",
    "        if city in dicoseason.keys() : \n",
    "            dicoseason[city].append(t)\n",
    "        else : \n",
    "            dicoseason[city] = [t]\n",
    "    df3 = pd.DataFrame(np.nan, columns = ['Season', 'City', 'Latitude', 'Longitude', 'Clubs', 'NbClubs'], index = range(len(dicoseason)))\n",
    "    df3['Season'] = season\n",
    "    df3['Clubs'] = [dicoseason[k] for k in dicoseason.keys()]\n",
    "    df3['City'] = dicoseason.keys()\n",
    "    df3['Latitude'] = df3['City'].apply(lambda x : geolocator.geocode(x+','+ country).latitude)\n",
    "    df3['Longitude'] = df3['City'].apply(lambda x : geolocator.geocode(x+','+ country).longitude)\n",
    "    df3['NbClubs'] = df3['Clubs'].apply(len)\n",
    "    df2 = pd.concat([df2,df3]) \n",
    "df2\n",
    "    \n"
   ]
  },
  {
   "cell_type": "code",
   "execution_count": 93,
   "id": "7cf8dfb6",
   "metadata": {},
   "outputs": [],
   "source": [
    "df2['text'] = df2.apply(lambda x : x['City']+' : '+ ', '.join(x['Clubs']), axis = 1)"
   ]
  },
  {
   "cell_type": "code",
   "execution_count": 94,
   "id": "bd7644b8",
   "metadata": {},
   "outputs": [
    {
     "data": {
      "application/vnd.plotly.v1+json": {
       "config": {
        "plotlyServerURL": "https://plot.ly"
       },
       "data": [
        {
         "geo": "geo",
         "hovertemplate": "<b>%{hovertext}</b><br><br>Season=2000-01<br>NbClubs=%{marker.color}<br>Latitude=%{lat}<br>Longitude=%{lon}<extra></extra>",
         "hovertext": [
          "London : Charlton, Chelsea, Tottenham, Arsenal, Everton, West Ham",
          "Birmingham : Coventry, Aston Villa",
          "Derby : Derby",
          "Leeds : Leeds",
          "Leicester : Leicester",
          "Liverpool : Liverpool",
          "Sunderland : Sunderland",
          "Manchester : Man United, Man City",
          "Bradford : Bradford",
          "Suffolk : Ipswich",
          "Middlesbrough : Middlesbrough",
          "Newcastle upon Tyne : Newcastle",
          "Southampton : Southampton"
         ],
         "lat": [
          51.5073219,
          52.4796992,
          52.9212617,
          53.7974185,
          52.6361398,
          53.4071991,
          54.9058512,
          53.4794892,
          53.7944229,
          52.241001350000005,
          54.5760419,
          54.9738474,
          50.9025349
         ],
         "legendgroup": "",
         "lon": [
          -0.1276474,
          -1.9026911,
          -1.4761491,
          -1.5437941,
          -1.1330789,
          -2.99168,
          -1.3828727,
          -2.2451148,
          -1.7519186,
          1.0466830312565236,
          -1.2344047,
          -1.6131572,
          -1.404189
         ],
         "marker": {
          "color": [
           6,
           2,
           1,
           1,
           1,
           1,
           1,
           2,
           1,
           1,
           1,
           1,
           1
          ],
          "coloraxis": "coloraxis",
          "size": [
           6,
           2,
           1,
           1,
           1,
           1,
           1,
           2,
           1,
           1,
           1,
           1,
           1
          ],
          "sizemode": "area",
          "sizeref": 0.02,
          "symbol": "circle"
         },
         "mode": "markers",
         "name": "",
         "showlegend": false,
         "type": "scattergeo"
        }
       ],
       "frames": [
        {
         "data": [
          {
           "geo": "geo",
           "hovertemplate": "<b>%{hovertext}</b><br><br>Season=2000-01<br>NbClubs=%{marker.color}<br>Latitude=%{lat}<br>Longitude=%{lon}<extra></extra>",
           "hovertext": [
            "London : Charlton, Chelsea, Tottenham, Arsenal, Everton, West Ham",
            "Birmingham : Coventry, Aston Villa",
            "Derby : Derby",
            "Leeds : Leeds",
            "Leicester : Leicester",
            "Liverpool : Liverpool",
            "Sunderland : Sunderland",
            "Manchester : Man United, Man City",
            "Bradford : Bradford",
            "Suffolk : Ipswich",
            "Middlesbrough : Middlesbrough",
            "Newcastle upon Tyne : Newcastle",
            "Southampton : Southampton"
           ],
           "lat": [
            51.5073219,
            52.4796992,
            52.9212617,
            53.7974185,
            52.6361398,
            53.4071991,
            54.9058512,
            53.4794892,
            53.7944229,
            52.241001350000005,
            54.5760419,
            54.9738474,
            50.9025349
           ],
           "legendgroup": "",
           "lon": [
            -0.1276474,
            -1.9026911,
            -1.4761491,
            -1.5437941,
            -1.1330789,
            -2.99168,
            -1.3828727,
            -2.2451148,
            -1.7519186,
            1.0466830312565236,
            -1.2344047,
            -1.6131572,
            -1.404189
           ],
           "marker": {
            "color": [
             6,
             2,
             1,
             1,
             1,
             1,
             1,
             2,
             1,
             1,
             1,
             1,
             1
            ],
            "coloraxis": "coloraxis",
            "size": [
             6,
             2,
             1,
             1,
             1,
             1,
             1,
             2,
             1,
             1,
             1,
             1,
             1
            ],
            "sizemode": "area",
            "sizeref": 0.02,
            "symbol": "circle"
           },
           "mode": "markers",
           "name": "",
           "showlegend": false,
           "type": "scattergeo"
          }
         ],
         "name": "2000-01"
        },
        {
         "data": [
          {
           "geo": "geo",
           "hovertemplate": "<b>%{hovertext}</b><br><br>Season=2001-02<br>NbClubs=%{marker.color}<br>Latitude=%{lat}<br>Longitude=%{lon}<extra></extra>",
           "hovertext": [
            "London : Charlton, Tottenham, Chelsea, Everton, Arsenal, Fulham, West Ham",
            "Derby : Derby",
            "Leeds : Leeds",
            "Leicester : Leicester",
            "Liverpool : Liverpool",
            "Middlesbrough : Middlesbrough",
            "Sunderland : Sunderland",
            "Manchester : Man United",
            "Bolton : Bolton",
            "Suffolk : Ipswich",
            "Blackburn : Blackburn",
            "Southampton : Southampton",
            "Birmingham : Aston Villa",
            "Newcastle upon Tyne : Newcastle"
           ],
           "lat": [
            51.5073219,
            52.9212617,
            53.7974185,
            52.6361398,
            53.4071991,
            54.5760419,
            54.9058512,
            53.4794892,
            53.5782863,
            52.241001350000005,
            53.749326,
            50.9025349,
            52.4796992,
            54.9738474
           ],
           "legendgroup": "",
           "lon": [
            -0.1276474,
            -1.4761491,
            -1.5437941,
            -1.1330789,
            -2.99168,
            -1.2344047,
            -1.3828727,
            -2.2451148,
            -2.4300367,
            1.0466830312565236,
            -2.4840566,
            -1.404189,
            -1.9026911,
            -1.6131572
           ],
           "marker": {
            "color": [
             7,
             1,
             1,
             1,
             1,
             1,
             1,
             1,
             1,
             1,
             1,
             1,
             1,
             1
            ],
            "coloraxis": "coloraxis",
            "size": [
             7,
             1,
             1,
             1,
             1,
             1,
             1,
             1,
             1,
             1,
             1,
             1,
             1,
             1
            ],
            "sizemode": "area",
            "sizeref": 0.02,
            "symbol": "circle"
           },
           "mode": "markers",
           "name": "",
           "showlegend": false,
           "type": "scattergeo"
          }
         ],
         "name": "2001-02"
        },
        {
         "data": [
          {
           "geo": "geo",
           "hovertemplate": "<b>%{hovertext}</b><br><br>Season=2002-03<br>NbClubs=%{marker.color}<br>Latitude=%{lat}<br>Longitude=%{lon}<extra></extra>",
           "hovertext": [
            "Blackburn : Blackburn",
            "London : Charlton, Everton, Fulham, Arsenal, Chelsea, Tottenham, West Ham",
            "Leeds : Leeds",
            "Manchester : Man United, Man City",
            "Southampton : Southampton",
            "Birmingham : Aston Villa, Birmingham",
            "Newcastle upon Tyne : Newcastle",
            "Bolton : Bolton",
            "Liverpool : Liverpool",
            "Middlesbrough : Middlesboro",
            "Sunderland : Sunderland",
            "West Bromwich : West Brom"
           ],
           "lat": [
            53.749326,
            51.5073219,
            53.7974185,
            53.4794892,
            50.9025349,
            52.4796992,
            54.9738474,
            53.5782863,
            53.4071991,
            54.5760419,
            54.9058512,
            52.5186579
           ],
           "legendgroup": "",
           "lon": [
            -2.4840566,
            -0.1276474,
            -1.5437941,
            -2.2451148,
            -1.404189,
            -1.9026911,
            -1.6131572,
            -2.4300367,
            -2.99168,
            -1.2344047,
            -1.3828727,
            -1.9923114
           ],
           "marker": {
            "color": [
             1,
             7,
             1,
             2,
             1,
             2,
             1,
             1,
             1,
             1,
             1,
             1
            ],
            "coloraxis": "coloraxis",
            "size": [
             1,
             7,
             1,
             2,
             1,
             2,
             1,
             1,
             1,
             1,
             1,
             1
            ],
            "sizemode": "area",
            "sizeref": 0.02,
            "symbol": "circle"
           },
           "mode": "markers",
           "name": "",
           "showlegend": false,
           "type": "scattergeo"
          }
         ],
         "name": "2002-03"
        },
        {
         "data": [
          {
           "geo": "geo",
           "hovertemplate": "<b>%{hovertext}</b><br><br>Season=2003-04<br>NbClubs=%{marker.color}<br>Latitude=%{lat}<br>Longitude=%{lon}<extra></extra>",
           "hovertext": [
            "London : Arsenal, Fulham, Charlton, Chelsea, Everton, Tottenham",
            "Birmingham : Birmingham, Aston Villa",
            "Blackburn : Blackburn",
            "Leicester : Leicester",
            "Manchester : Man United, Man City",
            "Portsmouth : Portsmouth",
            "Leeds : Leeds",
            "Liverpool : Liverpool",
            "Bolton : Bolton",
            "Newcastle upon Tyne : Newcastle",
            "Southampton : Southampton",
            "Wolverhampton : Wolves",
            "Middlesbrough : Middlesbrough"
           ],
           "lat": [
            51.5073219,
            52.4796992,
            53.749326,
            52.6361398,
            53.4794892,
            50.8036831,
            53.7974185,
            53.4071991,
            53.5782863,
            54.9738474,
            50.9025349,
            52.5847651,
            54.5760419
           ],
           "legendgroup": "",
           "lon": [
            -0.1276474,
            -1.9026911,
            -2.4840566,
            -1.1330789,
            -2.2451148,
            -1.075614,
            -1.5437941,
            -2.99168,
            -2.4300367,
            -1.6131572,
            -1.404189,
            -2.127567,
            -1.2344047
           ],
           "marker": {
            "color": [
             6,
             2,
             1,
             1,
             2,
             1,
             1,
             1,
             1,
             1,
             1,
             1,
             1
            ],
            "coloraxis": "coloraxis",
            "size": [
             6,
             2,
             1,
             1,
             2,
             1,
             1,
             1,
             1,
             1,
             1,
             1,
             1
            ],
            "sizemode": "area",
            "sizeref": 0.02,
            "symbol": "circle"
           },
           "mode": "markers",
           "name": "",
           "showlegend": false,
           "type": "scattergeo"
          }
         ],
         "name": "2003-04"
        },
        {
         "data": [
          {
           "geo": "geo",
           "hovertemplate": "<b>%{hovertext}</b><br><br>Season=2004-05<br>NbClubs=%{marker.color}<br>Latitude=%{lat}<br>Longitude=%{lon}<extra></extra>",
           "hovertext": [
            "Birmingham : Aston Villa, Birmingham",
            "Blackburn : Blackburn",
            "Bolton : Bolton",
            "Manchester : Man City, Man United",
            "Middlesbrough : Middlesbrough",
            "Norwich : Norwich",
            "Portsmouth : Portsmouth",
            "London : Tottenham, Chelsea, Everton, Charlton, Crystal Palace, Fulham, Arsenal",
            "Liverpool : Liverpool",
            "Newcastle upon Tyne : Newcastle",
            "Southampton : Southampton",
            "West Bromwich : West Brom"
           ],
           "lat": [
            52.4796992,
            53.749326,
            53.5782863,
            53.4794892,
            54.5760419,
            52.628606,
            50.8036831,
            51.5073219,
            53.4071991,
            54.9738474,
            50.9025349,
            52.5186579
           ],
           "legendgroup": "",
           "lon": [
            -1.9026911,
            -2.4840566,
            -2.4300367,
            -2.2451148,
            -1.2344047,
            1.29227,
            -1.075614,
            -0.1276474,
            -2.99168,
            -1.6131572,
            -1.404189,
            -1.9923114
           ],
           "marker": {
            "color": [
             2,
             1,
             1,
             2,
             1,
             1,
             1,
             7,
             1,
             1,
             1,
             1
            ],
            "coloraxis": "coloraxis",
            "size": [
             2,
             1,
             1,
             2,
             1,
             1,
             1,
             7,
             1,
             1,
             1,
             1
            ],
            "sizemode": "area",
            "sizeref": 0.02,
            "symbol": "circle"
           },
           "mode": "markers",
           "name": "",
           "showlegend": false,
           "type": "scattergeo"
          }
         ],
         "name": "2004-05"
        },
        {
         "data": [
          {
           "geo": "geo",
           "hovertemplate": "<b>%{hovertext}</b><br><br>Season=2005-06<br>NbClubs=%{marker.color}<br>Latitude=%{lat}<br>Longitude=%{lon}<extra></extra>",
           "hovertext": [
            "Birmingham : Aston Villa, Birmingham",
            "London : Everton, Fulham, West Ham, Arsenal, Charlton, Tottenham, Chelsea",
            "Manchester : Man City, Man United",
            "Middlesbrough : Middlesbrough",
            "Portsmouth : Portsmouth",
            "Sunderland : Sunderland",
            "Wigan : Wigan",
            "Blackburn : Blackburn",
            "Liverpool : Liverpool",
            "Newcastle upon Tyne : Newcastle",
            "West Bromwich : West Brom",
            "Bolton : Bolton"
           ],
           "lat": [
            52.4796992,
            51.5073219,
            53.4794892,
            54.5760419,
            50.8036831,
            54.9058512,
            53.5457188,
            53.749326,
            53.4071991,
            54.9738474,
            52.5186579,
            53.5782863
           ],
           "legendgroup": "",
           "lon": [
            -1.9026911,
            -0.1276474,
            -2.2451148,
            -1.2344047,
            -1.075614,
            -1.3828727,
            -2.6264624,
            -2.4840566,
            -2.99168,
            -1.6131572,
            -1.9923114,
            -2.4300367
           ],
           "marker": {
            "color": [
             2,
             7,
             2,
             1,
             1,
             1,
             1,
             1,
             1,
             1,
             1,
             1
            ],
            "coloraxis": "coloraxis",
            "size": [
             2,
             7,
             2,
             1,
             1,
             1,
             1,
             1,
             1,
             1,
             1,
             1
            ],
            "sizemode": "area",
            "sizeref": 0.02,
            "symbol": "circle"
           },
           "mode": "markers",
           "name": "",
           "showlegend": false,
           "type": "scattergeo"
          }
         ],
         "name": "2005-06"
        },
        {
         "data": [
          {
           "geo": "geo",
           "hovertemplate": "<b>%{hovertext}</b><br><br>Season=2006-07<br>NbClubs=%{marker.color}<br>Latitude=%{lat}<br>Longitude=%{lon}<extra></extra>",
           "hovertext": [
            "London : Arsenal, Everton, West Ham, Chelsea, Tottenham, Charlton, Fulham",
            "Bolton : Bolton",
            "Newcastle upon Tyne : Newcastle",
            "Portsmouth : Portsmouth",
            "Reading : Reading",
            "Sheffield : Sheffield United",
            "Manchester : Man United, Man City",
            "Watford : Watford",
            "Birmingham : Aston Villa",
            "Blackburn : Blackburn",
            "Middlesbrough : Middlesbrough",
            "Liverpool : Liverpool",
            "Wigan : Wigan"
           ],
           "lat": [
            51.5073219,
            53.5782863,
            54.9738474,
            50.8036831,
            51.456659,
            53.3806626,
            53.4794892,
            51.6553875,
            52.4796992,
            53.749326,
            54.5760419,
            53.4071991,
            53.5457188
           ],
           "legendgroup": "",
           "lon": [
            -0.1276474,
            -2.4300367,
            -1.6131572,
            -1.075614,
            -0.9696512,
            -1.4702278,
            -2.2451148,
            -0.3957425,
            -1.9026911,
            -2.4840566,
            -1.2344047,
            -2.99168,
            -2.6264624
           ],
           "marker": {
            "color": [
             7,
             1,
             1,
             1,
             1,
             1,
             2,
             1,
             1,
             1,
             1,
             1,
             1
            ],
            "coloraxis": "coloraxis",
            "size": [
             7,
             1,
             1,
             1,
             1,
             1,
             2,
             1,
             1,
             1,
             1,
             1,
             1
            ],
            "sizemode": "area",
            "sizeref": 0.02,
            "symbol": "circle"
           },
           "mode": "markers",
           "name": "",
           "showlegend": false,
           "type": "scattergeo"
          }
         ],
         "name": "2006-07"
        },
        {
         "data": [
          {
           "geo": "geo",
           "hovertemplate": "<b>%{hovertext}</b><br><br>Season=2007-08<br>NbClubs=%{marker.color}<br>Latitude=%{lat}<br>Longitude=%{lon}<extra></extra>",
           "hovertext": [
            "Birmingham : Aston Villa, Birmingham",
            "Bolton : Bolton",
            "Derby : Derby",
            "London : Everton, West Ham, Arsenal, Chelsea, Tottenham, Fulham",
            "Middlesbrough : Middlesbrough",
            "Sunderland : Sunderland",
            "Manchester : Man United, Man City",
            "Portsmouth : Portsmouth",
            "Reading : Reading",
            "Wigan : Wigan",
            "Newcastle upon Tyne : Newcastle",
            "Blackburn : Blackburn",
            "Liverpool : Liverpool"
           ],
           "lat": [
            52.4796992,
            53.5782863,
            52.9212617,
            51.5073219,
            54.5760419,
            54.9058512,
            53.4794892,
            50.8036831,
            51.456659,
            53.5457188,
            54.9738474,
            53.749326,
            53.4071991
           ],
           "legendgroup": "",
           "lon": [
            -1.9026911,
            -2.4300367,
            -1.4761491,
            -0.1276474,
            -1.2344047,
            -1.3828727,
            -2.2451148,
            -1.075614,
            -0.9696512,
            -2.6264624,
            -1.6131572,
            -2.4840566,
            -2.99168
           ],
           "marker": {
            "color": [
             2,
             1,
             1,
             6,
             1,
             1,
             2,
             1,
             1,
             1,
             1,
             1,
             1
            ],
            "coloraxis": "coloraxis",
            "size": [
             2,
             1,
             1,
             6,
             1,
             1,
             2,
             1,
             1,
             1,
             1,
             1,
             1
            ],
            "sizemode": "area",
            "sizeref": 0.02,
            "symbol": "circle"
           },
           "mode": "markers",
           "name": "",
           "showlegend": false,
           "type": "scattergeo"
          }
         ],
         "name": "2007-08"
        },
        {
         "data": [
          {
           "geo": "geo",
           "hovertemplate": "<b>%{hovertext}</b><br><br>Season=2008-09<br>NbClubs=%{marker.color}<br>Latitude=%{lat}<br>Longitude=%{lon}<extra></extra>",
           "hovertext": [
            "London : Arsenal, Everton, West Ham, Chelsea, Fulham, Tottenham",
            "Bolton : Bolton",
            "Hull : Hull",
            "Middlesbrough : Middlesbrough",
            "Sunderland : Sunderland",
            "Birmingham : Aston Villa",
            "Manchester : Man United, Man City",
            "Blackburn : Blackburn",
            "Liverpool : Liverpool",
            "Newcastle upon Tyne : Newcastle",
            "Stoke-on-Trent : Stoke",
            "West Bromwich : West Brom",
            "Wigan : Wigan",
            "Portsmouth : Portsmouth"
           ],
           "lat": [
            51.5073219,
            53.5782863,
            53.7435722,
            54.5760419,
            54.9058512,
            52.4796992,
            53.4794892,
            53.749326,
            53.4071991,
            54.9738474,
            53.0162014,
            52.5186579,
            53.5457188,
            50.8036831
           ],
           "legendgroup": "",
           "lon": [
            -0.1276474,
            -2.4300367,
            -0.3394758,
            -1.2344047,
            -1.3828727,
            -1.9026911,
            -2.2451148,
            -2.4840566,
            -2.99168,
            -1.6131572,
            -2.1812607,
            -1.9923114,
            -2.6264624,
            -1.075614
           ],
           "marker": {
            "color": [
             6,
             1,
             1,
             1,
             1,
             1,
             2,
             1,
             1,
             1,
             1,
             1,
             1,
             1
            ],
            "coloraxis": "coloraxis",
            "size": [
             6,
             1,
             1,
             1,
             1,
             1,
             2,
             1,
             1,
             1,
             1,
             1,
             1,
             1
            ],
            "sizemode": "area",
            "sizeref": 0.02,
            "symbol": "circle"
           },
           "mode": "markers",
           "name": "",
           "showlegend": false,
           "type": "scattergeo"
          }
         ],
         "name": "2008-09"
        },
        {
         "data": [
          {
           "geo": "geo",
           "hovertemplate": "<b>%{hovertext}</b><br><br>Season=2009-10<br>NbClubs=%{marker.color}<br>Latitude=%{lat}<br>Longitude=%{lon}<extra></extra>",
           "hovertext": [
            "Birmingham : Aston Villa, Birmingham",
            "Blackburn : Blackburn",
            "Bolton : Bolton",
            "London : Chelsea, Everton, Tottenham, Burnley, Arsenal, Fulham, West Ham",
            "Portsmouth : Portsmouth",
            "Stoke-on-Trent : Stoke",
            "Wolverhampton : Wolves",
            "Manchester : Man United, Man City",
            "Sunderland : Sunderland",
            "Wigan : Wigan",
            "Hull : Hull",
            "Liverpool : Liverpool"
           ],
           "lat": [
            52.4796992,
            53.749326,
            53.5782863,
            51.5073219,
            50.8036831,
            53.0162014,
            52.5847651,
            53.4794892,
            54.9058512,
            53.5457188,
            53.7435722,
            53.4071991
           ],
           "legendgroup": "",
           "lon": [
            -1.9026911,
            -2.4840566,
            -2.4300367,
            -0.1276474,
            -1.075614,
            -2.1812607,
            -2.127567,
            -2.2451148,
            -1.3828727,
            -2.6264624,
            -0.3394758,
            -2.99168
           ],
           "marker": {
            "color": [
             2,
             1,
             1,
             7,
             1,
             1,
             1,
             2,
             1,
             1,
             1,
             1
            ],
            "coloraxis": "coloraxis",
            "size": [
             2,
             1,
             1,
             7,
             1,
             1,
             1,
             2,
             1,
             1,
             1,
             1
            ],
            "sizemode": "area",
            "sizeref": 0.02,
            "symbol": "circle"
           },
           "mode": "markers",
           "name": "",
           "showlegend": false,
           "type": "scattergeo"
          }
         ],
         "name": "2009-10"
        },
        {
         "data": [
          {
           "geo": "geo",
           "hovertemplate": "<b>%{hovertext}</b><br><br>Season=2010-11<br>NbClubs=%{marker.color}<br>Latitude=%{lat}<br>Longitude=%{lon}<extra></extra>",
           "hovertext": [
            "Birmingham : Aston Villa, Birmingham",
            "Blackburn : Blackburn",
            "Bolton : Bolton",
            "London : Chelsea, Tottenham, Arsenal, Everton, West Ham, Fulham",
            "Sunderland : Sunderland",
            "Wigan : Wigan",
            "Wolverhampton : Wolves",
            "Liverpool : Liverpool",
            "Manchester : Man United, Man City",
            "Stoke-on-Trent : Stoke",
            "West Bromwich : West Brom",
            "Newcastle upon Tyne : Newcastle",
            "Blackpool : Blackpool"
           ],
           "lat": [
            52.4796992,
            53.749326,
            53.5782863,
            51.5073219,
            54.9058512,
            53.5457188,
            52.5847651,
            53.4071991,
            53.4794892,
            53.0162014,
            52.5186579,
            54.9738474,
            53.8182212
           ],
           "legendgroup": "",
           "lon": [
            -1.9026911,
            -2.4840566,
            -2.4300367,
            -0.1276474,
            -1.3828727,
            -2.6264624,
            -2.127567,
            -2.99168,
            -2.2451148,
            -2.1812607,
            -1.9923114,
            -1.6131572,
            -3.0564845
           ],
           "marker": {
            "color": [
             2,
             1,
             1,
             6,
             1,
             1,
             1,
             1,
             2,
             1,
             1,
             1,
             1
            ],
            "coloraxis": "coloraxis",
            "size": [
             2,
             1,
             1,
             6,
             1,
             1,
             1,
             1,
             2,
             1,
             1,
             1,
             1
            ],
            "sizemode": "area",
            "sizeref": 0.02,
            "symbol": "circle"
           },
           "mode": "markers",
           "name": "",
           "showlegend": false,
           "type": "scattergeo"
          }
         ],
         "name": "2010-11"
        },
        {
         "data": [
          {
           "geo": "geo",
           "hovertemplate": "<b>%{hovertext}</b><br><br>Season=2011-12<br>NbClubs=%{marker.color}<br>Latitude=%{lat}<br>Longitude=%{lon}<extra></extra>",
           "hovertext": [
            "Blackburn : Blackburn",
            "London : Fulham, QPR, Arsenal, Chelsea, Everton, Tottenham",
            "Liverpool : Liverpool",
            "Newcastle upon Tyne : Newcastle",
            "Wigan : Wigan",
            "Stoke-on-Trent : Stoke",
            "West Bromwich : West Brom",
            "Manchester : Man City, Man United",
            "Birmingham : Aston Villa",
            "Sunderland : Sunderland",
            "Swansea : Swansea",
            "Bolton : Bolton",
            "Norwich : Norwich",
            "Wolverhampton : Wolves"
           ],
           "lat": [
            53.749326,
            51.5073219,
            53.4071991,
            54.9738474,
            53.5457188,
            53.0162014,
            52.5186579,
            53.4794892,
            52.4796992,
            54.9058512,
            51.6195955,
            53.5782863,
            52.628606,
            52.5847651
           ],
           "legendgroup": "",
           "lon": [
            -2.4840566,
            -0.1276474,
            -2.99168,
            -1.6131572,
            -2.6264624,
            -2.1812607,
            -1.9923114,
            -2.2451148,
            -1.9026911,
            -1.3828727,
            -3.9459248,
            -2.4300367,
            1.29227,
            -2.127567
           ],
           "marker": {
            "color": [
             1,
             6,
             1,
             1,
             1,
             1,
             1,
             2,
             1,
             1,
             1,
             1,
             1,
             1
            ],
            "coloraxis": "coloraxis",
            "size": [
             1,
             6,
             1,
             1,
             1,
             1,
             1,
             2,
             1,
             1,
             1,
             1,
             1,
             1
            ],
            "sizemode": "area",
            "sizeref": 0.02,
            "symbol": "circle"
           },
           "mode": "markers",
           "name": "",
           "showlegend": false,
           "type": "scattergeo"
          }
         ],
         "name": "2011-12"
        },
        {
         "data": [
          {
           "geo": "geo",
           "hovertemplate": "<b>%{hovertext}</b><br><br>Season=2012-13<br>NbClubs=%{marker.color}<br>Latitude=%{lat}<br>Longitude=%{lon}<extra></extra>",
           "hovertext": [
            "London : Arsenal, Fulham, QPR, West Ham, Everton, Chelsea, Tottenham",
            "Newcastle upon Tyne : Newcastle",
            "Reading : Reading",
            "West Bromwich : West Brom",
            "Manchester : Man City, Man United",
            "Wigan : Wigan",
            "Birmingham : Aston Villa",
            "Norwich : Norwich",
            "Southampton : Southampton",
            "Swansea : Swansea",
            "Liverpool : Liverpool",
            "Stoke-on-Trent : Stoke",
            "Sunderland : Sunderland"
           ],
           "lat": [
            51.5073219,
            54.9738474,
            51.456659,
            52.5186579,
            53.4794892,
            53.5457188,
            52.4796992,
            52.628606,
            50.9025349,
            51.6195955,
            53.4071991,
            53.0162014,
            54.9058512
           ],
           "legendgroup": "",
           "lon": [
            -0.1276474,
            -1.6131572,
            -0.9696512,
            -1.9923114,
            -2.2451148,
            -2.6264624,
            -1.9026911,
            1.29227,
            -1.404189,
            -3.9459248,
            -2.99168,
            -2.1812607,
            -1.3828727
           ],
           "marker": {
            "color": [
             7,
             1,
             1,
             1,
             2,
             1,
             1,
             1,
             1,
             1,
             1,
             1,
             1
            ],
            "coloraxis": "coloraxis",
            "size": [
             7,
             1,
             1,
             1,
             2,
             1,
             1,
             1,
             1,
             1,
             1,
             1,
             1
            ],
            "sizemode": "area",
            "sizeref": 0.02,
            "symbol": "circle"
           },
           "mode": "markers",
           "name": "",
           "showlegend": false,
           "type": "scattergeo"
          }
         ],
         "name": "2012-13"
        },
        {
         "data": [
          {
           "geo": "geo",
           "hovertemplate": "<b>%{hovertext}</b><br><br>Season=2013-14<br>NbClubs=%{marker.color}<br>Latitude=%{lat}<br>Longitude=%{lon}<extra></extra>",
           "hovertext": [
            "London : Arsenal, West Ham, Chelsea, Crystal Palace, Everton, Fulham, Tottenham",
            "Liverpool : Liverpool",
            "Norwich : Norwich",
            "Sunderland : Sunderland",
            "Swansea : Swansea",
            "West Bromwich : West Brom",
            "Manchester : Man City, Man United",
            "Birmingham : Aston Villa",
            "Hull : Hull",
            "Newcastle upon Tyne : Newcastle",
            "Southampton : Southampton",
            "Stoke-on-Trent : Stoke",
            "Cardiff : Cardiff"
           ],
           "lat": [
            51.5073219,
            53.4071991,
            52.628606,
            54.9058512,
            51.6195955,
            52.5186579,
            53.4794892,
            52.4796992,
            53.7435722,
            54.9738474,
            50.9025349,
            53.0162014,
            51.4816546
           ],
           "legendgroup": "",
           "lon": [
            -0.1276474,
            -2.99168,
            1.29227,
            -1.3828727,
            -3.9459248,
            -1.9923114,
            -2.2451148,
            -1.9026911,
            -0.3394758,
            -1.6131572,
            -1.404189,
            -2.1812607,
            -3.1791934
           ],
           "marker": {
            "color": [
             7,
             1,
             1,
             1,
             1,
             1,
             2,
             1,
             1,
             1,
             1,
             1,
             1
            ],
            "coloraxis": "coloraxis",
            "size": [
             7,
             1,
             1,
             1,
             1,
             1,
             2,
             1,
             1,
             1,
             1,
             1,
             1
            ],
            "sizemode": "area",
            "sizeref": 0.02,
            "symbol": "circle"
           },
           "mode": "markers",
           "name": "",
           "showlegend": false,
           "type": "scattergeo"
          }
         ],
         "name": "2013-14"
        },
        {
         "data": [
          {
           "geo": "geo",
           "hovertemplate": "<b>%{hovertext}</b><br><br>Season=2014-15<br>NbClubs=%{marker.color}<br>Latitude=%{lat}<br>Longitude=%{lon}<extra></extra>",
           "hovertext": [
            "London : Arsenal, QPR, West Ham, Burnley, Chelsea, Crystal Palace, Everton, Tottenham",
            "Leicester : Leicester",
            "Manchester : Man United, Man City",
            "Stoke-on-Trent : Stoke",
            "West Bromwich : West Brom",
            "Liverpool : Liverpool",
            "Newcastle upon Tyne : Newcastle",
            "Birmingham : Aston Villa",
            "Southampton : Southampton",
            "Swansea : Swansea",
            "Hull : Hull",
            "Sunderland : Sunderland"
           ],
           "lat": [
            51.5073219,
            52.6361398,
            53.4794892,
            53.0162014,
            52.5186579,
            53.4071991,
            54.9738474,
            52.4796992,
            50.9025349,
            51.6195955,
            53.7435722,
            54.9058512
           ],
           "legendgroup": "",
           "lon": [
            -0.1276474,
            -1.1330789,
            -2.2451148,
            -2.1812607,
            -1.9923114,
            -2.99168,
            -1.6131572,
            -1.9026911,
            -1.404189,
            -3.9459248,
            -0.3394758,
            -1.3828727
           ],
           "marker": {
            "color": [
             8,
             1,
             2,
             1,
             1,
             1,
             1,
             1,
             1,
             1,
             1,
             1
            ],
            "coloraxis": "coloraxis",
            "size": [
             8,
             1,
             2,
             1,
             1,
             1,
             1,
             1,
             1,
             1,
             1,
             1
            ],
            "sizemode": "area",
            "sizeref": 0.02,
            "symbol": "circle"
           },
           "mode": "markers",
           "name": "",
           "showlegend": false,
           "type": "scattergeo"
          }
         ],
         "name": "2014-15"
        },
        {
         "data": [
          {
           "geo": "geo",
           "hovertemplate": "<b>%{hovertext}</b><br><br>Season=2015-16<br>NbClubs=%{marker.color}<br>Latitude=%{lat}<br>Longitude=%{lon}<extra></extra>",
           "hovertext": [
            "Bournemouth : Bournemouth",
            "London : Chelsea, Everton, Arsenal, Tottenham, West Ham, Crystal Palace",
            "Leicester : Leicester",
            "Manchester : Man United, Man City",
            "Norwich : Norwich",
            "Newcastle upon Tyne : Newcastle",
            "Stoke-on-Trent : Stoke",
            "West Bromwich : West Brom",
            "Birmingham : Aston Villa",
            "Southampton : Southampton",
            "Sunderland : Sunderland",
            "Swansea : Swansea",
            "Watford : Watford",
            "Liverpool : Liverpool"
           ],
           "lat": [
            50.7194784,
            51.5073219,
            52.6361398,
            53.4794892,
            52.628606,
            54.9738474,
            53.0162014,
            52.5186579,
            52.4796992,
            50.9025349,
            54.9058512,
            51.6195955,
            51.6553875,
            53.4071991
           ],
           "legendgroup": "",
           "lon": [
            -1.8767712,
            -0.1276474,
            -1.1330789,
            -2.2451148,
            1.29227,
            -1.6131572,
            -2.1812607,
            -1.9923114,
            -1.9026911,
            -1.404189,
            -1.3828727,
            -3.9459248,
            -0.3957425,
            -2.99168
           ],
           "marker": {
            "color": [
             1,
             6,
             1,
             2,
             1,
             1,
             1,
             1,
             1,
             1,
             1,
             1,
             1,
             1
            ],
            "coloraxis": "coloraxis",
            "size": [
             1,
             6,
             1,
             2,
             1,
             1,
             1,
             1,
             1,
             1,
             1,
             1,
             1,
             1
            ],
            "sizemode": "area",
            "sizeref": 0.02,
            "symbol": "circle"
           },
           "mode": "markers",
           "name": "",
           "showlegend": false,
           "type": "scattergeo"
          }
         ],
         "name": "2015-16"
        },
        {
         "data": [
          {
           "geo": "geo",
           "hovertemplate": "<b>%{hovertext}</b><br><br>Season=2016-17<br>NbClubs=%{marker.color}<br>Latitude=%{lat}<br>Longitude=%{lon}<extra></extra>",
           "hovertext": [
            "London : Burnley, Crystal Palace, Everton, Arsenal, Chelsea, Tottenham, West Ham",
            "Hull : Hull",
            "Manchester : Man City, Man United",
            "Middlesbrough : Middlesbrough",
            "Southampton : Southampton",
            "Bournemouth : Bournemouth",
            "Leicester : Leicester",
            "Stoke-on-Trent : Stoke",
            "Swansea : Swansea",
            "Watford : Watford",
            "West Bromwich : West Brom",
            "Sunderland : Sunderland",
            "Liverpool : Liverpool"
           ],
           "lat": [
            51.5073219,
            53.7435722,
            53.4794892,
            54.5760419,
            50.9025349,
            50.7194784,
            52.6361398,
            53.0162014,
            51.6195955,
            51.6553875,
            52.5186579,
            54.9058512,
            53.4071991
           ],
           "legendgroup": "",
           "lon": [
            -0.1276474,
            -0.3394758,
            -2.2451148,
            -1.2344047,
            -1.404189,
            -1.8767712,
            -1.1330789,
            -2.1812607,
            -3.9459248,
            -0.3957425,
            -1.9923114,
            -1.3828727,
            -2.99168
           ],
           "marker": {
            "color": [
             7,
             1,
             2,
             1,
             1,
             1,
             1,
             1,
             1,
             1,
             1,
             1,
             1
            ],
            "coloraxis": "coloraxis",
            "size": [
             7,
             1,
             2,
             1,
             1,
             1,
             1,
             1,
             1,
             1,
             1,
             1,
             1
            ],
            "sizemode": "area",
            "sizeref": 0.02,
            "symbol": "circle"
           },
           "mode": "markers",
           "name": "",
           "showlegend": false,
           "type": "scattergeo"
          }
         ],
         "name": "2016-17"
        },
        {
         "data": [
          {
           "geo": "geo",
           "hovertemplate": "<b>%{hovertext}</b><br><br>Season=2017-18<br>NbClubs=%{marker.color}<br>Latitude=%{lat}<br>Longitude=%{lon}<extra></extra>",
           "hovertext": [
            "London : Arsenal, Chelsea, Crystal Palace, Everton, Burnley, Tottenham, West Ham",
            "Brighton : Brighton",
            "Southampton : Southampton",
            "Watford : Watford",
            "West Bromwich : West Brom",
            "Manchester : Man United, Man City",
            "Newcastle upon Tyne : Newcastle",
            "Bournemouth : Bournemouth",
            "Leicester : Leicester",
            "Liverpool : Liverpool",
            "Stoke-on-Trent : Stoke",
            "Swansea : Swansea",
            "Huddersfield : Huddersfield"
           ],
           "lat": [
            51.5073219,
            50.8214626,
            50.9025349,
            51.6553875,
            52.5186579,
            53.4794892,
            54.9738474,
            50.7194784,
            52.6361398,
            53.4071991,
            53.0162014,
            51.6195955,
            53.6466645
           ],
           "legendgroup": "",
           "lon": [
            -0.1276474,
            -0.1400561,
            -1.404189,
            -0.3957425,
            -1.9923114,
            -2.2451148,
            -1.6131572,
            -1.8767712,
            -1.1330789,
            -2.99168,
            -2.1812607,
            -3.9459248,
            -1.7822482
           ],
           "marker": {
            "color": [
             7,
             1,
             1,
             1,
             1,
             2,
             1,
             1,
             1,
             1,
             1,
             1,
             1
            ],
            "coloraxis": "coloraxis",
            "size": [
             7,
             1,
             1,
             1,
             1,
             2,
             1,
             1,
             1,
             1,
             1,
             1,
             1
            ],
            "sizemode": "area",
            "sizeref": 0.02,
            "symbol": "circle"
           },
           "mode": "markers",
           "name": "",
           "showlegend": false,
           "type": "scattergeo"
          }
         ],
         "name": "2017-18"
        }
       ],
       "layout": {
        "coloraxis": {
         "colorbar": {
          "title": {
           "text": "NbClubs"
          }
         },
         "colorscale": [
          [
           0,
           "#0d0887"
          ],
          [
           0.1111111111111111,
           "#46039f"
          ],
          [
           0.2222222222222222,
           "#7201a8"
          ],
          [
           0.3333333333333333,
           "#9c179e"
          ],
          [
           0.4444444444444444,
           "#bd3786"
          ],
          [
           0.5555555555555556,
           "#d8576b"
          ],
          [
           0.6666666666666666,
           "#ed7953"
          ],
          [
           0.7777777777777778,
           "#fb9f3a"
          ],
          [
           0.8888888888888888,
           "#fdca26"
          ],
          [
           1,
           "#f0f921"
          ]
         ]
        },
        "geo": {
         "center": {},
         "domain": {
          "x": [
           0,
           1
          ],
          "y": [
           0,
           1
          ]
         },
         "scope": "europe"
        },
        "legend": {
         "itemsizing": "constant",
         "tracegroupgap": 0
        },
        "margin": {
         "t": 60
        },
        "sliders": [
         {
          "active": 0,
          "currentvalue": {
           "prefix": "Season="
          },
          "len": 0.9,
          "pad": {
           "b": 10,
           "t": 60
          },
          "steps": [
           {
            "args": [
             [
              "2000-01"
             ],
             {
              "frame": {
               "duration": 0,
               "redraw": true
              },
              "fromcurrent": true,
              "mode": "immediate",
              "transition": {
               "duration": 0,
               "easing": "linear"
              }
             }
            ],
            "label": "2000-01",
            "method": "animate"
           },
           {
            "args": [
             [
              "2001-02"
             ],
             {
              "frame": {
               "duration": 0,
               "redraw": true
              },
              "fromcurrent": true,
              "mode": "immediate",
              "transition": {
               "duration": 0,
               "easing": "linear"
              }
             }
            ],
            "label": "2001-02",
            "method": "animate"
           },
           {
            "args": [
             [
              "2002-03"
             ],
             {
              "frame": {
               "duration": 0,
               "redraw": true
              },
              "fromcurrent": true,
              "mode": "immediate",
              "transition": {
               "duration": 0,
               "easing": "linear"
              }
             }
            ],
            "label": "2002-03",
            "method": "animate"
           },
           {
            "args": [
             [
              "2003-04"
             ],
             {
              "frame": {
               "duration": 0,
               "redraw": true
              },
              "fromcurrent": true,
              "mode": "immediate",
              "transition": {
               "duration": 0,
               "easing": "linear"
              }
             }
            ],
            "label": "2003-04",
            "method": "animate"
           },
           {
            "args": [
             [
              "2004-05"
             ],
             {
              "frame": {
               "duration": 0,
               "redraw": true
              },
              "fromcurrent": true,
              "mode": "immediate",
              "transition": {
               "duration": 0,
               "easing": "linear"
              }
             }
            ],
            "label": "2004-05",
            "method": "animate"
           },
           {
            "args": [
             [
              "2005-06"
             ],
             {
              "frame": {
               "duration": 0,
               "redraw": true
              },
              "fromcurrent": true,
              "mode": "immediate",
              "transition": {
               "duration": 0,
               "easing": "linear"
              }
             }
            ],
            "label": "2005-06",
            "method": "animate"
           },
           {
            "args": [
             [
              "2006-07"
             ],
             {
              "frame": {
               "duration": 0,
               "redraw": true
              },
              "fromcurrent": true,
              "mode": "immediate",
              "transition": {
               "duration": 0,
               "easing": "linear"
              }
             }
            ],
            "label": "2006-07",
            "method": "animate"
           },
           {
            "args": [
             [
              "2007-08"
             ],
             {
              "frame": {
               "duration": 0,
               "redraw": true
              },
              "fromcurrent": true,
              "mode": "immediate",
              "transition": {
               "duration": 0,
               "easing": "linear"
              }
             }
            ],
            "label": "2007-08",
            "method": "animate"
           },
           {
            "args": [
             [
              "2008-09"
             ],
             {
              "frame": {
               "duration": 0,
               "redraw": true
              },
              "fromcurrent": true,
              "mode": "immediate",
              "transition": {
               "duration": 0,
               "easing": "linear"
              }
             }
            ],
            "label": "2008-09",
            "method": "animate"
           },
           {
            "args": [
             [
              "2009-10"
             ],
             {
              "frame": {
               "duration": 0,
               "redraw": true
              },
              "fromcurrent": true,
              "mode": "immediate",
              "transition": {
               "duration": 0,
               "easing": "linear"
              }
             }
            ],
            "label": "2009-10",
            "method": "animate"
           },
           {
            "args": [
             [
              "2010-11"
             ],
             {
              "frame": {
               "duration": 0,
               "redraw": true
              },
              "fromcurrent": true,
              "mode": "immediate",
              "transition": {
               "duration": 0,
               "easing": "linear"
              }
             }
            ],
            "label": "2010-11",
            "method": "animate"
           },
           {
            "args": [
             [
              "2011-12"
             ],
             {
              "frame": {
               "duration": 0,
               "redraw": true
              },
              "fromcurrent": true,
              "mode": "immediate",
              "transition": {
               "duration": 0,
               "easing": "linear"
              }
             }
            ],
            "label": "2011-12",
            "method": "animate"
           },
           {
            "args": [
             [
              "2012-13"
             ],
             {
              "frame": {
               "duration": 0,
               "redraw": true
              },
              "fromcurrent": true,
              "mode": "immediate",
              "transition": {
               "duration": 0,
               "easing": "linear"
              }
             }
            ],
            "label": "2012-13",
            "method": "animate"
           },
           {
            "args": [
             [
              "2013-14"
             ],
             {
              "frame": {
               "duration": 0,
               "redraw": true
              },
              "fromcurrent": true,
              "mode": "immediate",
              "transition": {
               "duration": 0,
               "easing": "linear"
              }
             }
            ],
            "label": "2013-14",
            "method": "animate"
           },
           {
            "args": [
             [
              "2014-15"
             ],
             {
              "frame": {
               "duration": 0,
               "redraw": true
              },
              "fromcurrent": true,
              "mode": "immediate",
              "transition": {
               "duration": 0,
               "easing": "linear"
              }
             }
            ],
            "label": "2014-15",
            "method": "animate"
           },
           {
            "args": [
             [
              "2015-16"
             ],
             {
              "frame": {
               "duration": 0,
               "redraw": true
              },
              "fromcurrent": true,
              "mode": "immediate",
              "transition": {
               "duration": 0,
               "easing": "linear"
              }
             }
            ],
            "label": "2015-16",
            "method": "animate"
           },
           {
            "args": [
             [
              "2016-17"
             ],
             {
              "frame": {
               "duration": 0,
               "redraw": true
              },
              "fromcurrent": true,
              "mode": "immediate",
              "transition": {
               "duration": 0,
               "easing": "linear"
              }
             }
            ],
            "label": "2016-17",
            "method": "animate"
           },
           {
            "args": [
             [
              "2017-18"
             ],
             {
              "frame": {
               "duration": 0,
               "redraw": true
              },
              "fromcurrent": true,
              "mode": "immediate",
              "transition": {
               "duration": 0,
               "easing": "linear"
              }
             }
            ],
            "label": "2017-18",
            "method": "animate"
           }
          ],
          "x": 0.1,
          "xanchor": "left",
          "y": 0,
          "yanchor": "top"
         }
        ],
        "template": {
         "data": {
          "bar": [
           {
            "error_x": {
             "color": "#2a3f5f"
            },
            "error_y": {
             "color": "#2a3f5f"
            },
            "marker": {
             "line": {
              "color": "#E5ECF6",
              "width": 0.5
             },
             "pattern": {
              "fillmode": "overlay",
              "size": 10,
              "solidity": 0.2
             }
            },
            "type": "bar"
           }
          ],
          "barpolar": [
           {
            "marker": {
             "line": {
              "color": "#E5ECF6",
              "width": 0.5
             },
             "pattern": {
              "fillmode": "overlay",
              "size": 10,
              "solidity": 0.2
             }
            },
            "type": "barpolar"
           }
          ],
          "carpet": [
           {
            "aaxis": {
             "endlinecolor": "#2a3f5f",
             "gridcolor": "white",
             "linecolor": "white",
             "minorgridcolor": "white",
             "startlinecolor": "#2a3f5f"
            },
            "baxis": {
             "endlinecolor": "#2a3f5f",
             "gridcolor": "white",
             "linecolor": "white",
             "minorgridcolor": "white",
             "startlinecolor": "#2a3f5f"
            },
            "type": "carpet"
           }
          ],
          "choropleth": [
           {
            "colorbar": {
             "outlinewidth": 0,
             "ticks": ""
            },
            "type": "choropleth"
           }
          ],
          "contour": [
           {
            "colorbar": {
             "outlinewidth": 0,
             "ticks": ""
            },
            "colorscale": [
             [
              0,
              "#0d0887"
             ],
             [
              0.1111111111111111,
              "#46039f"
             ],
             [
              0.2222222222222222,
              "#7201a8"
             ],
             [
              0.3333333333333333,
              "#9c179e"
             ],
             [
              0.4444444444444444,
              "#bd3786"
             ],
             [
              0.5555555555555556,
              "#d8576b"
             ],
             [
              0.6666666666666666,
              "#ed7953"
             ],
             [
              0.7777777777777778,
              "#fb9f3a"
             ],
             [
              0.8888888888888888,
              "#fdca26"
             ],
             [
              1,
              "#f0f921"
             ]
            ],
            "type": "contour"
           }
          ],
          "contourcarpet": [
           {
            "colorbar": {
             "outlinewidth": 0,
             "ticks": ""
            },
            "type": "contourcarpet"
           }
          ],
          "heatmap": [
           {
            "colorbar": {
             "outlinewidth": 0,
             "ticks": ""
            },
            "colorscale": [
             [
              0,
              "#0d0887"
             ],
             [
              0.1111111111111111,
              "#46039f"
             ],
             [
              0.2222222222222222,
              "#7201a8"
             ],
             [
              0.3333333333333333,
              "#9c179e"
             ],
             [
              0.4444444444444444,
              "#bd3786"
             ],
             [
              0.5555555555555556,
              "#d8576b"
             ],
             [
              0.6666666666666666,
              "#ed7953"
             ],
             [
              0.7777777777777778,
              "#fb9f3a"
             ],
             [
              0.8888888888888888,
              "#fdca26"
             ],
             [
              1,
              "#f0f921"
             ]
            ],
            "type": "heatmap"
           }
          ],
          "heatmapgl": [
           {
            "colorbar": {
             "outlinewidth": 0,
             "ticks": ""
            },
            "colorscale": [
             [
              0,
              "#0d0887"
             ],
             [
              0.1111111111111111,
              "#46039f"
             ],
             [
              0.2222222222222222,
              "#7201a8"
             ],
             [
              0.3333333333333333,
              "#9c179e"
             ],
             [
              0.4444444444444444,
              "#bd3786"
             ],
             [
              0.5555555555555556,
              "#d8576b"
             ],
             [
              0.6666666666666666,
              "#ed7953"
             ],
             [
              0.7777777777777778,
              "#fb9f3a"
             ],
             [
              0.8888888888888888,
              "#fdca26"
             ],
             [
              1,
              "#f0f921"
             ]
            ],
            "type": "heatmapgl"
           }
          ],
          "histogram": [
           {
            "marker": {
             "pattern": {
              "fillmode": "overlay",
              "size": 10,
              "solidity": 0.2
             }
            },
            "type": "histogram"
           }
          ],
          "histogram2d": [
           {
            "colorbar": {
             "outlinewidth": 0,
             "ticks": ""
            },
            "colorscale": [
             [
              0,
              "#0d0887"
             ],
             [
              0.1111111111111111,
              "#46039f"
             ],
             [
              0.2222222222222222,
              "#7201a8"
             ],
             [
              0.3333333333333333,
              "#9c179e"
             ],
             [
              0.4444444444444444,
              "#bd3786"
             ],
             [
              0.5555555555555556,
              "#d8576b"
             ],
             [
              0.6666666666666666,
              "#ed7953"
             ],
             [
              0.7777777777777778,
              "#fb9f3a"
             ],
             [
              0.8888888888888888,
              "#fdca26"
             ],
             [
              1,
              "#f0f921"
             ]
            ],
            "type": "histogram2d"
           }
          ],
          "histogram2dcontour": [
           {
            "colorbar": {
             "outlinewidth": 0,
             "ticks": ""
            },
            "colorscale": [
             [
              0,
              "#0d0887"
             ],
             [
              0.1111111111111111,
              "#46039f"
             ],
             [
              0.2222222222222222,
              "#7201a8"
             ],
             [
              0.3333333333333333,
              "#9c179e"
             ],
             [
              0.4444444444444444,
              "#bd3786"
             ],
             [
              0.5555555555555556,
              "#d8576b"
             ],
             [
              0.6666666666666666,
              "#ed7953"
             ],
             [
              0.7777777777777778,
              "#fb9f3a"
             ],
             [
              0.8888888888888888,
              "#fdca26"
             ],
             [
              1,
              "#f0f921"
             ]
            ],
            "type": "histogram2dcontour"
           }
          ],
          "mesh3d": [
           {
            "colorbar": {
             "outlinewidth": 0,
             "ticks": ""
            },
            "type": "mesh3d"
           }
          ],
          "parcoords": [
           {
            "line": {
             "colorbar": {
              "outlinewidth": 0,
              "ticks": ""
             }
            },
            "type": "parcoords"
           }
          ],
          "pie": [
           {
            "automargin": true,
            "type": "pie"
           }
          ],
          "scatter": [
           {
            "marker": {
             "colorbar": {
              "outlinewidth": 0,
              "ticks": ""
             }
            },
            "type": "scatter"
           }
          ],
          "scatter3d": [
           {
            "line": {
             "colorbar": {
              "outlinewidth": 0,
              "ticks": ""
             }
            },
            "marker": {
             "colorbar": {
              "outlinewidth": 0,
              "ticks": ""
             }
            },
            "type": "scatter3d"
           }
          ],
          "scattercarpet": [
           {
            "marker": {
             "colorbar": {
              "outlinewidth": 0,
              "ticks": ""
             }
            },
            "type": "scattercarpet"
           }
          ],
          "scattergeo": [
           {
            "marker": {
             "colorbar": {
              "outlinewidth": 0,
              "ticks": ""
             }
            },
            "type": "scattergeo"
           }
          ],
          "scattergl": [
           {
            "marker": {
             "colorbar": {
              "outlinewidth": 0,
              "ticks": ""
             }
            },
            "type": "scattergl"
           }
          ],
          "scattermapbox": [
           {
            "marker": {
             "colorbar": {
              "outlinewidth": 0,
              "ticks": ""
             }
            },
            "type": "scattermapbox"
           }
          ],
          "scatterpolar": [
           {
            "marker": {
             "colorbar": {
              "outlinewidth": 0,
              "ticks": ""
             }
            },
            "type": "scatterpolar"
           }
          ],
          "scatterpolargl": [
           {
            "marker": {
             "colorbar": {
              "outlinewidth": 0,
              "ticks": ""
             }
            },
            "type": "scatterpolargl"
           }
          ],
          "scatterternary": [
           {
            "marker": {
             "colorbar": {
              "outlinewidth": 0,
              "ticks": ""
             }
            },
            "type": "scatterternary"
           }
          ],
          "surface": [
           {
            "colorbar": {
             "outlinewidth": 0,
             "ticks": ""
            },
            "colorscale": [
             [
              0,
              "#0d0887"
             ],
             [
              0.1111111111111111,
              "#46039f"
             ],
             [
              0.2222222222222222,
              "#7201a8"
             ],
             [
              0.3333333333333333,
              "#9c179e"
             ],
             [
              0.4444444444444444,
              "#bd3786"
             ],
             [
              0.5555555555555556,
              "#d8576b"
             ],
             [
              0.6666666666666666,
              "#ed7953"
             ],
             [
              0.7777777777777778,
              "#fb9f3a"
             ],
             [
              0.8888888888888888,
              "#fdca26"
             ],
             [
              1,
              "#f0f921"
             ]
            ],
            "type": "surface"
           }
          ],
          "table": [
           {
            "cells": {
             "fill": {
              "color": "#EBF0F8"
             },
             "line": {
              "color": "white"
             }
            },
            "header": {
             "fill": {
              "color": "#C8D4E3"
             },
             "line": {
              "color": "white"
             }
            },
            "type": "table"
           }
          ]
         },
         "layout": {
          "annotationdefaults": {
           "arrowcolor": "#2a3f5f",
           "arrowhead": 0,
           "arrowwidth": 1
          },
          "autotypenumbers": "strict",
          "coloraxis": {
           "colorbar": {
            "outlinewidth": 0,
            "ticks": ""
           }
          },
          "colorscale": {
           "diverging": [
            [
             0,
             "#8e0152"
            ],
            [
             0.1,
             "#c51b7d"
            ],
            [
             0.2,
             "#de77ae"
            ],
            [
             0.3,
             "#f1b6da"
            ],
            [
             0.4,
             "#fde0ef"
            ],
            [
             0.5,
             "#f7f7f7"
            ],
            [
             0.6,
             "#e6f5d0"
            ],
            [
             0.7,
             "#b8e186"
            ],
            [
             0.8,
             "#7fbc41"
            ],
            [
             0.9,
             "#4d9221"
            ],
            [
             1,
             "#276419"
            ]
           ],
           "sequential": [
            [
             0,
             "#0d0887"
            ],
            [
             0.1111111111111111,
             "#46039f"
            ],
            [
             0.2222222222222222,
             "#7201a8"
            ],
            [
             0.3333333333333333,
             "#9c179e"
            ],
            [
             0.4444444444444444,
             "#bd3786"
            ],
            [
             0.5555555555555556,
             "#d8576b"
            ],
            [
             0.6666666666666666,
             "#ed7953"
            ],
            [
             0.7777777777777778,
             "#fb9f3a"
            ],
            [
             0.8888888888888888,
             "#fdca26"
            ],
            [
             1,
             "#f0f921"
            ]
           ],
           "sequentialminus": [
            [
             0,
             "#0d0887"
            ],
            [
             0.1111111111111111,
             "#46039f"
            ],
            [
             0.2222222222222222,
             "#7201a8"
            ],
            [
             0.3333333333333333,
             "#9c179e"
            ],
            [
             0.4444444444444444,
             "#bd3786"
            ],
            [
             0.5555555555555556,
             "#d8576b"
            ],
            [
             0.6666666666666666,
             "#ed7953"
            ],
            [
             0.7777777777777778,
             "#fb9f3a"
            ],
            [
             0.8888888888888888,
             "#fdca26"
            ],
            [
             1,
             "#f0f921"
            ]
           ]
          },
          "colorway": [
           "#636efa",
           "#EF553B",
           "#00cc96",
           "#ab63fa",
           "#FFA15A",
           "#19d3f3",
           "#FF6692",
           "#B6E880",
           "#FF97FF",
           "#FECB52"
          ],
          "font": {
           "color": "#2a3f5f"
          },
          "geo": {
           "bgcolor": "white",
           "lakecolor": "white",
           "landcolor": "#E5ECF6",
           "showlakes": true,
           "showland": true,
           "subunitcolor": "white"
          },
          "hoverlabel": {
           "align": "left"
          },
          "hovermode": "closest",
          "mapbox": {
           "style": "light"
          },
          "paper_bgcolor": "white",
          "plot_bgcolor": "#E5ECF6",
          "polar": {
           "angularaxis": {
            "gridcolor": "white",
            "linecolor": "white",
            "ticks": ""
           },
           "bgcolor": "#E5ECF6",
           "radialaxis": {
            "gridcolor": "white",
            "linecolor": "white",
            "ticks": ""
           }
          },
          "scene": {
           "xaxis": {
            "backgroundcolor": "#E5ECF6",
            "gridcolor": "white",
            "gridwidth": 2,
            "linecolor": "white",
            "showbackground": true,
            "ticks": "",
            "zerolinecolor": "white"
           },
           "yaxis": {
            "backgroundcolor": "#E5ECF6",
            "gridcolor": "white",
            "gridwidth": 2,
            "linecolor": "white",
            "showbackground": true,
            "ticks": "",
            "zerolinecolor": "white"
           },
           "zaxis": {
            "backgroundcolor": "#E5ECF6",
            "gridcolor": "white",
            "gridwidth": 2,
            "linecolor": "white",
            "showbackground": true,
            "ticks": "",
            "zerolinecolor": "white"
           }
          },
          "shapedefaults": {
           "line": {
            "color": "#2a3f5f"
           }
          },
          "ternary": {
           "aaxis": {
            "gridcolor": "white",
            "linecolor": "white",
            "ticks": ""
           },
           "baxis": {
            "gridcolor": "white",
            "linecolor": "white",
            "ticks": ""
           },
           "bgcolor": "#E5ECF6",
           "caxis": {
            "gridcolor": "white",
            "linecolor": "white",
            "ticks": ""
           }
          },
          "title": {
           "x": 0.05
          },
          "xaxis": {
           "automargin": true,
           "gridcolor": "white",
           "linecolor": "white",
           "ticks": "",
           "title": {
            "standoff": 15
           },
           "zerolinecolor": "white",
           "zerolinewidth": 2
          },
          "yaxis": {
           "automargin": true,
           "gridcolor": "white",
           "linecolor": "white",
           "ticks": "",
           "title": {
            "standoff": 15
           },
           "zerolinecolor": "white",
           "zerolinewidth": 2
          }
         }
        },
        "updatemenus": [
         {
          "buttons": [
           {
            "args": [
             null,
             {
              "frame": {
               "duration": 500,
               "redraw": true
              },
              "fromcurrent": true,
              "mode": "immediate",
              "transition": {
               "duration": 500,
               "easing": "linear"
              }
             }
            ],
            "label": "&#9654;",
            "method": "animate"
           },
           {
            "args": [
             [
              null
             ],
             {
              "frame": {
               "duration": 0,
               "redraw": true
              },
              "fromcurrent": true,
              "mode": "immediate",
              "transition": {
               "duration": 0,
               "easing": "linear"
              }
             }
            ],
            "label": "&#9724;",
            "method": "animate"
           }
          ],
          "direction": "left",
          "pad": {
           "r": 10,
           "t": 70
          },
          "showactive": false,
          "type": "buttons",
          "x": 0.1,
          "xanchor": "right",
          "y": 0,
          "yanchor": "top"
         }
        ]
       }
      },
      "text/html": [
       "<div>                            <div id=\"c51e602b-9fcf-4ecf-80a8-3da8ea16cb09\" class=\"plotly-graph-div\" style=\"height:525px; width:100%;\"></div>            <script type=\"text/javascript\">                require([\"plotly\"], function(Plotly) {                    window.PLOTLYENV=window.PLOTLYENV || {};                                    if (document.getElementById(\"c51e602b-9fcf-4ecf-80a8-3da8ea16cb09\")) {                    Plotly.newPlot(                        \"c51e602b-9fcf-4ecf-80a8-3da8ea16cb09\",                        [{\"geo\":\"geo\",\"hovertemplate\":\"<b>%{hovertext}</b><br><br>Season=2000-01<br>NbClubs=%{marker.color}<br>Latitude=%{lat}<br>Longitude=%{lon}<extra></extra>\",\"hovertext\":[\"London : Charlton, Chelsea, Tottenham, Arsenal, Everton, West Ham\",\"Birmingham : Coventry, Aston Villa\",\"Derby : Derby\",\"Leeds : Leeds\",\"Leicester : Leicester\",\"Liverpool : Liverpool\",\"Sunderland : Sunderland\",\"Manchester : Man United, Man City\",\"Bradford : Bradford\",\"Suffolk : Ipswich\",\"Middlesbrough : Middlesbrough\",\"Newcastle upon Tyne : Newcastle\",\"Southampton : Southampton\"],\"lat\":[51.5073219,52.4796992,52.9212617,53.7974185,52.6361398,53.4071991,54.9058512,53.4794892,53.7944229,52.241001350000005,54.5760419,54.9738474,50.9025349],\"legendgroup\":\"\",\"lon\":[-0.1276474,-1.9026911,-1.4761491,-1.5437941,-1.1330789,-2.99168,-1.3828727,-2.2451148,-1.7519186,1.0466830312565236,-1.2344047,-1.6131572,-1.404189],\"marker\":{\"color\":[6,2,1,1,1,1,1,2,1,1,1,1,1],\"coloraxis\":\"coloraxis\",\"size\":[6,2,1,1,1,1,1,2,1,1,1,1,1],\"sizemode\":\"area\",\"sizeref\":0.02,\"symbol\":\"circle\"},\"mode\":\"markers\",\"name\":\"\",\"showlegend\":false,\"type\":\"scattergeo\"}],                        {\"template\":{\"data\":{\"bar\":[{\"error_x\":{\"color\":\"#2a3f5f\"},\"error_y\":{\"color\":\"#2a3f5f\"},\"marker\":{\"line\":{\"color\":\"#E5ECF6\",\"width\":0.5},\"pattern\":{\"fillmode\":\"overlay\",\"size\":10,\"solidity\":0.2}},\"type\":\"bar\"}],\"barpolar\":[{\"marker\":{\"line\":{\"color\":\"#E5ECF6\",\"width\":0.5},\"pattern\":{\"fillmode\":\"overlay\",\"size\":10,\"solidity\":0.2}},\"type\":\"barpolar\"}],\"carpet\":[{\"aaxis\":{\"endlinecolor\":\"#2a3f5f\",\"gridcolor\":\"white\",\"linecolor\":\"white\",\"minorgridcolor\":\"white\",\"startlinecolor\":\"#2a3f5f\"},\"baxis\":{\"endlinecolor\":\"#2a3f5f\",\"gridcolor\":\"white\",\"linecolor\":\"white\",\"minorgridcolor\":\"white\",\"startlinecolor\":\"#2a3f5f\"},\"type\":\"carpet\"}],\"choropleth\":[{\"colorbar\":{\"outlinewidth\":0,\"ticks\":\"\"},\"type\":\"choropleth\"}],\"contour\":[{\"colorbar\":{\"outlinewidth\":0,\"ticks\":\"\"},\"colorscale\":[[0.0,\"#0d0887\"],[0.1111111111111111,\"#46039f\"],[0.2222222222222222,\"#7201a8\"],[0.3333333333333333,\"#9c179e\"],[0.4444444444444444,\"#bd3786\"],[0.5555555555555556,\"#d8576b\"],[0.6666666666666666,\"#ed7953\"],[0.7777777777777778,\"#fb9f3a\"],[0.8888888888888888,\"#fdca26\"],[1.0,\"#f0f921\"]],\"type\":\"contour\"}],\"contourcarpet\":[{\"colorbar\":{\"outlinewidth\":0,\"ticks\":\"\"},\"type\":\"contourcarpet\"}],\"heatmap\":[{\"colorbar\":{\"outlinewidth\":0,\"ticks\":\"\"},\"colorscale\":[[0.0,\"#0d0887\"],[0.1111111111111111,\"#46039f\"],[0.2222222222222222,\"#7201a8\"],[0.3333333333333333,\"#9c179e\"],[0.4444444444444444,\"#bd3786\"],[0.5555555555555556,\"#d8576b\"],[0.6666666666666666,\"#ed7953\"],[0.7777777777777778,\"#fb9f3a\"],[0.8888888888888888,\"#fdca26\"],[1.0,\"#f0f921\"]],\"type\":\"heatmap\"}],\"heatmapgl\":[{\"colorbar\":{\"outlinewidth\":0,\"ticks\":\"\"},\"colorscale\":[[0.0,\"#0d0887\"],[0.1111111111111111,\"#46039f\"],[0.2222222222222222,\"#7201a8\"],[0.3333333333333333,\"#9c179e\"],[0.4444444444444444,\"#bd3786\"],[0.5555555555555556,\"#d8576b\"],[0.6666666666666666,\"#ed7953\"],[0.7777777777777778,\"#fb9f3a\"],[0.8888888888888888,\"#fdca26\"],[1.0,\"#f0f921\"]],\"type\":\"heatmapgl\"}],\"histogram\":[{\"marker\":{\"pattern\":{\"fillmode\":\"overlay\",\"size\":10,\"solidity\":0.2}},\"type\":\"histogram\"}],\"histogram2d\":[{\"colorbar\":{\"outlinewidth\":0,\"ticks\":\"\"},\"colorscale\":[[0.0,\"#0d0887\"],[0.1111111111111111,\"#46039f\"],[0.2222222222222222,\"#7201a8\"],[0.3333333333333333,\"#9c179e\"],[0.4444444444444444,\"#bd3786\"],[0.5555555555555556,\"#d8576b\"],[0.6666666666666666,\"#ed7953\"],[0.7777777777777778,\"#fb9f3a\"],[0.8888888888888888,\"#fdca26\"],[1.0,\"#f0f921\"]],\"type\":\"histogram2d\"}],\"histogram2dcontour\":[{\"colorbar\":{\"outlinewidth\":0,\"ticks\":\"\"},\"colorscale\":[[0.0,\"#0d0887\"],[0.1111111111111111,\"#46039f\"],[0.2222222222222222,\"#7201a8\"],[0.3333333333333333,\"#9c179e\"],[0.4444444444444444,\"#bd3786\"],[0.5555555555555556,\"#d8576b\"],[0.6666666666666666,\"#ed7953\"],[0.7777777777777778,\"#fb9f3a\"],[0.8888888888888888,\"#fdca26\"],[1.0,\"#f0f921\"]],\"type\":\"histogram2dcontour\"}],\"mesh3d\":[{\"colorbar\":{\"outlinewidth\":0,\"ticks\":\"\"},\"type\":\"mesh3d\"}],\"parcoords\":[{\"line\":{\"colorbar\":{\"outlinewidth\":0,\"ticks\":\"\"}},\"type\":\"parcoords\"}],\"pie\":[{\"automargin\":true,\"type\":\"pie\"}],\"scatter\":[{\"marker\":{\"colorbar\":{\"outlinewidth\":0,\"ticks\":\"\"}},\"type\":\"scatter\"}],\"scatter3d\":[{\"line\":{\"colorbar\":{\"outlinewidth\":0,\"ticks\":\"\"}},\"marker\":{\"colorbar\":{\"outlinewidth\":0,\"ticks\":\"\"}},\"type\":\"scatter3d\"}],\"scattercarpet\":[{\"marker\":{\"colorbar\":{\"outlinewidth\":0,\"ticks\":\"\"}},\"type\":\"scattercarpet\"}],\"scattergeo\":[{\"marker\":{\"colorbar\":{\"outlinewidth\":0,\"ticks\":\"\"}},\"type\":\"scattergeo\"}],\"scattergl\":[{\"marker\":{\"colorbar\":{\"outlinewidth\":0,\"ticks\":\"\"}},\"type\":\"scattergl\"}],\"scattermapbox\":[{\"marker\":{\"colorbar\":{\"outlinewidth\":0,\"ticks\":\"\"}},\"type\":\"scattermapbox\"}],\"scatterpolar\":[{\"marker\":{\"colorbar\":{\"outlinewidth\":0,\"ticks\":\"\"}},\"type\":\"scatterpolar\"}],\"scatterpolargl\":[{\"marker\":{\"colorbar\":{\"outlinewidth\":0,\"ticks\":\"\"}},\"type\":\"scatterpolargl\"}],\"scatterternary\":[{\"marker\":{\"colorbar\":{\"outlinewidth\":0,\"ticks\":\"\"}},\"type\":\"scatterternary\"}],\"surface\":[{\"colorbar\":{\"outlinewidth\":0,\"ticks\":\"\"},\"colorscale\":[[0.0,\"#0d0887\"],[0.1111111111111111,\"#46039f\"],[0.2222222222222222,\"#7201a8\"],[0.3333333333333333,\"#9c179e\"],[0.4444444444444444,\"#bd3786\"],[0.5555555555555556,\"#d8576b\"],[0.6666666666666666,\"#ed7953\"],[0.7777777777777778,\"#fb9f3a\"],[0.8888888888888888,\"#fdca26\"],[1.0,\"#f0f921\"]],\"type\":\"surface\"}],\"table\":[{\"cells\":{\"fill\":{\"color\":\"#EBF0F8\"},\"line\":{\"color\":\"white\"}},\"header\":{\"fill\":{\"color\":\"#C8D4E3\"},\"line\":{\"color\":\"white\"}},\"type\":\"table\"}]},\"layout\":{\"annotationdefaults\":{\"arrowcolor\":\"#2a3f5f\",\"arrowhead\":0,\"arrowwidth\":1},\"autotypenumbers\":\"strict\",\"coloraxis\":{\"colorbar\":{\"outlinewidth\":0,\"ticks\":\"\"}},\"colorscale\":{\"diverging\":[[0,\"#8e0152\"],[0.1,\"#c51b7d\"],[0.2,\"#de77ae\"],[0.3,\"#f1b6da\"],[0.4,\"#fde0ef\"],[0.5,\"#f7f7f7\"],[0.6,\"#e6f5d0\"],[0.7,\"#b8e186\"],[0.8,\"#7fbc41\"],[0.9,\"#4d9221\"],[1,\"#276419\"]],\"sequential\":[[0.0,\"#0d0887\"],[0.1111111111111111,\"#46039f\"],[0.2222222222222222,\"#7201a8\"],[0.3333333333333333,\"#9c179e\"],[0.4444444444444444,\"#bd3786\"],[0.5555555555555556,\"#d8576b\"],[0.6666666666666666,\"#ed7953\"],[0.7777777777777778,\"#fb9f3a\"],[0.8888888888888888,\"#fdca26\"],[1.0,\"#f0f921\"]],\"sequentialminus\":[[0.0,\"#0d0887\"],[0.1111111111111111,\"#46039f\"],[0.2222222222222222,\"#7201a8\"],[0.3333333333333333,\"#9c179e\"],[0.4444444444444444,\"#bd3786\"],[0.5555555555555556,\"#d8576b\"],[0.6666666666666666,\"#ed7953\"],[0.7777777777777778,\"#fb9f3a\"],[0.8888888888888888,\"#fdca26\"],[1.0,\"#f0f921\"]]},\"colorway\":[\"#636efa\",\"#EF553B\",\"#00cc96\",\"#ab63fa\",\"#FFA15A\",\"#19d3f3\",\"#FF6692\",\"#B6E880\",\"#FF97FF\",\"#FECB52\"],\"font\":{\"color\":\"#2a3f5f\"},\"geo\":{\"bgcolor\":\"white\",\"lakecolor\":\"white\",\"landcolor\":\"#E5ECF6\",\"showlakes\":true,\"showland\":true,\"subunitcolor\":\"white\"},\"hoverlabel\":{\"align\":\"left\"},\"hovermode\":\"closest\",\"mapbox\":{\"style\":\"light\"},\"paper_bgcolor\":\"white\",\"plot_bgcolor\":\"#E5ECF6\",\"polar\":{\"angularaxis\":{\"gridcolor\":\"white\",\"linecolor\":\"white\",\"ticks\":\"\"},\"bgcolor\":\"#E5ECF6\",\"radialaxis\":{\"gridcolor\":\"white\",\"linecolor\":\"white\",\"ticks\":\"\"}},\"scene\":{\"xaxis\":{\"backgroundcolor\":\"#E5ECF6\",\"gridcolor\":\"white\",\"gridwidth\":2,\"linecolor\":\"white\",\"showbackground\":true,\"ticks\":\"\",\"zerolinecolor\":\"white\"},\"yaxis\":{\"backgroundcolor\":\"#E5ECF6\",\"gridcolor\":\"white\",\"gridwidth\":2,\"linecolor\":\"white\",\"showbackground\":true,\"ticks\":\"\",\"zerolinecolor\":\"white\"},\"zaxis\":{\"backgroundcolor\":\"#E5ECF6\",\"gridcolor\":\"white\",\"gridwidth\":2,\"linecolor\":\"white\",\"showbackground\":true,\"ticks\":\"\",\"zerolinecolor\":\"white\"}},\"shapedefaults\":{\"line\":{\"color\":\"#2a3f5f\"}},\"ternary\":{\"aaxis\":{\"gridcolor\":\"white\",\"linecolor\":\"white\",\"ticks\":\"\"},\"baxis\":{\"gridcolor\":\"white\",\"linecolor\":\"white\",\"ticks\":\"\"},\"bgcolor\":\"#E5ECF6\",\"caxis\":{\"gridcolor\":\"white\",\"linecolor\":\"white\",\"ticks\":\"\"}},\"title\":{\"x\":0.05},\"xaxis\":{\"automargin\":true,\"gridcolor\":\"white\",\"linecolor\":\"white\",\"ticks\":\"\",\"title\":{\"standoff\":15},\"zerolinecolor\":\"white\",\"zerolinewidth\":2},\"yaxis\":{\"automargin\":true,\"gridcolor\":\"white\",\"linecolor\":\"white\",\"ticks\":\"\",\"title\":{\"standoff\":15},\"zerolinecolor\":\"white\",\"zerolinewidth\":2}}},\"geo\":{\"domain\":{\"x\":[0.0,1.0],\"y\":[0.0,1.0]},\"center\":{},\"scope\":\"europe\"},\"coloraxis\":{\"colorbar\":{\"title\":{\"text\":\"NbClubs\"}},\"colorscale\":[[0.0,\"#0d0887\"],[0.1111111111111111,\"#46039f\"],[0.2222222222222222,\"#7201a8\"],[0.3333333333333333,\"#9c179e\"],[0.4444444444444444,\"#bd3786\"],[0.5555555555555556,\"#d8576b\"],[0.6666666666666666,\"#ed7953\"],[0.7777777777777778,\"#fb9f3a\"],[0.8888888888888888,\"#fdca26\"],[1.0,\"#f0f921\"]]},\"legend\":{\"tracegroupgap\":0,\"itemsizing\":\"constant\"},\"margin\":{\"t\":60},\"updatemenus\":[{\"buttons\":[{\"args\":[null,{\"frame\":{\"duration\":500,\"redraw\":true},\"mode\":\"immediate\",\"fromcurrent\":true,\"transition\":{\"duration\":500,\"easing\":\"linear\"}}],\"label\":\"&#9654;\",\"method\":\"animate\"},{\"args\":[[null],{\"frame\":{\"duration\":0,\"redraw\":true},\"mode\":\"immediate\",\"fromcurrent\":true,\"transition\":{\"duration\":0,\"easing\":\"linear\"}}],\"label\":\"&#9724;\",\"method\":\"animate\"}],\"direction\":\"left\",\"pad\":{\"r\":10,\"t\":70},\"showactive\":false,\"type\":\"buttons\",\"x\":0.1,\"xanchor\":\"right\",\"y\":0,\"yanchor\":\"top\"}],\"sliders\":[{\"active\":0,\"currentvalue\":{\"prefix\":\"Season=\"},\"len\":0.9,\"pad\":{\"b\":10,\"t\":60},\"steps\":[{\"args\":[[\"2000-01\"],{\"frame\":{\"duration\":0,\"redraw\":true},\"mode\":\"immediate\",\"fromcurrent\":true,\"transition\":{\"duration\":0,\"easing\":\"linear\"}}],\"label\":\"2000-01\",\"method\":\"animate\"},{\"args\":[[\"2001-02\"],{\"frame\":{\"duration\":0,\"redraw\":true},\"mode\":\"immediate\",\"fromcurrent\":true,\"transition\":{\"duration\":0,\"easing\":\"linear\"}}],\"label\":\"2001-02\",\"method\":\"animate\"},{\"args\":[[\"2002-03\"],{\"frame\":{\"duration\":0,\"redraw\":true},\"mode\":\"immediate\",\"fromcurrent\":true,\"transition\":{\"duration\":0,\"easing\":\"linear\"}}],\"label\":\"2002-03\",\"method\":\"animate\"},{\"args\":[[\"2003-04\"],{\"frame\":{\"duration\":0,\"redraw\":true},\"mode\":\"immediate\",\"fromcurrent\":true,\"transition\":{\"duration\":0,\"easing\":\"linear\"}}],\"label\":\"2003-04\",\"method\":\"animate\"},{\"args\":[[\"2004-05\"],{\"frame\":{\"duration\":0,\"redraw\":true},\"mode\":\"immediate\",\"fromcurrent\":true,\"transition\":{\"duration\":0,\"easing\":\"linear\"}}],\"label\":\"2004-05\",\"method\":\"animate\"},{\"args\":[[\"2005-06\"],{\"frame\":{\"duration\":0,\"redraw\":true},\"mode\":\"immediate\",\"fromcurrent\":true,\"transition\":{\"duration\":0,\"easing\":\"linear\"}}],\"label\":\"2005-06\",\"method\":\"animate\"},{\"args\":[[\"2006-07\"],{\"frame\":{\"duration\":0,\"redraw\":true},\"mode\":\"immediate\",\"fromcurrent\":true,\"transition\":{\"duration\":0,\"easing\":\"linear\"}}],\"label\":\"2006-07\",\"method\":\"animate\"},{\"args\":[[\"2007-08\"],{\"frame\":{\"duration\":0,\"redraw\":true},\"mode\":\"immediate\",\"fromcurrent\":true,\"transition\":{\"duration\":0,\"easing\":\"linear\"}}],\"label\":\"2007-08\",\"method\":\"animate\"},{\"args\":[[\"2008-09\"],{\"frame\":{\"duration\":0,\"redraw\":true},\"mode\":\"immediate\",\"fromcurrent\":true,\"transition\":{\"duration\":0,\"easing\":\"linear\"}}],\"label\":\"2008-09\",\"method\":\"animate\"},{\"args\":[[\"2009-10\"],{\"frame\":{\"duration\":0,\"redraw\":true},\"mode\":\"immediate\",\"fromcurrent\":true,\"transition\":{\"duration\":0,\"easing\":\"linear\"}}],\"label\":\"2009-10\",\"method\":\"animate\"},{\"args\":[[\"2010-11\"],{\"frame\":{\"duration\":0,\"redraw\":true},\"mode\":\"immediate\",\"fromcurrent\":true,\"transition\":{\"duration\":0,\"easing\":\"linear\"}}],\"label\":\"2010-11\",\"method\":\"animate\"},{\"args\":[[\"2011-12\"],{\"frame\":{\"duration\":0,\"redraw\":true},\"mode\":\"immediate\",\"fromcurrent\":true,\"transition\":{\"duration\":0,\"easing\":\"linear\"}}],\"label\":\"2011-12\",\"method\":\"animate\"},{\"args\":[[\"2012-13\"],{\"frame\":{\"duration\":0,\"redraw\":true},\"mode\":\"immediate\",\"fromcurrent\":true,\"transition\":{\"duration\":0,\"easing\":\"linear\"}}],\"label\":\"2012-13\",\"method\":\"animate\"},{\"args\":[[\"2013-14\"],{\"frame\":{\"duration\":0,\"redraw\":true},\"mode\":\"immediate\",\"fromcurrent\":true,\"transition\":{\"duration\":0,\"easing\":\"linear\"}}],\"label\":\"2013-14\",\"method\":\"animate\"},{\"args\":[[\"2014-15\"],{\"frame\":{\"duration\":0,\"redraw\":true},\"mode\":\"immediate\",\"fromcurrent\":true,\"transition\":{\"duration\":0,\"easing\":\"linear\"}}],\"label\":\"2014-15\",\"method\":\"animate\"},{\"args\":[[\"2015-16\"],{\"frame\":{\"duration\":0,\"redraw\":true},\"mode\":\"immediate\",\"fromcurrent\":true,\"transition\":{\"duration\":0,\"easing\":\"linear\"}}],\"label\":\"2015-16\",\"method\":\"animate\"},{\"args\":[[\"2016-17\"],{\"frame\":{\"duration\":0,\"redraw\":true},\"mode\":\"immediate\",\"fromcurrent\":true,\"transition\":{\"duration\":0,\"easing\":\"linear\"}}],\"label\":\"2016-17\",\"method\":\"animate\"},{\"args\":[[\"2017-18\"],{\"frame\":{\"duration\":0,\"redraw\":true},\"mode\":\"immediate\",\"fromcurrent\":true,\"transition\":{\"duration\":0,\"easing\":\"linear\"}}],\"label\":\"2017-18\",\"method\":\"animate\"}],\"x\":0.1,\"xanchor\":\"left\",\"y\":0,\"yanchor\":\"top\"}]},                        {\"responsive\": true}                    ).then(function(){\n",
       "                            Plotly.addFrames('c51e602b-9fcf-4ecf-80a8-3da8ea16cb09', [{\"data\":[{\"geo\":\"geo\",\"hovertemplate\":\"<b>%{hovertext}</b><br><br>Season=2000-01<br>NbClubs=%{marker.color}<br>Latitude=%{lat}<br>Longitude=%{lon}<extra></extra>\",\"hovertext\":[\"London : Charlton, Chelsea, Tottenham, Arsenal, Everton, West Ham\",\"Birmingham : Coventry, Aston Villa\",\"Derby : Derby\",\"Leeds : Leeds\",\"Leicester : Leicester\",\"Liverpool : Liverpool\",\"Sunderland : Sunderland\",\"Manchester : Man United, Man City\",\"Bradford : Bradford\",\"Suffolk : Ipswich\",\"Middlesbrough : Middlesbrough\",\"Newcastle upon Tyne : Newcastle\",\"Southampton : Southampton\"],\"lat\":[51.5073219,52.4796992,52.9212617,53.7974185,52.6361398,53.4071991,54.9058512,53.4794892,53.7944229,52.241001350000005,54.5760419,54.9738474,50.9025349],\"legendgroup\":\"\",\"lon\":[-0.1276474,-1.9026911,-1.4761491,-1.5437941,-1.1330789,-2.99168,-1.3828727,-2.2451148,-1.7519186,1.0466830312565236,-1.2344047,-1.6131572,-1.404189],\"marker\":{\"color\":[6,2,1,1,1,1,1,2,1,1,1,1,1],\"coloraxis\":\"coloraxis\",\"size\":[6,2,1,1,1,1,1,2,1,1,1,1,1],\"sizemode\":\"area\",\"sizeref\":0.02,\"symbol\":\"circle\"},\"mode\":\"markers\",\"name\":\"\",\"showlegend\":false,\"type\":\"scattergeo\"}],\"name\":\"2000-01\"},{\"data\":[{\"geo\":\"geo\",\"hovertemplate\":\"<b>%{hovertext}</b><br><br>Season=2001-02<br>NbClubs=%{marker.color}<br>Latitude=%{lat}<br>Longitude=%{lon}<extra></extra>\",\"hovertext\":[\"London : Charlton, Tottenham, Chelsea, Everton, Arsenal, Fulham, West Ham\",\"Derby : Derby\",\"Leeds : Leeds\",\"Leicester : Leicester\",\"Liverpool : Liverpool\",\"Middlesbrough : Middlesbrough\",\"Sunderland : Sunderland\",\"Manchester : Man United\",\"Bolton : Bolton\",\"Suffolk : Ipswich\",\"Blackburn : Blackburn\",\"Southampton : Southampton\",\"Birmingham : Aston Villa\",\"Newcastle upon Tyne : Newcastle\"],\"lat\":[51.5073219,52.9212617,53.7974185,52.6361398,53.4071991,54.5760419,54.9058512,53.4794892,53.5782863,52.241001350000005,53.749326,50.9025349,52.4796992,54.9738474],\"legendgroup\":\"\",\"lon\":[-0.1276474,-1.4761491,-1.5437941,-1.1330789,-2.99168,-1.2344047,-1.3828727,-2.2451148,-2.4300367,1.0466830312565236,-2.4840566,-1.404189,-1.9026911,-1.6131572],\"marker\":{\"color\":[7,1,1,1,1,1,1,1,1,1,1,1,1,1],\"coloraxis\":\"coloraxis\",\"size\":[7,1,1,1,1,1,1,1,1,1,1,1,1,1],\"sizemode\":\"area\",\"sizeref\":0.02,\"symbol\":\"circle\"},\"mode\":\"markers\",\"name\":\"\",\"showlegend\":false,\"type\":\"scattergeo\"}],\"name\":\"2001-02\"},{\"data\":[{\"geo\":\"geo\",\"hovertemplate\":\"<b>%{hovertext}</b><br><br>Season=2002-03<br>NbClubs=%{marker.color}<br>Latitude=%{lat}<br>Longitude=%{lon}<extra></extra>\",\"hovertext\":[\"Blackburn : Blackburn\",\"London : Charlton, Everton, Fulham, Arsenal, Chelsea, Tottenham, West Ham\",\"Leeds : Leeds\",\"Manchester : Man United, Man City\",\"Southampton : Southampton\",\"Birmingham : Aston Villa, Birmingham\",\"Newcastle upon Tyne : Newcastle\",\"Bolton : Bolton\",\"Liverpool : Liverpool\",\"Middlesbrough : Middlesboro\",\"Sunderland : Sunderland\",\"West Bromwich : West Brom\"],\"lat\":[53.749326,51.5073219,53.7974185,53.4794892,50.9025349,52.4796992,54.9738474,53.5782863,53.4071991,54.5760419,54.9058512,52.5186579],\"legendgroup\":\"\",\"lon\":[-2.4840566,-0.1276474,-1.5437941,-2.2451148,-1.404189,-1.9026911,-1.6131572,-2.4300367,-2.99168,-1.2344047,-1.3828727,-1.9923114],\"marker\":{\"color\":[1,7,1,2,1,2,1,1,1,1,1,1],\"coloraxis\":\"coloraxis\",\"size\":[1,7,1,2,1,2,1,1,1,1,1,1],\"sizemode\":\"area\",\"sizeref\":0.02,\"symbol\":\"circle\"},\"mode\":\"markers\",\"name\":\"\",\"showlegend\":false,\"type\":\"scattergeo\"}],\"name\":\"2002-03\"},{\"data\":[{\"geo\":\"geo\",\"hovertemplate\":\"<b>%{hovertext}</b><br><br>Season=2003-04<br>NbClubs=%{marker.color}<br>Latitude=%{lat}<br>Longitude=%{lon}<extra></extra>\",\"hovertext\":[\"London : Arsenal, Fulham, Charlton, Chelsea, Everton, Tottenham\",\"Birmingham : Birmingham, Aston Villa\",\"Blackburn : Blackburn\",\"Leicester : Leicester\",\"Manchester : Man United, Man City\",\"Portsmouth : Portsmouth\",\"Leeds : Leeds\",\"Liverpool : Liverpool\",\"Bolton : Bolton\",\"Newcastle upon Tyne : Newcastle\",\"Southampton : Southampton\",\"Wolverhampton : Wolves\",\"Middlesbrough : Middlesbrough\"],\"lat\":[51.5073219,52.4796992,53.749326,52.6361398,53.4794892,50.8036831,53.7974185,53.4071991,53.5782863,54.9738474,50.9025349,52.5847651,54.5760419],\"legendgroup\":\"\",\"lon\":[-0.1276474,-1.9026911,-2.4840566,-1.1330789,-2.2451148,-1.075614,-1.5437941,-2.99168,-2.4300367,-1.6131572,-1.404189,-2.127567,-1.2344047],\"marker\":{\"color\":[6,2,1,1,2,1,1,1,1,1,1,1,1],\"coloraxis\":\"coloraxis\",\"size\":[6,2,1,1,2,1,1,1,1,1,1,1,1],\"sizemode\":\"area\",\"sizeref\":0.02,\"symbol\":\"circle\"},\"mode\":\"markers\",\"name\":\"\",\"showlegend\":false,\"type\":\"scattergeo\"}],\"name\":\"2003-04\"},{\"data\":[{\"geo\":\"geo\",\"hovertemplate\":\"<b>%{hovertext}</b><br><br>Season=2004-05<br>NbClubs=%{marker.color}<br>Latitude=%{lat}<br>Longitude=%{lon}<extra></extra>\",\"hovertext\":[\"Birmingham : Aston Villa, Birmingham\",\"Blackburn : Blackburn\",\"Bolton : Bolton\",\"Manchester : Man City, Man United\",\"Middlesbrough : Middlesbrough\",\"Norwich : Norwich\",\"Portsmouth : Portsmouth\",\"London : Tottenham, Chelsea, Everton, Charlton, Crystal Palace, Fulham, Arsenal\",\"Liverpool : Liverpool\",\"Newcastle upon Tyne : Newcastle\",\"Southampton : Southampton\",\"West Bromwich : West Brom\"],\"lat\":[52.4796992,53.749326,53.5782863,53.4794892,54.5760419,52.628606,50.8036831,51.5073219,53.4071991,54.9738474,50.9025349,52.5186579],\"legendgroup\":\"\",\"lon\":[-1.9026911,-2.4840566,-2.4300367,-2.2451148,-1.2344047,1.29227,-1.075614,-0.1276474,-2.99168,-1.6131572,-1.404189,-1.9923114],\"marker\":{\"color\":[2,1,1,2,1,1,1,7,1,1,1,1],\"coloraxis\":\"coloraxis\",\"size\":[2,1,1,2,1,1,1,7,1,1,1,1],\"sizemode\":\"area\",\"sizeref\":0.02,\"symbol\":\"circle\"},\"mode\":\"markers\",\"name\":\"\",\"showlegend\":false,\"type\":\"scattergeo\"}],\"name\":\"2004-05\"},{\"data\":[{\"geo\":\"geo\",\"hovertemplate\":\"<b>%{hovertext}</b><br><br>Season=2005-06<br>NbClubs=%{marker.color}<br>Latitude=%{lat}<br>Longitude=%{lon}<extra></extra>\",\"hovertext\":[\"Birmingham : Aston Villa, Birmingham\",\"London : Everton, Fulham, West Ham, Arsenal, Charlton, Tottenham, Chelsea\",\"Manchester : Man City, Man United\",\"Middlesbrough : Middlesbrough\",\"Portsmouth : Portsmouth\",\"Sunderland : Sunderland\",\"Wigan : Wigan\",\"Blackburn : Blackburn\",\"Liverpool : Liverpool\",\"Newcastle upon Tyne : Newcastle\",\"West Bromwich : West Brom\",\"Bolton : Bolton\"],\"lat\":[52.4796992,51.5073219,53.4794892,54.5760419,50.8036831,54.9058512,53.5457188,53.749326,53.4071991,54.9738474,52.5186579,53.5782863],\"legendgroup\":\"\",\"lon\":[-1.9026911,-0.1276474,-2.2451148,-1.2344047,-1.075614,-1.3828727,-2.6264624,-2.4840566,-2.99168,-1.6131572,-1.9923114,-2.4300367],\"marker\":{\"color\":[2,7,2,1,1,1,1,1,1,1,1,1],\"coloraxis\":\"coloraxis\",\"size\":[2,7,2,1,1,1,1,1,1,1,1,1],\"sizemode\":\"area\",\"sizeref\":0.02,\"symbol\":\"circle\"},\"mode\":\"markers\",\"name\":\"\",\"showlegend\":false,\"type\":\"scattergeo\"}],\"name\":\"2005-06\"},{\"data\":[{\"geo\":\"geo\",\"hovertemplate\":\"<b>%{hovertext}</b><br><br>Season=2006-07<br>NbClubs=%{marker.color}<br>Latitude=%{lat}<br>Longitude=%{lon}<extra></extra>\",\"hovertext\":[\"London : Arsenal, Everton, West Ham, Chelsea, Tottenham, Charlton, Fulham\",\"Bolton : Bolton\",\"Newcastle upon Tyne : Newcastle\",\"Portsmouth : Portsmouth\",\"Reading : Reading\",\"Sheffield : Sheffield United\",\"Manchester : Man United, Man City\",\"Watford : Watford\",\"Birmingham : Aston Villa\",\"Blackburn : Blackburn\",\"Middlesbrough : Middlesbrough\",\"Liverpool : Liverpool\",\"Wigan : Wigan\"],\"lat\":[51.5073219,53.5782863,54.9738474,50.8036831,51.456659,53.3806626,53.4794892,51.6553875,52.4796992,53.749326,54.5760419,53.4071991,53.5457188],\"legendgroup\":\"\",\"lon\":[-0.1276474,-2.4300367,-1.6131572,-1.075614,-0.9696512,-1.4702278,-2.2451148,-0.3957425,-1.9026911,-2.4840566,-1.2344047,-2.99168,-2.6264624],\"marker\":{\"color\":[7,1,1,1,1,1,2,1,1,1,1,1,1],\"coloraxis\":\"coloraxis\",\"size\":[7,1,1,1,1,1,2,1,1,1,1,1,1],\"sizemode\":\"area\",\"sizeref\":0.02,\"symbol\":\"circle\"},\"mode\":\"markers\",\"name\":\"\",\"showlegend\":false,\"type\":\"scattergeo\"}],\"name\":\"2006-07\"},{\"data\":[{\"geo\":\"geo\",\"hovertemplate\":\"<b>%{hovertext}</b><br><br>Season=2007-08<br>NbClubs=%{marker.color}<br>Latitude=%{lat}<br>Longitude=%{lon}<extra></extra>\",\"hovertext\":[\"Birmingham : Aston Villa, Birmingham\",\"Bolton : Bolton\",\"Derby : Derby\",\"London : Everton, West Ham, Arsenal, Chelsea, Tottenham, Fulham\",\"Middlesbrough : Middlesbrough\",\"Sunderland : Sunderland\",\"Manchester : Man United, Man City\",\"Portsmouth : Portsmouth\",\"Reading : Reading\",\"Wigan : Wigan\",\"Newcastle upon Tyne : Newcastle\",\"Blackburn : Blackburn\",\"Liverpool : Liverpool\"],\"lat\":[52.4796992,53.5782863,52.9212617,51.5073219,54.5760419,54.9058512,53.4794892,50.8036831,51.456659,53.5457188,54.9738474,53.749326,53.4071991],\"legendgroup\":\"\",\"lon\":[-1.9026911,-2.4300367,-1.4761491,-0.1276474,-1.2344047,-1.3828727,-2.2451148,-1.075614,-0.9696512,-2.6264624,-1.6131572,-2.4840566,-2.99168],\"marker\":{\"color\":[2,1,1,6,1,1,2,1,1,1,1,1,1],\"coloraxis\":\"coloraxis\",\"size\":[2,1,1,6,1,1,2,1,1,1,1,1,1],\"sizemode\":\"area\",\"sizeref\":0.02,\"symbol\":\"circle\"},\"mode\":\"markers\",\"name\":\"\",\"showlegend\":false,\"type\":\"scattergeo\"}],\"name\":\"2007-08\"},{\"data\":[{\"geo\":\"geo\",\"hovertemplate\":\"<b>%{hovertext}</b><br><br>Season=2008-09<br>NbClubs=%{marker.color}<br>Latitude=%{lat}<br>Longitude=%{lon}<extra></extra>\",\"hovertext\":[\"London : Arsenal, Everton, West Ham, Chelsea, Fulham, Tottenham\",\"Bolton : Bolton\",\"Hull : Hull\",\"Middlesbrough : Middlesbrough\",\"Sunderland : Sunderland\",\"Birmingham : Aston Villa\",\"Manchester : Man United, Man City\",\"Blackburn : Blackburn\",\"Liverpool : Liverpool\",\"Newcastle upon Tyne : Newcastle\",\"Stoke-on-Trent : Stoke\",\"West Bromwich : West Brom\",\"Wigan : Wigan\",\"Portsmouth : Portsmouth\"],\"lat\":[51.5073219,53.5782863,53.7435722,54.5760419,54.9058512,52.4796992,53.4794892,53.749326,53.4071991,54.9738474,53.0162014,52.5186579,53.5457188,50.8036831],\"legendgroup\":\"\",\"lon\":[-0.1276474,-2.4300367,-0.3394758,-1.2344047,-1.3828727,-1.9026911,-2.2451148,-2.4840566,-2.99168,-1.6131572,-2.1812607,-1.9923114,-2.6264624,-1.075614],\"marker\":{\"color\":[6,1,1,1,1,1,2,1,1,1,1,1,1,1],\"coloraxis\":\"coloraxis\",\"size\":[6,1,1,1,1,1,2,1,1,1,1,1,1,1],\"sizemode\":\"area\",\"sizeref\":0.02,\"symbol\":\"circle\"},\"mode\":\"markers\",\"name\":\"\",\"showlegend\":false,\"type\":\"scattergeo\"}],\"name\":\"2008-09\"},{\"data\":[{\"geo\":\"geo\",\"hovertemplate\":\"<b>%{hovertext}</b><br><br>Season=2009-10<br>NbClubs=%{marker.color}<br>Latitude=%{lat}<br>Longitude=%{lon}<extra></extra>\",\"hovertext\":[\"Birmingham : Aston Villa, Birmingham\",\"Blackburn : Blackburn\",\"Bolton : Bolton\",\"London : Chelsea, Everton, Tottenham, Burnley, Arsenal, Fulham, West Ham\",\"Portsmouth : Portsmouth\",\"Stoke-on-Trent : Stoke\",\"Wolverhampton : Wolves\",\"Manchester : Man United, Man City\",\"Sunderland : Sunderland\",\"Wigan : Wigan\",\"Hull : Hull\",\"Liverpool : Liverpool\"],\"lat\":[52.4796992,53.749326,53.5782863,51.5073219,50.8036831,53.0162014,52.5847651,53.4794892,54.9058512,53.5457188,53.7435722,53.4071991],\"legendgroup\":\"\",\"lon\":[-1.9026911,-2.4840566,-2.4300367,-0.1276474,-1.075614,-2.1812607,-2.127567,-2.2451148,-1.3828727,-2.6264624,-0.3394758,-2.99168],\"marker\":{\"color\":[2,1,1,7,1,1,1,2,1,1,1,1],\"coloraxis\":\"coloraxis\",\"size\":[2,1,1,7,1,1,1,2,1,1,1,1],\"sizemode\":\"area\",\"sizeref\":0.02,\"symbol\":\"circle\"},\"mode\":\"markers\",\"name\":\"\",\"showlegend\":false,\"type\":\"scattergeo\"}],\"name\":\"2009-10\"},{\"data\":[{\"geo\":\"geo\",\"hovertemplate\":\"<b>%{hovertext}</b><br><br>Season=2010-11<br>NbClubs=%{marker.color}<br>Latitude=%{lat}<br>Longitude=%{lon}<extra></extra>\",\"hovertext\":[\"Birmingham : Aston Villa, Birmingham\",\"Blackburn : Blackburn\",\"Bolton : Bolton\",\"London : Chelsea, Tottenham, Arsenal, Everton, West Ham, Fulham\",\"Sunderland : Sunderland\",\"Wigan : Wigan\",\"Wolverhampton : Wolves\",\"Liverpool : Liverpool\",\"Manchester : Man United, Man City\",\"Stoke-on-Trent : Stoke\",\"West Bromwich : West Brom\",\"Newcastle upon Tyne : Newcastle\",\"Blackpool : Blackpool\"],\"lat\":[52.4796992,53.749326,53.5782863,51.5073219,54.9058512,53.5457188,52.5847651,53.4071991,53.4794892,53.0162014,52.5186579,54.9738474,53.8182212],\"legendgroup\":\"\",\"lon\":[-1.9026911,-2.4840566,-2.4300367,-0.1276474,-1.3828727,-2.6264624,-2.127567,-2.99168,-2.2451148,-2.1812607,-1.9923114,-1.6131572,-3.0564845],\"marker\":{\"color\":[2,1,1,6,1,1,1,1,2,1,1,1,1],\"coloraxis\":\"coloraxis\",\"size\":[2,1,1,6,1,1,1,1,2,1,1,1,1],\"sizemode\":\"area\",\"sizeref\":0.02,\"symbol\":\"circle\"},\"mode\":\"markers\",\"name\":\"\",\"showlegend\":false,\"type\":\"scattergeo\"}],\"name\":\"2010-11\"},{\"data\":[{\"geo\":\"geo\",\"hovertemplate\":\"<b>%{hovertext}</b><br><br>Season=2011-12<br>NbClubs=%{marker.color}<br>Latitude=%{lat}<br>Longitude=%{lon}<extra></extra>\",\"hovertext\":[\"Blackburn : Blackburn\",\"London : Fulham, QPR, Arsenal, Chelsea, Everton, Tottenham\",\"Liverpool : Liverpool\",\"Newcastle upon Tyne : Newcastle\",\"Wigan : Wigan\",\"Stoke-on-Trent : Stoke\",\"West Bromwich : West Brom\",\"Manchester : Man City, Man United\",\"Birmingham : Aston Villa\",\"Sunderland : Sunderland\",\"Swansea : Swansea\",\"Bolton : Bolton\",\"Norwich : Norwich\",\"Wolverhampton : Wolves\"],\"lat\":[53.749326,51.5073219,53.4071991,54.9738474,53.5457188,53.0162014,52.5186579,53.4794892,52.4796992,54.9058512,51.6195955,53.5782863,52.628606,52.5847651],\"legendgroup\":\"\",\"lon\":[-2.4840566,-0.1276474,-2.99168,-1.6131572,-2.6264624,-2.1812607,-1.9923114,-2.2451148,-1.9026911,-1.3828727,-3.9459248,-2.4300367,1.29227,-2.127567],\"marker\":{\"color\":[1,6,1,1,1,1,1,2,1,1,1,1,1,1],\"coloraxis\":\"coloraxis\",\"size\":[1,6,1,1,1,1,1,2,1,1,1,1,1,1],\"sizemode\":\"area\",\"sizeref\":0.02,\"symbol\":\"circle\"},\"mode\":\"markers\",\"name\":\"\",\"showlegend\":false,\"type\":\"scattergeo\"}],\"name\":\"2011-12\"},{\"data\":[{\"geo\":\"geo\",\"hovertemplate\":\"<b>%{hovertext}</b><br><br>Season=2012-13<br>NbClubs=%{marker.color}<br>Latitude=%{lat}<br>Longitude=%{lon}<extra></extra>\",\"hovertext\":[\"London : Arsenal, Fulham, QPR, West Ham, Everton, Chelsea, Tottenham\",\"Newcastle upon Tyne : Newcastle\",\"Reading : Reading\",\"West Bromwich : West Brom\",\"Manchester : Man City, Man United\",\"Wigan : Wigan\",\"Birmingham : Aston Villa\",\"Norwich : Norwich\",\"Southampton : Southampton\",\"Swansea : Swansea\",\"Liverpool : Liverpool\",\"Stoke-on-Trent : Stoke\",\"Sunderland : Sunderland\"],\"lat\":[51.5073219,54.9738474,51.456659,52.5186579,53.4794892,53.5457188,52.4796992,52.628606,50.9025349,51.6195955,53.4071991,53.0162014,54.9058512],\"legendgroup\":\"\",\"lon\":[-0.1276474,-1.6131572,-0.9696512,-1.9923114,-2.2451148,-2.6264624,-1.9026911,1.29227,-1.404189,-3.9459248,-2.99168,-2.1812607,-1.3828727],\"marker\":{\"color\":[7,1,1,1,2,1,1,1,1,1,1,1,1],\"coloraxis\":\"coloraxis\",\"size\":[7,1,1,1,2,1,1,1,1,1,1,1,1],\"sizemode\":\"area\",\"sizeref\":0.02,\"symbol\":\"circle\"},\"mode\":\"markers\",\"name\":\"\",\"showlegend\":false,\"type\":\"scattergeo\"}],\"name\":\"2012-13\"},{\"data\":[{\"geo\":\"geo\",\"hovertemplate\":\"<b>%{hovertext}</b><br><br>Season=2013-14<br>NbClubs=%{marker.color}<br>Latitude=%{lat}<br>Longitude=%{lon}<extra></extra>\",\"hovertext\":[\"London : Arsenal, West Ham, Chelsea, Crystal Palace, Everton, Fulham, Tottenham\",\"Liverpool : Liverpool\",\"Norwich : Norwich\",\"Sunderland : Sunderland\",\"Swansea : Swansea\",\"West Bromwich : West Brom\",\"Manchester : Man City, Man United\",\"Birmingham : Aston Villa\",\"Hull : Hull\",\"Newcastle upon Tyne : Newcastle\",\"Southampton : Southampton\",\"Stoke-on-Trent : Stoke\",\"Cardiff : Cardiff\"],\"lat\":[51.5073219,53.4071991,52.628606,54.9058512,51.6195955,52.5186579,53.4794892,52.4796992,53.7435722,54.9738474,50.9025349,53.0162014,51.4816546],\"legendgroup\":\"\",\"lon\":[-0.1276474,-2.99168,1.29227,-1.3828727,-3.9459248,-1.9923114,-2.2451148,-1.9026911,-0.3394758,-1.6131572,-1.404189,-2.1812607,-3.1791934],\"marker\":{\"color\":[7,1,1,1,1,1,2,1,1,1,1,1,1],\"coloraxis\":\"coloraxis\",\"size\":[7,1,1,1,1,1,2,1,1,1,1,1,1],\"sizemode\":\"area\",\"sizeref\":0.02,\"symbol\":\"circle\"},\"mode\":\"markers\",\"name\":\"\",\"showlegend\":false,\"type\":\"scattergeo\"}],\"name\":\"2013-14\"},{\"data\":[{\"geo\":\"geo\",\"hovertemplate\":\"<b>%{hovertext}</b><br><br>Season=2014-15<br>NbClubs=%{marker.color}<br>Latitude=%{lat}<br>Longitude=%{lon}<extra></extra>\",\"hovertext\":[\"London : Arsenal, QPR, West Ham, Burnley, Chelsea, Crystal Palace, Everton, Tottenham\",\"Leicester : Leicester\",\"Manchester : Man United, Man City\",\"Stoke-on-Trent : Stoke\",\"West Bromwich : West Brom\",\"Liverpool : Liverpool\",\"Newcastle upon Tyne : Newcastle\",\"Birmingham : Aston Villa\",\"Southampton : Southampton\",\"Swansea : Swansea\",\"Hull : Hull\",\"Sunderland : Sunderland\"],\"lat\":[51.5073219,52.6361398,53.4794892,53.0162014,52.5186579,53.4071991,54.9738474,52.4796992,50.9025349,51.6195955,53.7435722,54.9058512],\"legendgroup\":\"\",\"lon\":[-0.1276474,-1.1330789,-2.2451148,-2.1812607,-1.9923114,-2.99168,-1.6131572,-1.9026911,-1.404189,-3.9459248,-0.3394758,-1.3828727],\"marker\":{\"color\":[8,1,2,1,1,1,1,1,1,1,1,1],\"coloraxis\":\"coloraxis\",\"size\":[8,1,2,1,1,1,1,1,1,1,1,1],\"sizemode\":\"area\",\"sizeref\":0.02,\"symbol\":\"circle\"},\"mode\":\"markers\",\"name\":\"\",\"showlegend\":false,\"type\":\"scattergeo\"}],\"name\":\"2014-15\"},{\"data\":[{\"geo\":\"geo\",\"hovertemplate\":\"<b>%{hovertext}</b><br><br>Season=2015-16<br>NbClubs=%{marker.color}<br>Latitude=%{lat}<br>Longitude=%{lon}<extra></extra>\",\"hovertext\":[\"Bournemouth : Bournemouth\",\"London : Chelsea, Everton, Arsenal, Tottenham, West Ham, Crystal Palace\",\"Leicester : Leicester\",\"Manchester : Man United, Man City\",\"Norwich : Norwich\",\"Newcastle upon Tyne : Newcastle\",\"Stoke-on-Trent : Stoke\",\"West Bromwich : West Brom\",\"Birmingham : Aston Villa\",\"Southampton : Southampton\",\"Sunderland : Sunderland\",\"Swansea : Swansea\",\"Watford : Watford\",\"Liverpool : Liverpool\"],\"lat\":[50.7194784,51.5073219,52.6361398,53.4794892,52.628606,54.9738474,53.0162014,52.5186579,52.4796992,50.9025349,54.9058512,51.6195955,51.6553875,53.4071991],\"legendgroup\":\"\",\"lon\":[-1.8767712,-0.1276474,-1.1330789,-2.2451148,1.29227,-1.6131572,-2.1812607,-1.9923114,-1.9026911,-1.404189,-1.3828727,-3.9459248,-0.3957425,-2.99168],\"marker\":{\"color\":[1,6,1,2,1,1,1,1,1,1,1,1,1,1],\"coloraxis\":\"coloraxis\",\"size\":[1,6,1,2,1,1,1,1,1,1,1,1,1,1],\"sizemode\":\"area\",\"sizeref\":0.02,\"symbol\":\"circle\"},\"mode\":\"markers\",\"name\":\"\",\"showlegend\":false,\"type\":\"scattergeo\"}],\"name\":\"2015-16\"},{\"data\":[{\"geo\":\"geo\",\"hovertemplate\":\"<b>%{hovertext}</b><br><br>Season=2016-17<br>NbClubs=%{marker.color}<br>Latitude=%{lat}<br>Longitude=%{lon}<extra></extra>\",\"hovertext\":[\"London : Burnley, Crystal Palace, Everton, Arsenal, Chelsea, Tottenham, West Ham\",\"Hull : Hull\",\"Manchester : Man City, Man United\",\"Middlesbrough : Middlesbrough\",\"Southampton : Southampton\",\"Bournemouth : Bournemouth\",\"Leicester : Leicester\",\"Stoke-on-Trent : Stoke\",\"Swansea : Swansea\",\"Watford : Watford\",\"West Bromwich : West Brom\",\"Sunderland : Sunderland\",\"Liverpool : Liverpool\"],\"lat\":[51.5073219,53.7435722,53.4794892,54.5760419,50.9025349,50.7194784,52.6361398,53.0162014,51.6195955,51.6553875,52.5186579,54.9058512,53.4071991],\"legendgroup\":\"\",\"lon\":[-0.1276474,-0.3394758,-2.2451148,-1.2344047,-1.404189,-1.8767712,-1.1330789,-2.1812607,-3.9459248,-0.3957425,-1.9923114,-1.3828727,-2.99168],\"marker\":{\"color\":[7,1,2,1,1,1,1,1,1,1,1,1,1],\"coloraxis\":\"coloraxis\",\"size\":[7,1,2,1,1,1,1,1,1,1,1,1,1],\"sizemode\":\"area\",\"sizeref\":0.02,\"symbol\":\"circle\"},\"mode\":\"markers\",\"name\":\"\",\"showlegend\":false,\"type\":\"scattergeo\"}],\"name\":\"2016-17\"},{\"data\":[{\"geo\":\"geo\",\"hovertemplate\":\"<b>%{hovertext}</b><br><br>Season=2017-18<br>NbClubs=%{marker.color}<br>Latitude=%{lat}<br>Longitude=%{lon}<extra></extra>\",\"hovertext\":[\"London : Arsenal, Chelsea, Crystal Palace, Everton, Burnley, Tottenham, West Ham\",\"Brighton : Brighton\",\"Southampton : Southampton\",\"Watford : Watford\",\"West Bromwich : West Brom\",\"Manchester : Man United, Man City\",\"Newcastle upon Tyne : Newcastle\",\"Bournemouth : Bournemouth\",\"Leicester : Leicester\",\"Liverpool : Liverpool\",\"Stoke-on-Trent : Stoke\",\"Swansea : Swansea\",\"Huddersfield : Huddersfield\"],\"lat\":[51.5073219,50.8214626,50.9025349,51.6553875,52.5186579,53.4794892,54.9738474,50.7194784,52.6361398,53.4071991,53.0162014,51.6195955,53.6466645],\"legendgroup\":\"\",\"lon\":[-0.1276474,-0.1400561,-1.404189,-0.3957425,-1.9923114,-2.2451148,-1.6131572,-1.8767712,-1.1330789,-2.99168,-2.1812607,-3.9459248,-1.7822482],\"marker\":{\"color\":[7,1,1,1,1,2,1,1,1,1,1,1,1],\"coloraxis\":\"coloraxis\",\"size\":[7,1,1,1,1,2,1,1,1,1,1,1,1],\"sizemode\":\"area\",\"sizeref\":0.02,\"symbol\":\"circle\"},\"mode\":\"markers\",\"name\":\"\",\"showlegend\":false,\"type\":\"scattergeo\"}],\"name\":\"2017-18\"}]);\n",
       "                        }).then(function(){\n",
       "                            \n",
       "var gd = document.getElementById('c51e602b-9fcf-4ecf-80a8-3da8ea16cb09');\n",
       "var x = new MutationObserver(function (mutations, observer) {{\n",
       "        var display = window.getComputedStyle(gd).display;\n",
       "        if (!display || display === 'none') {{\n",
       "            console.log([gd, 'removed!']);\n",
       "            Plotly.purge(gd);\n",
       "            observer.disconnect();\n",
       "        }}\n",
       "}});\n",
       "\n",
       "// Listen for the removal of the full notebook cells\n",
       "var notebookContainer = gd.closest('#notebook-container');\n",
       "if (notebookContainer) {{\n",
       "    x.observe(notebookContainer, {childList: true});\n",
       "}}\n",
       "\n",
       "// Listen for the clearing of the current output cell\n",
       "var outputEl = gd.closest('.output');\n",
       "if (outputEl) {{\n",
       "    x.observe(outputEl, {childList: true});\n",
       "}}\n",
       "\n",
       "                        })                };                });            </script>        </div>"
      ]
     },
     "metadata": {},
     "output_type": "display_data"
    }
   ],
   "source": [
    "px.scatter_geo(df2, lat = 'Latitude', lon = 'Longitude', size = 'NbClubs',color = 'NbClubs', scope = 'europe', hover_name = 'text', animation_frame = 'Season')"
   ]
  },
  {
   "cell_type": "code",
   "execution_count": null,
   "id": "8c79300f",
   "metadata": {},
   "outputs": [],
   "source": []
  }
 ],
 "metadata": {
  "kernelspec": {
   "display_name": "Python 3",
   "language": "python",
   "name": "python3"
  },
  "language_info": {
   "codemirror_mode": {
    "name": "ipython",
    "version": 3
   },
   "file_extension": ".py",
   "mimetype": "text/x-python",
   "name": "python",
   "nbconvert_exporter": "python",
   "pygments_lexer": "ipython3",
   "version": "3.8.8"
  }
 },
 "nbformat": 4,
 "nbformat_minor": 5
}
